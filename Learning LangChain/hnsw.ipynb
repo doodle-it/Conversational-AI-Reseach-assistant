{
 "cells": [
  {
   "cell_type": "code",
   "execution_count": 15,
   "metadata": {},
   "outputs": [
    {
     "ename": "FileNotFoundError",
     "evalue": "[Errno 2] No such file or directory: '../../sift/sift_base.fvecs'",
     "output_type": "error",
     "traceback": [
      "\u001b[1;31m---------------------------------------------------------------------------\u001b[0m",
      "\u001b[1;31mFileNotFoundError\u001b[0m                         Traceback (most recent call last)",
      "Cell \u001b[1;32mIn[15], line 11\u001b[0m\n\u001b[0;32m      8\u001b[0m     \u001b[38;5;28;01mreturn\u001b[39;00m a\u001b[38;5;241m.\u001b[39mreshape(\u001b[38;5;241m-\u001b[39m\u001b[38;5;241m1\u001b[39m,d\u001b[38;5;241m+\u001b[39m\u001b[38;5;241m1\u001b[39m)[:,\u001b[38;5;241m1\u001b[39m:]\u001b[38;5;241m.\u001b[39mcopy()\u001b[38;5;241m.\u001b[39mview(\u001b[38;5;124m'\u001b[39m\u001b[38;5;124mfloat32\u001b[39m\u001b[38;5;124m'\u001b[39m)\n\u001b[0;32m     10\u001b[0m \u001b[38;5;66;03m#1M samples\u001b[39;00m\n\u001b[1;32m---> 11\u001b[0m xb \u001b[38;5;241m=\u001b[39m \u001b[43mread_fvecs\u001b[49m\u001b[43m(\u001b[49m\u001b[38;5;124;43m'\u001b[39;49m\u001b[38;5;124;43m../../sift/sift_base.fvecs\u001b[39;49m\u001b[38;5;124;43m'\u001b[39;49m\u001b[43m)\u001b[49m\n\u001b[0;32m     12\u001b[0m \u001b[38;5;66;03m#queries\u001b[39;00m\n\u001b[0;32m     13\u001b[0m xq \u001b[38;5;241m=\u001b[39m read_fvecs(\u001b[38;5;124m'\u001b[39m\u001b[38;5;124m../../sift/sift_query.fvecs\u001b[39m\u001b[38;5;124m'\u001b[39m)[\u001b[38;5;241m0\u001b[39m]\u001b[38;5;241m.\u001b[39mreshape[\u001b[38;5;241m1\u001b[39m,\u001b[38;5;241m-\u001b[39m\u001b[38;5;241m1\u001b[39m]\n",
      "Cell \u001b[1;32mIn[15], line 6\u001b[0m, in \u001b[0;36mread_fvecs\u001b[1;34m(fp)\u001b[0m\n\u001b[0;32m      5\u001b[0m \u001b[38;5;28;01mdef\u001b[39;00m \u001b[38;5;21mread_fvecs\u001b[39m(fp):\n\u001b[1;32m----> 6\u001b[0m     a \u001b[38;5;241m=\u001b[39m \u001b[43mnp\u001b[49m\u001b[38;5;241;43m.\u001b[39;49m\u001b[43mfromfile\u001b[49m\u001b[43m(\u001b[49m\u001b[43mfp\u001b[49m\u001b[43m,\u001b[49m\u001b[43mdtype\u001b[49m\u001b[38;5;241;43m=\u001b[39;49m\u001b[38;5;124;43m'\u001b[39;49m\u001b[38;5;124;43mint32\u001b[39;49m\u001b[38;5;124;43m'\u001b[39;49m\u001b[43m)\u001b[49m\n\u001b[0;32m      7\u001b[0m     d \u001b[38;5;241m=\u001b[39m a[\u001b[38;5;241m0\u001b[39m]\n\u001b[0;32m      8\u001b[0m     \u001b[38;5;28;01mreturn\u001b[39;00m a\u001b[38;5;241m.\u001b[39mreshape(\u001b[38;5;241m-\u001b[39m\u001b[38;5;241m1\u001b[39m,d\u001b[38;5;241m+\u001b[39m\u001b[38;5;241m1\u001b[39m)[:,\u001b[38;5;241m1\u001b[39m:]\u001b[38;5;241m.\u001b[39mcopy()\u001b[38;5;241m.\u001b[39mview(\u001b[38;5;124m'\u001b[39m\u001b[38;5;124mfloat32\u001b[39m\u001b[38;5;124m'\u001b[39m)\n",
      "\u001b[1;31mFileNotFoundError\u001b[0m: [Errno 2] No such file or directory: '../../sift/sift_base.fvecs'"
     ]
    }
   ],
   "source": [
    "import faiss\n",
    "import numpy as np\n",
    "\n",
    "#now define a function to read the fvecs file format of Sift1M dataset\n",
    "def read_fvecs(fp):\n",
    "    a = np.fromfile(fp,dtype='int32')\n",
    "    d = a[0]\n",
    "    return a.reshape(-1,d+1)[:,1:].copy().view('float32')\n",
    "\n",
    "#1M samples\n",
    "xb = read_fvecs('../../sift/sift_base.fvecs')\n",
    "#queries\n",
    "xq = read_fvecs('../../sift/sift_query.fvecs')[0].reshape[1,-1]\n",
    "xq_full = read_fvecs('../../sift/sift_query.fvecs')"
   ]
  },
  {
   "cell_type": "code",
   "execution_count": 11,
   "metadata": {},
   "outputs": [],
   "source": [
    "d = 128\n",
    "M = 32 \n",
    "\n",
    "index = faiss.IndexHNSWFlat(d,M)\n",
    "\n",
    "\n",
    "# d: data dimensionality.\n",
    "# M: the number of edges that need to be added to every new node during insertion.\n",
    "# hnsw.efConstruction: number of nearest neighbours to explore during construction.\n",
    "# hnsw.efSearch: number of nearest neighbours to explore during search.\n",
    "# hnsw.max_level: returns the maximum layer.\n",
    "# hnsw.entry_point: returns the entry point.\n",
    "# faiss.vector_to_array(index.hnsw.levels): returns a list of maximum layers for each vector\n",
    "# hnsw.set_default_probas(M: int, level_mult: float): allows setting M and mL values respectively. By default, level_mult is set to 1 / ln(M)."
   ]
  },
  {
   "cell_type": "code",
   "execution_count": 12,
   "metadata": {},
   "outputs": [
    {
     "data": {
      "text/plain": [
       "-1"
      ]
     },
     "execution_count": 12,
     "metadata": {},
     "output_type": "execute_result"
    }
   ],
   "source": [
    "index.hnsw.max_level"
   ]
  },
  {
   "cell_type": "code",
   "execution_count": 13,
   "metadata": {},
   "outputs": [
    {
     "data": {
      "text/plain": [
       "array([], dtype=int64)"
      ]
     },
     "execution_count": 13,
     "metadata": {},
     "output_type": "execute_result"
    }
   ],
   "source": [
    "levels = faiss.vector_to_array(index.hnsw.levels)\n",
    "np.bincount(levels)"
   ]
  },
  {
   "cell_type": "code",
   "execution_count": 14,
   "metadata": {},
   "outputs": [
    {
     "ename": "NameError",
     "evalue": "name 'xb' is not defined",
     "output_type": "error",
     "traceback": [
      "\u001b[1;31m---------------------------------------------------------------------------\u001b[0m",
      "\u001b[1;31mNameError\u001b[0m                                 Traceback (most recent call last)",
      "Cell \u001b[1;32mIn[14], line 1\u001b[0m\n\u001b[1;32m----> 1\u001b[0m index\u001b[38;5;241m.\u001b[39madd(\u001b[43mxb\u001b[49m)\n",
      "\u001b[1;31mNameError\u001b[0m: name 'xb' is not defined"
     ]
    }
   ],
   "source": [
    "index.add(xb)"
   ]
  }
 ],
 "metadata": {
  "kernelspec": {
   "display_name": "base",
   "language": "python",
   "name": "python3"
  },
  "language_info": {
   "codemirror_mode": {
    "name": "ipython",
    "version": 3
   },
   "file_extension": ".py",
   "mimetype": "text/x-python",
   "name": "python",
   "nbconvert_exporter": "python",
   "pygments_lexer": "ipython3",
   "version": "3.11.5"
  }
 },
 "nbformat": 4,
 "nbformat_minor": 2
}
