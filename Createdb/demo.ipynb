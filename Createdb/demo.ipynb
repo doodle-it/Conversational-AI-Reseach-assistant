{
 "cells": [
  {
   "cell_type": "code",
<<<<<<< HEAD
   "execution_count": 265,
=======
   "execution_count": 2,
>>>>>>> ba39c4e1c40ba8c9f8d6f3acada4bd2f374c676f
   "metadata": {},
   "outputs": [
    {
     "name": "stdout",
     "output_type": "stream",
     "text": [
      "Note: you may need to restart the kernel to use updated packages.\n"
     ]
    }
   ],
   "source": [
    "%pip install --upgrade pdfplumber pdfminer -q\n",
    "\n",
    "import pdfplumber\n",
<<<<<<< HEAD
    "path = 'D:\\Projects\\LLM\\Createdb\\docs\\\\aco and pso.pdf'\n",
    "pdf = pdfplumber.open(path)\n",
=======
    "\n",
    "pdf = pdfplumber.open(\"./../Createdb/docs/10.1.1.66.5347.pdf\")\n",
>>>>>>> ba39c4e1c40ba8c9f8d6f3acada4bd2f374c676f
    "page = pdf.pages[0]"
   ]
  },
  {
   "cell_type": "code",
<<<<<<< HEAD
   "execution_count": 266,
=======
   "execution_count": 3,
>>>>>>> ba39c4e1c40ba8c9f8d6f3acada4bd2f374c676f
   "metadata": {},
   "outputs": [],
   "source": [
    "text = page.extract_text(\n",
    "                x_tolerance=1, x_tolerance_ratio=None, y_tolerance=1, layout=False, x_density=7.25, y_density=13, line_dir_render=None,keep_blank_chars=True,use_text_flow=True, char_dir_render=None, expand_ligatures=True\n",
    "            )"
   ]
  },
  {
   "cell_type": "code",
<<<<<<< HEAD
   "execution_count": 267,
=======
   "execution_count": 4,
>>>>>>> ba39c4e1c40ba8c9f8d6f3acada4bd2f374c676f
   "metadata": {},
   "outputs": [
    {
     "name": "stdout",
     "output_type": "stream",
     "text": [
      "Journal of Constructional Steel Research 65 (2009) 1558–1568\n",
      "Contents lists available at ScienceDirect\n",
      "Journal of Constructional Steel Research\n",
      "journal homepage: www.elsevier.com/locate/jcsr\n",
      "A particle swarm ant colony optimization for truss structures with\n",
      "discrete variables\n",
      "A. Kaveh\n",
      "a,∗\n",
      ",1\n",
      ", S. Talatahari\n",
      "b\n",
      "a\n",
      "Institute for Mechanics of Materials and Structures, Vienna University of Technology, Karlsplatz 13, A-1040 Wien, Austria\n",
      "b\n",
      "Department of Civil Engineering, Tabriz University, Tabriz, Iran\n",
      "a r t i c l e i n f o\n",
      "Article history:\n",
      "Received 19 March 2009\n",
      "Accepted 24 April 2009\n",
      "Keywords:\n",
      "Heuristic particle swarm ant colony\n",
      "optimization\n",
      "Harmony search\n",
      "Optimum truss design\n",
      "Discrete variables\n",
      "a b s t r a c t\n",
      "In this paper, a particle swarm optimizer with passive congregation (PSOPC), ant colony optimization\n",
      "(ACO) and harmony search scheme (HS) are combined to reach to an efficient algorithm, called discrete\n",
      "heuristic particle swarm ant colony optimization (DHPSACO). This method is then employed to optimize\n",
      "truss structures with discrete variables. The DHPSACO applies a PSOPC for global optimization and the ant\n",
      "colony approach for local search, similar to its continuous version. The problem-specific constraints are\n",
      "handled using a modified feasible-based mechanism, and the harmony search scheme is employed to deal\n",
      "with variable constraints. Some design examples are tested using the new method and their results are\n",
      "compared to those of PSO, PSOPC and HPSO algorithms to demonstrate the effectiveness of the present\n",
      "method.\n",
      "©\n",
      "2009 Elsevier Ltd. All rights reserved.\n",
      "1. Introduction\n",
      "Structural optimization has become one of the most active\n",
      "branches of structural engineering in the last decade. The large\n",
      "number of design variables, large size of the search space and\n",
      "the control of a great number of design constraints are major\n",
      "preventive factors in performing optimum design in a reasonable\n",
      "time. Despite these facts, designers and owners have always\n",
      "desired to have optimal structures [1].\n",
      "Recently, authors have presented an efficient continuous\n",
      "optimization algorithm, so-called heuristic particle swarm ant\n",
      "colony optimization (HPSACO) [2], for truss problems, which\n",
      "is low time consuming and highly reliable. In HPSACO, the\n",
      "PSOPC algorithm (a hybrid PSO with passive congregation [3])\n",
      "is combined with the ant colony algorithm and harmony search\n",
      "approach. The HPSACO applies the PSOPC for global optimization\n",
      "and an ant colony approach is employed as a local search,\n",
      "wherein ants apply a pheromone-guided mechanism to update\n",
      "the positions found by the particles in the earlier stage. Harmony\n",
      "search (HS) works as a handling approach to deal with variable\n",
      "boundaries.\n",
      "An optimization problem can be considered either as a\n",
      "continuous problem or a discrete one. In continuous problems, the\n",
      "design variables can vary continuously in the optimization; while\n",
      "∗\n",
      "Corresponding author. Tel.: +43 1 58801 60231; fax: +43 1 58801 20299.\n",
      "E-mail address: alikaveh@iust.ac.ir (A. Kaveh).\n",
      "1\n",
      "On leave from Iran University of Science and Technology, Narmak, Tehran-16,\n",
      "Iran.\n",
      "if the design variables represent a selection from a set of parts,\n",
      "the problem is considered discrete. HPSACO, similar to PSO and\n",
      "the PSOPC, is a continuous approach, while in practical structural\n",
      "optimization problems industrial cross-sections are used which\n",
      "have discrete values, and as a result a discrete solution is better\n",
      "than a continuous one for this kind of optimization problems [4].\n",
      "In order to reach a discrete version of HPSACO (i.e. DHPSACO),\n",
      "some changes should be made to the continuous algorithm. In\n",
      "the discrete method, agents are allowed to select discrete values\n",
      "from the permissible list of cross-sections, and if any one of agents\n",
      "selects another value for a design variable, the DHPSACO changes\n",
      "its magnitude by the value of the nearest discrete cross-section.\n",
      "Although this change is simple and efficient, it may however\n",
      "reduce the exploration of the algorithm. Therefore, the formula for\n",
      "the particles’ velocity should be improved by adding an exploration\n",
      "term.\n",
      "There are some constraints in truss optimization problems\n",
      "that should be carefully handled. A number of approaches have\n",
      "been proposed by incorporating constraint-handling techniques to\n",
      "solve constrained optimization problems [5]. The most common\n",
      "approach adopted to deal with constrained search spaces is the\n",
      "use of penalty functions. When using a penalty function, the\n",
      "amount of constraint violation is used to punish or penalize an\n",
      "infeasible solution so that feasible solutions are favored by the\n",
      "selection process. Despite the popularity of penalty functions,\n",
      "there are several drawbacks associated with this method. The main\n",
      "drawback is the requirement of a careful tuning of the penalty\n",
      "factors for accurate estimation of the degree of penalization to\n",
      "be applied in order to approach the feasible region efficiently [6].\n",
      "The separation of constraints and objectives is another approach\n",
      "0143-974X/$ – see front matter\n",
      "©\n",
      "2009 Elsevier Ltd. All rights reserved.\n",
      "doi:10.1016/j.jcsr.2009.04.021\n"
     ]
    }
   ],
   "source": [
    "print(text)"
   ]
  },
  {
   "cell_type": "code",
   "execution_count": 268,
   "metadata": {},
   "outputs": [
    {
     "data": {
      "text/plain": [
       "'journal of constructional steel research 65 (2009) 1558–1568\\ncontents lists available at sciencedirect\\njournal of constructional steel research\\njournal homepage: www.elsevier.com/locate/jcsr\\na particle swarm ant colony optimization for truss structures with\\ndiscrete variables\\na. kaveh\\na,∗\\n,1\\n, s. talatahari\\nb\\na\\ninstitute for mechanics of materials and structures, vienna university of technology, karlsplatz 13, a-1040 wien, austria\\nb\\ndepartment of civil engineering, tabriz university, tabriz, iran\\na r t i c l e i n f o\\narticle history:\\nreceived 19 march 2009\\naccepted 24 april 2009\\nkeywords:\\nheuristic particle swarm ant colony\\noptimization\\nharmony search\\noptimum truss design\\ndiscrete variables\\na b s t r a c t\\nin this paper, a particle swarm optimizer with passive congregation (psopc), ant colony optimization\\n(aco) and harmony search scheme (hs) are combined to reach to an efficient algorithm, called discrete\\nheuristic particle swarm ant colony optimization (dhpsaco). this method is then employed to optimize\\ntruss structures with discrete variables. the dhpsaco applies a psopc for global optimization and the ant\\ncolony approach for local search, similar to its continuous version. the problem-specific constraints are\\nhandled using a modified feasible-based mechanism, and the harmony search scheme is employed to deal\\nwith variable constraints. some design examples are tested using the new method and their results are\\ncompared to those of pso, psopc and hpso algorithms to demonstrate the effectiveness of the present\\nmethod.\\n©\\n2009 elsevier ltd. all rights reserved.\\n1. introduction\\nstructural optimization has become one of the most active\\nbranches of structural engineering in the last decade. the large\\nnumber of design variables, large size of the search space and\\nthe control of a great number of design constraints are major\\npreventive factors in performing optimum design in a reasonable\\ntime. despite these facts, designers and owners have always\\ndesired to have optimal structures [1].\\nrecently, authors have presented an efficient continuous\\noptimization algorithm, so-called heuristic particle swarm ant\\ncolony optimization (hpsaco) [2], for truss problems, which\\nis low time consuming and highly reliable. in hpsaco, the\\npsopc algorithm (a hybrid pso with passive congregation [3])\\nis combined with the ant colony algorithm and harmony search\\napproach. the hpsaco applies the psopc for global optimization\\nand an ant colony approach is employed as a local search,\\nwherein ants apply a pheromone-guided mechanism to update\\nthe positions found by the particles in the earlier stage. harmony\\nsearch (hs) works as a handling approach to deal with variable\\nboundaries.\\nan optimization problem can be considered either as a\\ncontinuous problem or a discrete one. in continuous problems, the\\ndesign variables can vary continuously in the optimization; while\\n∗\\ncorresponding author. tel.: +43 1 58801 60231; fax: +43 1 58801 20299.\\ne-mail address: alikaveh@iust.ac.ir (a. kaveh).\\n1\\non leave from iran university of science and technology, narmak, tehran-16,\\niran.\\nif the design variables represent a selection from a set of parts,\\nthe problem is considered discrete. hpsaco, similar to pso and\\nthe psopc, is a continuous approach, while in practical structural\\noptimization problems industrial cross-sections are used which\\nhave discrete values, and as a result a discrete solution is better\\nthan a continuous one for this kind of optimization problems [4].\\nin order to reach a discrete version of hpsaco (i.e. dhpsaco),\\nsome changes should be made to the continuous algorithm. in\\nthe discrete method, agents are allowed to select discrete values\\nfrom the permissible list of cross-sections, and if any one of agents\\nselects another value for a design variable, the dhpsaco changes\\nits magnitude by the value of the nearest discrete cross-section.\\nalthough this change is simple and efficient, it may however\\nreduce the exploration of the algorithm. therefore, the formula for\\nthe particles’ velocity should be improved by adding an exploration\\nterm.\\nthere are some constraints in truss optimization problems\\nthat should be carefully handled. a number of approaches have\\nbeen proposed by incorporating constraint-handling techniques to\\nsolve constrained optimization problems [5]. the most common\\napproach adopted to deal with constrained search spaces is the\\nuse of penalty functions. when using a penalty function, the\\namount of constraint violation is used to punish or penalize an\\ninfeasible solution so that feasible solutions are favored by the\\nselection process. despite the popularity of penalty functions,\\nthere are several drawbacks associated with this method. the main\\ndrawback is the requirement of a careful tuning of the penalty\\nfactors for accurate estimation of the degree of penalization to\\nbe applied in order to approach the feasible region efficiently [6].\\nthe separation of constraints and objectives is another approach\\n0143-974x/$ – see front matter\\n©\\n2009 elsevier ltd. all rights reserved.\\ndoi:10.1016/j.jcsr.2009.04.021'"
      ]
     },
     "execution_count": 268,
     "metadata": {},
     "output_type": "execute_result"
    }
   ],
   "source": [
    "text.lower()"
   ]
  },
  {
   "cell_type": "code",
   "execution_count": 269,
   "metadata": {},
   "outputs": [],
   "source": [
    "def raw(text):\n",
    "    if 'introduction' in text:\n",
    "        new = text.split('introduction')\n",
    "        return new[1] \n",
    "    else:\n",
    "        return ''\n",
    "\n",
    "def header(text):\n",
    "    if 'Introduction' in text:\n",
    "        new = text.split('Introduction')\n",
    "        return new[0]   \n",
    "    else:\n",
    "        return ''\n",
    "    "
   ]
  },
  {
   "cell_type": "code",
   "execution_count": 270,
   "metadata": {},
   "outputs": [],
   "source": [
    "text = header(text)"
   ]
  },
  {
   "cell_type": "code",
   "execution_count": 271,
   "metadata": {},
   "outputs": [
    {
     "name": "stdout",
     "output_type": "stream",
     "text": [
      "Journal of Constructional Steel Research 65 (2009) 1558–1568\n",
      "Contents lists available at ScienceDirect\n",
      "Journal of Constructional Steel Research\n",
      "journal homepage: www.elsevier.com/locate/jcsr\n",
      "A particle swarm ant colony optimization for truss structures with\n",
      "discrete variables\n",
      "A. Kaveh\n",
      "a,∗\n",
      ",1\n",
      ", S. Talatahari\n",
      "b\n",
      "a\n",
      "Institute for Mechanics of Materials and Structures, Vienna University of Technology, Karlsplatz 13, A-1040 Wien, Austria\n",
      "b\n",
      "Department of Civil Engineering, Tabriz University, Tabriz, Iran\n",
      "a r t i c l e i n f o\n",
      "Article history:\n",
      "Received 19 March 2009\n",
      "Accepted 24 April 2009\n",
      "Keywords:\n",
      "Heuristic particle swarm ant colony\n",
      "optimization\n",
      "Harmony search\n",
      "Optimum truss design\n",
      "Discrete variables\n",
      "a b s t r a c t\n",
      "In this paper, a particle swarm optimizer with passive congregation (PSOPC), ant colony optimization\n",
      "(ACO) and harmony search scheme (HS) are combined to reach to an efficient algorithm, called discrete\n",
      "heuristic particle swarm ant colony optimization (DHPSACO). This method is then employed to optimize\n",
      "truss structures with discrete variables. The DHPSACO applies a PSOPC for global optimization and the ant\n",
      "colony approach for local search, similar to its continuous version. The problem-specific constraints are\n",
      "handled using a modified feasible-based mechanism, and the harmony search scheme is employed to deal\n",
      "with variable constraints. Some design examples are tested using the new method and their results are\n",
      "compared to those of PSO, PSOPC and HPSO algorithms to demonstrate the effectiveness of the present\n",
      "method.\n",
      "©\n",
      "2009 Elsevier Ltd. All rights reserved.\n",
      "1. \n"
     ]
    }
   ],
   "source": [
    "print(text)"
   ]
  },
  {
   "cell_type": "code",
   "execution_count": 272,
   "metadata": {},
   "outputs": [
    {
     "name": "stdout",
     "output_type": "stream",
     "text": [
      "Journal of Constructional Steel Research 65 (2009) 1558–1568\n",
      "Contents lists available at ScienceDirect\n",
      "Journal of Constructional Steel Research\n",
      "journal homepage: www.elsevier.com/locate/jcsr\n",
      "A particle swarm ant colony optimization for truss structures with\n",
      "discrete variables\n",
      "A. Kaveh\n",
      "a,∗\n",
      ",1\n",
      ", S. Talatahari\n",
      "b\n",
      "a\n",
      "Institute for Mechanics of Materials and Structures, Vienna University of Technology, Karlsplatz 13, A-1040 Wien, Austria\n",
      "b\n",
      "Department of Civil Engineering, Tabriz University, Tabriz, Iran\n",
      "a r t i c l e i n f o\n",
      "Article history:\n",
      "Received 19 March 2009\n",
      "Accepted 24 April 2009\n",
      "Keywords:\n",
      "Heuristic particle swarm ant colony\n",
      "optimization\n",
      "Harmony search\n",
      "Optimum truss design\n",
      "Discrete variablesabstractIn this paper, a particle swarm optimizer with passive congregation (PSOPC), ant colony optimization\n",
      "(ACO) and harmony search scheme (HS) are combined to reach to an efficient algorithm, called discrete\n",
      "heuristic particle swarm ant colony optimization (DHPSACO). This method is then employed to optimize\n",
      "truss structures with discrete variables. The DHPSACO applies a PSOPC for global optimization and the ant\n",
      "colony approach for local search, similar to its continuous version. The problem-specific constraints are\n",
      "handled using a modified feasible-based mechanism, and the harmony search scheme is employed to deal\n",
      "with variable constraints. Some design examples are tested using the new method and their results are\n",
      "compared to those of PSO, PSOPC and HPSO algorithms to demonstrate the effectiveness of the present\n",
      "method.\n",
      "©\n",
      "2009 Elsevier Ltd. All rights reserved.\n",
      "1. \n"
     ]
    }
   ],
   "source": [
    "import re\n",
    "\n",
    "def pa(text):\n",
    "    # text = \"abstract  abstract  abstract\"\n",
    "    pattern = re.compile(r'(\\s*)a(\\s*)b(\\s*)s(\\s*)t(\\s*)r(\\s*)a(\\s*)c(\\s*)t(\\s*)')\n",
    "\n",
    "    # matches = re.findall(pattern, text)\n",
    "    return pattern.sub('abstract',text)\n",
    "\n",
    "\n",
    "print(pa(text))\n"
   ]
  },
  {
   "cell_type": "code",
   "execution_count": 273,
   "metadata": {},
   "outputs": [
    {
     "ename": "SyntaxError",
     "evalue": "invalid syntax (1558060809.py, line 5)",
     "output_type": "error",
     "traceback": [
      "\u001b[1;36m  Cell \u001b[1;32mIn[273], line 5\u001b[1;36m\u001b[0m\n\u001b[1;33m    print(pattern)\u001b[0m\n\u001b[1;37m    ^\u001b[0m\n\u001b[1;31mSyntaxError\u001b[0m\u001b[1;31m:\u001b[0m invalid syntax\n"
     ]
    }
   ],
   "source": [
    "import re\n",
    "def abstract(text):\n",
    "    pattern = re.compile(r'a(\\s+)b(\\s+)s(\\s+)t(\\s+)r(\\s+)a(\\s+)c(\\s+)t')\n",
    "    pattern.sub('abstract',text)\\\n",
    "    print(pattern)\n",
    "    # if len(matches) == 0:\n",
    "    #     return \"\"\n",
    "    \n",
    "    # for m in matches:\n",
    "    #     print(m)\n",
    "\n",
    "    new = text.split('abstract')\n",
    "    return new"
   ]
  },
  {
   "cell_type": "code",
   "execution_count": null,
   "metadata": {},
   "outputs": [
    {
     "name": "stdout",
     "output_type": "stream",
     "text": [
      "re.compile('a(\\\\s+)b(\\\\s+)s(\\\\s+)t(\\\\s+)r(\\\\s+)a(\\\\s+)c(\\\\s+)t')\n"
     ]
    },
    {
     "data": {
      "text/plain": [
       "'Journal of Constructional Steel Research 65 (2009) 1558–1568\\nContents lists available at ScienceDirect\\nJournal of Constructional Steel Research\\njournal homepage: www.elsevier.com/locate/jcsr\\nA particle swarm ant colony optimization for truss structures with\\ndiscrete variables\\nA. Kaveh\\na,∗\\n,1\\n, S. Talatahari\\nb\\na\\nInstitute for Mechanics of Materials and Structures, Vienna University of Technology, Karlsplatz 13, A-1040 Wien, Austria\\nb\\nDepartment of Civil Engineering, Tabriz University, Tabriz, Iran\\na r t i c l e i n f o\\nArticle history:\\nReceived 19 March 2009\\nAccepted 24 April 2009\\nKeywords:\\nHeuristic particle swarm ant colony\\noptimization\\nHarmony search\\nOptimum truss design\\nDiscrete variables\\na b s t r a c t\\nIn this paper, a particle swarm optimizer with passive congregation (PSOPC), ant colony optimization\\n(ACO) and harmony search scheme (HS) are combined to reach to an efficient algorithm, called discrete\\nheuristic particle swarm ant colony optimization (DHPSACO). This method is then employed to optimize\\ntruss structures with discrete variables. The DHPSACO applies a PSOPC for global optimization and the ant\\ncolony approach for local search, similar to its continuous version. The problem-specific constraints are\\nhandled using a modified feasible-based mechanism, and the harmony search scheme is employed to deal\\nwith variable constraints. Some design examples are tested using the new method and their results are\\ncompared to those of PSO, PSOPC and HPSO algorithms to demonstrate the effectiveness of the present\\nmethod.\\n©\\n2009 Elsevier Ltd. All rights reserved.\\n1. '"
      ]
     },
     "execution_count": 240,
     "metadata": {},
     "output_type": "execute_result"
    }
   ],
   "source": [
    "abstract(text)[0]"
   ]
  },
  {
   "cell_type": "code",
   "execution_count": null,
   "metadata": {},
   "outputs": [],
   "source": []
  }
 ],
 "metadata": {
  "kernelspec": {
   "display_name": "Python 3",
   "language": "python",
   "name": "python3"
  },
  "language_info": {
   "codemirror_mode": {
    "name": "ipython",
    "version": 3
   },
   "file_extension": ".py",
   "mimetype": "text/x-python",
   "name": "python",
   "nbconvert_exporter": "python",
   "pygments_lexer": "ipython3",
   "version": "3.11.5"
  }
 },
 "nbformat": 4,
 "nbformat_minor": 2
}
