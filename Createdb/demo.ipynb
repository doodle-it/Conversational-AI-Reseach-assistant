{
 "cells": [
  {
   "cell_type": "code",
   "execution_count": 2,
   "metadata": {},
   "outputs": [
    {
     "name": "stdout",
     "output_type": "stream",
     "text": [
      "Note: you may need to restart the kernel to use updated packages.\n"
     ]
    }
   ],
   "source": [
    "%pip install --upgrade pdfplumber pdfminer -q\n",
    "\n",
    "import pdfplumber\n",
    "\n",
    "pdf = pdfplumber.open(\"./../Createdb/docs/10.1.1.66.5347.pdf\")\n",
    "page = pdf.pages[0]"
   ]
  },
  {
   "cell_type": "code",
   "execution_count": 3,
   "metadata": {},
   "outputs": [],
   "source": [
    "text = page.extract_text(x_tolerance=2, x_tolerance_ratio=None, y_tolerance=3, layout=False, x_density=7.25, y_density=13, line_dir_render=None, char_dir_render=None)\n"
   ]
  },
  {
   "cell_type": "code",
   "execution_count": 4,
   "metadata": {},
   "outputs": [
    {
     "name": "stdout",
     "output_type": "stream",
     "text": [
      "Composite Structures 67 (2005) 239–249\n",
      "www.elsevier.com/locate/compstruct\n",
      "Structural damage identification in laminated structures\n",
      "using FRF data\n",
      "J.V. Arau´jo dos Santos, C.M. Mota Soares *, C.A. Mota Soares, N.M.M. Maia\n",
      "IDMEC/IST, Instituto Superior Te´cnico, Av. Rovisco Pais, 1049-001 Lisbon, Portugal\n",
      "Available online 5 November 2004\n",
      "Abstract\n",
      "A damage identification technique based on frequency response functions (FRF) sensitivities is presented. This technique leads to\n",
      "a set of linear equations, which is solved using an algorithm that constrains the solution to be physically admissible. Damage sim-\n",
      "ulation and identification on a laminated rectangular plate is performed. The influence of the number of natural frequencies and\n",
      "mode shapes used on the FRF computation, as well as the frequency range, the excitation location and the number of measured\n",
      "degrees of freedom (m-DOF) is studied. Numerical tests show that the best accuracy is obtained when using the dynamic expansion\n",
      "of the m-DOF. It is also demonstrated that for small damage the errors are the main influence, whereas for large damage the model\n",
      "incompleteness becomes the most important factor in the results. A procedure for weighting and deletion of equations is used to\n",
      "obtain better identification results. The results of the technique presented in this paper versus those obtained by a technique based\n",
      "on modal data is also discussed.\n",
      "(cid:1) 2004 Elsevier Ltd. All rights reserved.\n",
      "Keywords: Damage identification; Frequency response functions; Model incompleteness; Measurement noise and error; Static and dynamic expa-\n",
      "nsions; Laminated plate\n",
      "1. Introduction mer detect damage using direct quantities such as\n",
      "natural frequencies and mode shapes, frequency re-\n",
      "The damage identification in composites laminates is sponse functions (FRF), stiffness and flexibility matri-\n",
      "of great importance, since, for example, delaminations ces. The latter use a set of parameters which define the\n",
      "may not be detected by visual means and can cause cat- model of the structure and the assumed damage mecha-\n",
      "astrophic failure if not detect in due time. One knows nisms. Several kinds of parameterizations may be em-\n",
      "that the occurrence of damage in structures modifies ployed. Among them are sub-structural, physical and\n",
      "some of its mass, stiffness and damping properties, geometric parameters, generic elements and stiffness\n",
      "therefore changing the vibrational response of the struc- parameters. A report by Doebling et al. [1] surveys both\n",
      "ture. Hence, the knowledge of the vibrational behaviour techniques, which are applied to several kind of struc-\n",
      "of a structure can be used to determine the existence as tures. Zou et al. [2] present a review of vibration-based\n",
      "well as the location and extent of damage. model dependent techniques for the identification of\n",
      "There are two main types of damage detection tech- delaminations in composite structures. An important\n",
      "niques: (i) non-parametric and (ii) parametric. The for- class of parametric methods use sensitivity analysis of\n",
      "modal data (natural frequencies and mode shapes)\n",
      "[3–12] or FRF data [13–15] to update structural models\n",
      "or identify damage. In these techniques, the derivatives\n",
      "* Corresponding author. Tel.: +351 21 841 7455; fax: +351 21 841\n",
      "of the data, namely natural frequencies, mode shapes\n",
      "7915.\n",
      "E-mail address: cmmsoares@alfa.ist.utl.pt (C.M. Mota Soares). and FRF, with respect to the physical parameters, lead\n",
      "0263-8223/$ - see front matter (cid:1) 2004 Elsevier Ltd. All rights reserved.\n",
      "doi:10.1016/j.compstruct.2004.09.011\n"
     ]
    }
   ],
   "source": [
    "print(text)"
   ]
  },
  {
   "cell_type": "code",
   "execution_count": null,
   "metadata": {},
   "outputs": [],
   "source": []
  }
 ],
 "metadata": {
  "kernelspec": {
   "display_name": "Python 3",
   "language": "python",
   "name": "python3"
  },
  "language_info": {
   "codemirror_mode": {
    "name": "ipython",
    "version": 3
   },
   "file_extension": ".py",
   "mimetype": "text/x-python",
   "name": "python",
   "nbconvert_exporter": "python",
   "pygments_lexer": "ipython3",
   "version": "3.11.5"
  }
 },
 "nbformat": 4,
 "nbformat_minor": 2
}
