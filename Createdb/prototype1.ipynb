{
 "cells": [
  {
   "cell_type": "code",
   "execution_count": 58,
   "metadata": {},
   "outputs": [
    {
     "name": "stdout",
     "output_type": "stream",
     "text": [
      "Requirement already satisfied: langchain in d:\\projects\\llm\\.conda\\lib\\site-packages (0.1.10)\n",
      "Requirement already satisfied: PyYAML>=5.3 in d:\\projects\\llm\\.conda\\lib\\site-packages (from langchain) (6.0.1)\n",
      "Requirement already satisfied: SQLAlchemy<3,>=1.4 in d:\\projects\\llm\\.conda\\lib\\site-packages (from langchain) (2.0.27)\n",
      "Requirement already satisfied: aiohttp<4.0.0,>=3.8.3 in d:\\projects\\llm\\.conda\\lib\\site-packages (from langchain) (3.9.3)\n",
      "Requirement already satisfied: dataclasses-json<0.7,>=0.5.7 in d:\\projects\\llm\\.conda\\lib\\site-packages (from langchain) (0.6.4)\n",
      "Requirement already satisfied: jsonpatch<2.0,>=1.33 in d:\\projects\\llm\\.conda\\lib\\site-packages (from langchain) (1.33)\n",
      "Requirement already satisfied: langchain-community<0.1,>=0.0.25 in d:\\projects\\llm\\.conda\\lib\\site-packages (from langchain) (0.0.25)\n",
      "Requirement already satisfied: langchain-core<0.2,>=0.1.28 in d:\\projects\\llm\\.conda\\lib\\site-packages (from langchain) (0.1.28)\n",
      "Requirement already satisfied: langchain-text-splitters<0.1,>=0.0.1 in d:\\projects\\llm\\.conda\\lib\\site-packages (from langchain) (0.0.1)\n",
      "Requirement already satisfied: langsmith<0.2.0,>=0.1.0 in d:\\projects\\llm\\.conda\\lib\\site-packages (from langchain) (0.1.8)\n",
      "Requirement already satisfied: numpy<2,>=1 in d:\\projects\\llm\\.conda\\lib\\site-packages (from langchain) (1.26.4)\n",
      "Requirement already satisfied: pydantic<3,>=1 in d:\\projects\\llm\\.conda\\lib\\site-packages (from langchain) (2.6.1)\n",
      "Requirement already satisfied: requests<3,>=2 in d:\\projects\\llm\\.conda\\lib\\site-packages (from langchain) (2.31.0)\n",
      "Requirement already satisfied: tenacity<9.0.0,>=8.1.0 in d:\\projects\\llm\\.conda\\lib\\site-packages (from langchain) (8.2.3)\n",
      "Requirement already satisfied: aiosignal>=1.1.2 in d:\\projects\\llm\\.conda\\lib\\site-packages (from aiohttp<4.0.0,>=3.8.3->langchain) (1.3.1)\n",
      "Requirement already satisfied: attrs>=17.3.0 in d:\\projects\\llm\\.conda\\lib\\site-packages (from aiohttp<4.0.0,>=3.8.3->langchain) (23.2.0)\n",
      "Requirement already satisfied: frozenlist>=1.1.1 in d:\\projects\\llm\\.conda\\lib\\site-packages (from aiohttp<4.0.0,>=3.8.3->langchain) (1.4.1)\n",
      "Requirement already satisfied: multidict<7.0,>=4.5 in d:\\projects\\llm\\.conda\\lib\\site-packages (from aiohttp<4.0.0,>=3.8.3->langchain) (6.0.5)\n",
      "Requirement already satisfied: yarl<2.0,>=1.0 in d:\\projects\\llm\\.conda\\lib\\site-packages (from aiohttp<4.0.0,>=3.8.3->langchain) (1.9.4)\n",
      "Requirement already satisfied: marshmallow<4.0.0,>=3.18.0 in d:\\projects\\llm\\.conda\\lib\\site-packages (from dataclasses-json<0.7,>=0.5.7->langchain) (3.20.2)\n",
      "Requirement already satisfied: typing-inspect<1,>=0.4.0 in d:\\projects\\llm\\.conda\\lib\\site-packages (from dataclasses-json<0.7,>=0.5.7->langchain) (0.9.0)\n",
      "Requirement already satisfied: jsonpointer>=1.9 in d:\\projects\\llm\\.conda\\lib\\site-packages (from jsonpatch<2.0,>=1.33->langchain) (2.4)\n",
      "Requirement already satisfied: anyio<5,>=3 in d:\\projects\\llm\\.conda\\lib\\site-packages (from langchain-core<0.2,>=0.1.28->langchain) (4.2.0)\n",
      "Requirement already satisfied: packaging<24.0,>=23.2 in d:\\projects\\llm\\.conda\\lib\\site-packages (from langchain-core<0.2,>=0.1.28->langchain) (23.2)\n",
      "Requirement already satisfied: orjson<4.0.0,>=3.9.14 in d:\\projects\\llm\\.conda\\lib\\site-packages (from langsmith<0.2.0,>=0.1.0->langchain) (3.9.15)\n",
      "Requirement already satisfied: annotated-types>=0.4.0 in d:\\projects\\llm\\.conda\\lib\\site-packages (from pydantic<3,>=1->langchain) (0.6.0)\n",
      "Requirement already satisfied: pydantic-core==2.16.2 in d:\\projects\\llm\\.conda\\lib\\site-packages (from pydantic<3,>=1->langchain) (2.16.2)\n",
      "Requirement already satisfied: typing-extensions>=4.6.1 in d:\\projects\\llm\\.conda\\lib\\site-packages (from pydantic<3,>=1->langchain) (4.9.0)\n",
      "Requirement already satisfied: charset-normalizer<4,>=2 in d:\\projects\\llm\\.conda\\lib\\site-packages (from requests<3,>=2->langchain) (3.3.2)\n",
      "Requirement already satisfied: idna<4,>=2.5 in d:\\projects\\llm\\.conda\\lib\\site-packages (from requests<3,>=2->langchain) (3.6)\n",
      "Requirement already satisfied: urllib3<3,>=1.21.1 in d:\\projects\\llm\\.conda\\lib\\site-packages (from requests<3,>=2->langchain) (2.0.7)\n",
      "Requirement already satisfied: certifi>=2017.4.17 in d:\\projects\\llm\\.conda\\lib\\site-packages (from requests<3,>=2->langchain) (2024.2.2)\n",
      "Requirement already satisfied: greenlet!=0.4.17 in d:\\projects\\llm\\.conda\\lib\\site-packages (from SQLAlchemy<3,>=1.4->langchain) (3.0.3)\n",
      "Requirement already satisfied: sniffio>=1.1 in d:\\projects\\llm\\.conda\\lib\\site-packages (from anyio<5,>=3->langchain-core<0.2,>=0.1.28->langchain) (1.3.0)\n",
      "Requirement already satisfied: mypy-extensions>=0.3.0 in d:\\projects\\llm\\.conda\\lib\\site-packages (from typing-inspect<1,>=0.4.0->dataclasses-json<0.7,>=0.5.7->langchain) (1.0.0)\n"
     ]
    }
   ],
   "source": [
    "!pip install langchain"
   ]
  },
  {
   "cell_type": "code",
   "execution_count": 1,
   "metadata": {},
   "outputs": [
    {
     "name": "stderr",
     "output_type": "stream",
     "text": [
      "d:\\Projects\\LLM\\.conda\\Lib\\site-packages\\tqdm\\auto.py:21: TqdmWarning: IProgress not found. Please update jupyter and ipywidgets. See https://ipywidgets.readthedocs.io/en/stable/user_install.html\n",
      "  from .autonotebook import tqdm as notebook_tqdm\n"
     ]
    }
   ],
   "source": [
    "from transformers import AutoTokenizer"
   ]
  },
  {
   "cell_type": "code",
   "execution_count": 2,
   "metadata": {},
   "outputs": [],
   "source": [
    "# Load the tokenizer\n",
    "tokenizer_path = \"D:\\Projects\\LLM\\\\tokenizer\" # Directory with files\n",
    "tokenizer = AutoTokenizer.from_pretrained(tokenizer_path)"
   ]
  },
  {
   "cell_type": "code",
   "execution_count": 3,
   "metadata": {},
   "outputs": [
    {
     "name": "stdout",
     "output_type": "stream",
     "text": [
      "#################### Llama2 Tokenizer Details ####################\n",
      "\n",
      "Llama2 tokenizer overview: LlamaTokenizerFast(name_or_path='D:\\Projects\\LLM\\tokenizer', vocab_size=32000, model_max_length=1000000000000000019884624838656, is_fast=True, padding_side='right', truncation_side='right', special_tokens={'bos_token': '<s>', 'eos_token': '</s>', 'unk_token': '<unk>'}, clean_up_tokenization_spaces=False),  added_tokens_decoder={\n",
      "\t0: AddedToken(\"<unk>\", rstrip=False, lstrip=False, single_word=False, normalized=False, special=True),\n",
      "\t1: AddedToken(\"<s>\", rstrip=False, lstrip=False, single_word=False, normalized=False, special=True),\n",
      "\t2: AddedToken(\"</s>\", rstrip=False, lstrip=False, single_word=False, normalized=False, special=True),\n",
      "}\n",
      "Llama2 Vocabulary Size: 32000\n",
      "\n",
      "#################### End of Llama2 Tokenizer Details ####################\n",
      "\n"
     ]
    }
   ],
   "source": [
    "# Constants\n",
    "stdout_padding = \"#\" * 20\n",
    "\n",
    "# Confirm vocabulary size\n",
    "print(f\"{stdout_padding} Llama2 Tokenizer Details {stdout_padding}\\n\")\n",
    "print(f\"Llama2 tokenizer overview: {tokenizer}\")\n",
    "print(f\"Llama2 Vocabulary Size: {len(tokenizer.get_vocab().keys())}\\n\")\n",
    "print(f\"{stdout_padding} End of Llama2 Tokenizer Details {stdout_padding}\\n\")"
   ]
  },
  {
   "cell_type": "code",
   "execution_count": 4,
   "metadata": {},
   "outputs": [
    {
     "name": "stdout",
     "output_type": "stream",
     "text": [
      "#################### Llama2 Special Tokens ####################\n",
      "\n",
      "Token ID for the special token <unk>: 0\n",
      "Encoded <unk> becomes: [1, 0]\n",
      "\n",
      "Token ID for the special token <s>: 1\n",
      "Encoded <s> becomes: [1, 1]\n",
      "\n",
      "Token ID for the special token </s>: 2\n",
      "Encoded </s> becomes: [1, 2]\n",
      "\n",
      "#################### End of Llama2 Special Tokens ####################\n",
      "\n"
     ]
    }
   ],
   "source": [
    "# Verify token IDs for Llama2 special tokens\n",
    "print(f\"{stdout_padding} Llama2 Special Tokens {stdout_padding}\\n\")\n",
    "\n",
    "UNK = \"<unk>\" # Unknown token\n",
    "BOS, EOS = \"<s>\", \"</s>\" # Begin of sequnece and end of sequence tokens\n",
    "\n",
    "special_tokens = [UNK, BOS, EOS]\n",
    "\n",
    "for token in special_tokens:\n",
    "    print(f'Token ID for the special token {token}: {tokenizer.get_vocab()[token]}')\n",
    "    print(f'Encoded {token} becomes: {tokenizer.encode(token)}\\n')\n",
    "\n",
    "print(f\"{stdout_padding} End of Llama2 Special Tokens {stdout_padding}\\n\")"
   ]
  },
  {
   "cell_type": "code",
   "execution_count": 5,
   "metadata": {},
   "outputs": [
    {
     "name": "stdout",
     "output_type": "stream",
     "text": [
      "#################### Llama2 Prompt Symbols ####################\n",
      "\n",
      "Encoded '[INST]' becomes: [1, 518, 25580, 29962]\n",
      "\tToken ID 1 --> '<s>'\n",
      "\tToken ID 518 --> '['\n",
      "\tToken ID 25580 --> 'INST'\n",
      "\tToken ID 29962 --> ']'\n",
      "Encoded '[/INST]' becomes: [1, 518, 29914, 25580, 29962]\n",
      "\tToken ID 1 --> '<s>'\n",
      "\tToken ID 518 --> '['\n",
      "\tToken ID 29914 --> '/'\n",
      "\tToken ID 25580 --> 'INST'\n",
      "\tToken ID 29962 --> ']'\n",
      "Encoded '<<SYS>>\\n' becomes: [1, 3532, 14816, 29903, 6778, 13]\n",
      "\tToken ID 1 --> '<s>'\n",
      "\tToken ID 3532 --> '<<'\n",
      "\tToken ID 14816 --> 'SY'\n",
      "\tToken ID 29903 --> 'S'\n",
      "\tToken ID 6778 --> '>>'\n",
      "\tToken ID 13 --> '\\n'\n",
      "Encoded '\\n<<SYS>>\\n\\n' becomes: [1, 29871, 13, 9314, 14816, 29903, 6778, 13, 13]\n",
      "\tToken ID 1 --> '<s>'\n",
      "\tToken ID 29871 --> ''\n",
      "\tToken ID 13 --> '\\n'\n",
      "\tToken ID 9314 --> '<<'\n",
      "\tToken ID 14816 --> 'SY'\n",
      "\tToken ID 29903 --> 'S'\n",
      "\tToken ID 6778 --> '>>'\n",
      "\tToken ID 13 --> '\\n'\n",
      "\tToken ID 13 --> '\\n'\n",
      "\n",
      "#################### End of Llama2 Prompt Symbols ####################\n",
      "\n"
     ]
    }
   ],
   "source": [
    "# Verify token IDs for Llama2 prompt symbols\n",
    "print(f\"{stdout_padding} Llama2 Prompt Symbols {stdout_padding}\\n\")\n",
    "\n",
    "B_INST, E_INST = \"[INST]\", \"[/INST]\" # Begin of instruction and end of instruction symbols\n",
    "B_SYS, E_SYS = \"<<SYS>>\\n\", \"\\n<<SYS>>\\n\\n\" # Begin of system message and end of system message symbols\n",
    "\n",
    "prompt_symbols = [B_INST, E_INST, B_SYS, E_SYS]\n",
    "\n",
    "for symbol in prompt_symbols:\n",
    "    encoded_symbol = tokenizer.encode(symbol)\n",
    "    print(f'Encoded {repr(symbol)} becomes: {encoded_symbol}')\n",
    "    \n",
    "    for token in encoded_symbol:\n",
    "        print(f\"\\tToken ID {token} --> {repr(tokenizer.decode(token))}\")\n",
    "\n",
    "print(f\"\\n{stdout_padding} End of Llama2 Prompt Symbols {stdout_padding}\\n\")"
   ]
  },
  {
   "cell_type": "code",
   "execution_count": 6,
   "metadata": {},
   "outputs": [
    {
     "name": "stdout",
     "output_type": "stream",
     "text": [
      "#################### Llama2 Tokenizer Sentence Example ####################\n",
      "\n",
      "Original sentence: RHEL subscription manager let's you manage packages on RedHat.\n",
      "Encoded sentence: [1, 390, 29950, 6670, 25691, 8455, 1235, 29915, 29879, 366, 10933, 9741, 373, 4367, 29950, 271, 29889]\n",
      "Token ID 1 --> <s>\n",
      "Token ID 390 --> R\n",
      "Token ID 29950 --> H\n",
      "Token ID 6670 --> EL\n",
      "Token ID 25691 --> subscription\n",
      "Token ID 8455 --> manager\n",
      "Token ID 1235 --> let\n",
      "Token ID 29915 --> '\n",
      "Token ID 29879 --> s\n",
      "Token ID 366 --> you\n",
      "Token ID 10933 --> manage\n",
      "Token ID 9741 --> packages\n",
      "Token ID 373 --> on\n",
      "Token ID 4367 --> Red\n",
      "Token ID 29950 --> H\n",
      "Token ID 271 --> at\n",
      "Token ID 29889 --> .\n",
      "#################### End of Llama2 Tokenizer Sentence Example ####################\n",
      "\n"
     ]
    }
   ],
   "source": [
    "# Test tokenizer on a sentence\n",
    "print(f\"{stdout_padding} Llama2 Tokenizer Sentence Example {stdout_padding}\\n\")\n",
    "sentence = \"RHEL subscription manager let's you manage packages on RedHat.\"\n",
    "encoded_output = tokenizer.encode(sentence)\n",
    "print(f\"Original sentence: {sentence}\")\n",
    "print(f\"Encoded sentence: {encoded_output}\")\n",
    "\n",
    "# Verify what each token ID correlates to\n",
    "for token in encoded_output:\n",
    "    print(f\"Token ID {token} --> {tokenizer.decode(token)}\")\n",
    "\n",
    "print(f\"{stdout_padding} End of Llama2 Tokenizer Sentence Example {stdout_padding}\\n\")"
   ]
  },
  {
   "cell_type": "code",
   "execution_count": 7,
   "metadata": {},
   "outputs": [
    {
     "name": "stderr",
     "output_type": "stream",
     "text": [
      "  0%|          | 0/2 [00:00<?, ?it/s]Error loading file D:\\Projects\\LLM\\Createdb\\docs\\10.1.1.66.5347.pdf\n",
      " 50%|█████     | 1/2 [00:04<00:04,  4.16s/it]Error loading file D:\\Projects\\LLM\\Createdb\\docs\\A Recent trend in SHM.pdf\n",
      "100%|██████████| 2/2 [00:04<00:00,  2.08s/it]\n"
     ]
    },
    {
     "data": {
      "text/plain": [
       "0"
      ]
     },
     "execution_count": 7,
     "metadata": {},
     "output_type": "execute_result"
    }
   ],
   "source": [
    "from langchain_community.document_loaders import DirectoryLoader\n",
    "loader = DirectoryLoader('D:\\Projects\\LLM\\Createdb\\docs', glob=\"*.pdf\",show_progress=True,use_multithreading=True)\n",
    "docs = loader.load()\n",
    "len(docs)"
   ]
  },
  {
   "cell_type": "code",
   "execution_count": 8,
   "metadata": {},
   "outputs": [],
   "source": [
    "from langchain_community.document_loaders import PyPDFLoader\n",
    "\n",
    "loader = PyPDFLoader(\"D:\\Projects\\LLM\\Createdb\\docs\\\\10.1.1.66.5347.pdf\")\n",
    "pages = loader.load_and_split()"
   ]
  },
  {
   "cell_type": "code",
   "execution_count": 9,
   "metadata": {},
   "outputs": [],
   "source": [
    "import re\n",
    "\n",
    "\n",
    "def _clean_text(text):\n",
    "    text = re.sub(r'-\\n', '', text)\n",
    "    return text"
   ]
  },
  {
   "cell_type": "code",
   "execution_count": 10,
   "metadata": {},
   "outputs": [],
   "source": [
    "from langchain_text_splitters import RecursiveCharacterTextSplitter\n",
    "def tiktoken_splitter(page: str,chunk_size=300, chunk_overlap=40):\n",
    "    # create length function\n",
    "    def len_fn(page):\n",
    "        tokens = tokenizer.encode(\n",
    "            page\n",
    "        )\n",
    "        return len(tokens)\n",
    "    # initialize the text splitter\n",
    "    text_splitter = RecursiveCharacterTextSplitter(\n",
    "        chunk_size=chunk_size,\n",
    "        chunk_overlap=chunk_overlap,\n",
    "        length_function=len_fn,\n",
    "        separators=[\"\\n\\n\", \"\\n\", \" \", \"\"]\n",
    "    )\n",
    "    return text_splitter"
   ]
  },
  {
   "cell_type": "code",
   "execution_count": 15,
   "metadata": {},
   "outputs": [
    {
     "name": "stdout",
     "output_type": "stream",
     "text": [
      "Requirement already satisfied: PyPDF2 in d:\\projects\\llm\\.conda\\lib\\site-packages (3.0.1)\n"
     ]
    }
   ],
   "source": [
    "!pip install PyPDF2\n",
    "import PyPDF2\n",
    "\n",
    "\n",
    "def _convert_pdf_to_text(path):\n",
    "    \"\"\"Convert the PDF to text and store it in the self.content\n",
    "    attribute.\n",
    "    \"\"\"\n",
    "    text = []\n",
    "    with open(path, 'rb') as f:\n",
    "        # create a PDF object\n",
    "        pdf = PyPDF2.PdfReader(f)\n",
    "        # iterate over every page in the PDF\n",
    "        for page in range(len(pdf.pages)):\n",
    "            # get the page object\n",
    "            page_obj = pdf.pages[page]\n",
    "            # extract text from the page\n",
    "            text.append(page_obj.extract_text())\n",
    "    text = \"\\n\".join(text)\n",
    "    return text\n"
   ]
  },
  {
   "cell_type": "code",
   "execution_count": 27,
   "metadata": {},
   "outputs": [],
   "source": [
    "text = _convert_pdf_to_text(\"D:\\Projects\\LLM\\Createdb\\docs\\\\10.1.1.66.5347.pdf\")"
   ]
  },
  {
   "cell_type": "code",
   "execution_count": 29,
   "metadata": {},
   "outputs": [
    {
     "name": "stdout",
     "output_type": "stream",
     "text": [
      "['Structural damage identiﬁcation in laminated structures\\nusing FRF data\\nJ.V. Arau ´jo dos Santos, C.M. Mota Soares*, C.A. Mota Soares, N.M.M. Maia\\nIDMEC/IST,InstitutoSuperiorTe ´cnico,Av.RoviscoPais, 1049-001Lisbon,Portugal\\nAvailable online 5November 2004\\nAbstract\\nAdamageidentiﬁcationtechniquebasedonfrequencyresponsefunctions(FRF)sensitivities ispresented.Thistechniqueleadsto\\na set of linear equations, which is solved using an algorithm that constrains the solution to be physically admissible. Damage simulation and identiﬁcation on a laminated rectangular plate is performed. The inﬂuence of the number of natural frequencies and\\nmode shapes used on the FRF computation, as well as the frequency range, the excitation location and the number of measureddegrees of freedom (m-DOF) is studied. Numerical tests show that the best accuracy is obtained when using the dynamic expansion', 'of the m-DOF. It is also demonstrated that for small damage the errors are the main inﬂuence, whereas for large damage the model\\nincompleteness becomes the most important factor in the results. A procedure for weighting and deletion of equations is used toobtain better identiﬁcation results. The results of the technique presented in this paper versus those obtained by a technique based\\non modal data is also discussed.\\n/C2112004 Elsevier Ltd. All rights reserved.\\nKeywords: Damage identiﬁcation; Frequency response functions; Model incompleteness; Measurement noise and error; Static and dynamic expansions; Laminated plate\\n1. Introduction\\nThe damage identiﬁcation in composites laminates is\\nof great importance, since, for example, delaminations', '1. Introduction\\nThe damage identiﬁcation in composites laminates is\\nof great importance, since, for example, delaminations\\nmay not be detected by visual means and can cause cat-astrophic failure if not detect in due time. One knowsthat the occurrence of damage in structures modiﬁessome of its mass, stiﬀness and damping properties,therefore changing the vibrational response of the struc-ture. Hence, the knowledge of the vibrational behaviourof a structure can be used to determine the existence as\\nwell as the location and extent of damage.\\nThere are two main types of damage detection techniques: (i) non-parametric and (ii) parametric. The for-mer detect damage using direct quantities such as\\nnatural frequencies and mode shapes, frequency re-sponse functions (FRF), stiﬀness and ﬂexibility matrices. The latter use a set of parameters which deﬁne the', 'model of the structure and the assumed damage mecha-nisms. Several kinds of parameterizations may be em-ployed. Among them are sub-structural, physical andgeometric parameters, generic elements and stiﬀnessparameters. A report by Doebling et al. [1]surveys both\\ntechniques, which are applied to several kind of struc-tures. Zou et al. [2]present a review of vibration-based\\nmodel dependent techniques for the identiﬁcation of\\ndelaminations in composite structures. An importantclass of parametric methods use sensitivity analysis ofmodal data (natural frequencies and mode shapes)[3–12]or FRF data [13–15]to update structural models\\nor identify damage. In these techniques, the derivativesof the data, namely natural frequencies, mode shapesand FRF, with respect to the physical parameters, lead\\n0263-8223/$ - see front matter /C2112004 Elsevier Ltd. All rights reserved.', '0263-8223/$ - see front matter /C2112004 Elsevier Ltd. All rights reserved.\\ndoi:10.1016/j.compstruct.2004.09.011*Corresponding author. Tel.: +351 21 841 7455; fax: +351 21 841\\n7915.\\nE-mailaddress: cmmsoares@alfa.ist.utl.pt (C.M. Mota Soares).Composite Structures 67 (2005) 239–249\\nwww.elsevier.com/locate/compstruct', 'to the determination of a damage parameter vector. The\\nuse of the frequency response model for damage identi-ﬁcation leads to more equations than the use of themodal model. Hence, as the number of updating param-eters or damage elements unknowns increases the FRFsensitivity techniques present better results. Furthermore, the techniques based on modal data need modal\\nextraction, which leads to errors and omissions, andthe increased modal density at high frequencies can posea problem.\\nThe formulation of a parametric technique that uses\\nFRF data, leading to a set of linear equations, was ﬁrstpresented and applied to model updating by Lin andEwins[13]. These authors used replacement of unmeasured degrees of freedom (u-DOF) of the experimental\\nFRF by their analytical counterparts and an iterativeprocess to solve the set of equations. Wang et al. [14]\\nused this technique to (i) update the undamaged struc-tural model and (ii) identify damage in a plane 3-bayframe structure. The results presented show false nega-tive elements (elements with an increase in stiﬀness),since the unknown variables are not constrained. In case', 'ofdamage, there wouldbe elements withonly adecrease\\nin stiﬀness. In the present work, the set of equations issolved by constraining the variables to be physicallyadmissible, i.e., the solution is such that there are nofalse negative elements.\\nA problem often encountered in this methods is the\\nmodelincompletenessofthedamaged structure,becausethe vibrational characteristics should be obtained experimentally and, for example, the rotational degrees of\\nfreedom are very diﬃcult to measure. As a result, thetotal number of undamaged structure degrees of free-dom (t-DOF), computed analytically, exceeds the num-ber of damaged structure measured degrees of freedom(m-DOF). Furthermore, due to measurement noisesand other uncertainties, the FRF m-DOF are alwayscontaminated to some extent with errors. In this work,\\nthe problem of model incompleteness is dealt with two\\nmethods: (i) dynamic and (ii) static expansions ofm-DOF. These methods are based on the dynamic [16]\\nand static [17]reduction methods, respectively. By', 'and static [17]reduction methods, respectively. By\\nimposing a random perturbation in the amplitudes ofthe m-DOF of the damaged structure, the presence oferrors was also taken into account.\\nA laminated rectangular plate free in space, which\\nis discretised using a ﬁrst-order shear-deformation\\ntheory (FSDT) based element [18], was used to perform the numerical tests. It is shown that the numberof natural frequencies and mode shapes used on theFRF computation, the frequency range and the exci-tation location are important factors in the accu-racy of the identiﬁcation results. The results of thetechnique presented in this paper are compared to\\nthose obtained by a technique based on modal data\\n[12].2. Damage identiﬁcation technique\\n2.1.FRF computation\\nThe FRF matrix A(x) of the undamaged structure\\ncanbedeﬁnedintermsofthemodalmodel,i.e., interms\\nof a speciﬁed number of its natural frequencies and\\nmode shapes, as\\nAðxÞ¼QðDxÞ', 'of a speciﬁed number of its natural frequencies and\\nmode shapes, as\\nAðxÞ¼QðDxÞ\\n/C01QT; ð1Þ\\nwhere\\nQ¼q11 q12 ... q1ðn/C01Þ q1n\\nq21 q22 ... q2ðn/C01Þ q2n\\n...............\\nq\\nðNg/C01Þ1qðNg/C01Þ2... qðNg/C01Þðn/C01ÞqðNg/C01Þn\\nqNg1 qNg2 ... qNgðn/C01Þ qNgn2\\n666666643\\n77777775\\nð2Þ\\nis the modal matrix, where the ﬁrst and second subscripts denote, respectively, the DOF and the mode\\nshape.\\nDxis a diagonal matrix, deﬁned as\\nDx¼k\\n1/C0x20 ... 00', 'Dxis a diagonal matrix, deﬁned as\\nDx¼k\\n1/C0x20 ... 00\\n0 k2/C0x2... 00\\n...............\\n00 ...k\\nn/C01/C0x20\\n00 ... 0 kn/C0x22\\n666666643\\n77777775;\\nð3Þ\\nwhere the subscript in kdenotes the squared natural frequency and xis the excitation frequency.\\nMatrices QandDxhave dimensions Ng·nand\\nn·n, respectively, where Ngis the total degrees of freedom (t-DOF) and nis the number of computed natural\\nfrequencies and mode shapes of the undamaged structure. Therefore, the FRF matrix A(x) has order Ng,\\nbut a rank of n. Note that the structure has no damping.\\nMatrix Qand the eigenvalues k\\niare computed using ﬁnite element analysis.', 'Matrix Qand the eigenvalues k\\niare computed using ﬁnite element analysis.\\nSimilarly, one can compute the FRF matrix eAðxÞof\\nthe damaged structure as follows:\\neAðxÞ¼eQðD~xÞ/C01eQT; ð4Þ\\nwhere\\neQ¼~q11 ~q12 ... ~q1ðm/C01Þ ~q1m\\n~q21 ~q22 ... ~q2ðm/C01Þ ~q2m\\n...............\\n~qðNg/C01Þ1~qðNg/C01Þ2... qðNg/C01Þðm/C01Þ~qðNg/C01Þm\\n~qNg1 ~qNg2 ... ~qNgðm/C01Þ ~qNgm2\\n666666643\\n77777775', '666666643\\n77777775\\nð5Þ240 J.V.Arau´jodosSantosetal./ Composite Structures 67(2005)239–249\\nand\\nD~x¼~k1/C0x20 ... 00\\n0 ~k2/C0x2... 00\\n...............\\n00 ... ~km/C01/C0x20\\n00 ... 0 ~km/C0x22\\n666666643\\n77777775:\\nð6Þ\\nNow, matrices eQandD~xhave dimensions Ng·m\\nandm·m, respectively, where mis the number of computed natural frequencies and mode shapes of the dam-aged structure. In this case, the FRF matrix eAðxÞrank\\nm.\\n2.2. FRF sensitivities\\nConsidering that a single-input unit force f\\nlis applied', 'm.\\n2.2. FRF sensitivities\\nConsidering that a single-input unit force f\\nlis applied\\nto thelth DOF of both the undamaged and damaged\\nstructure one gets\\neZðxÞ~alðxÞ¼fl¼ZðxÞalðxÞ; ð7Þ\\nwhere eZðxÞandZ(x) are the dynamic stiﬀness matrices\\nof the damaged and undamaged structure, respectively.The vectors ~a\\nlðxÞand al(x) are thelth column of\\neAðxÞandA(x), respectively.\\nThe above equation can be written as\\nDZðxÞ~alðxÞ¼fl/C0ZðxÞ~alðxÞ; ð8Þ\\nwithDZðxÞ¼eZðxÞ/C0ZðxÞ. The right-hand side of this\\nexpression is ill-conditioned [19]and, therefore, one\\nmust pre-multiply both sides of Eq. (8)byA(x):', 'expression is ill-conditioned [19]and, therefore, one\\nmust pre-multiply both sides of Eq. (8)byA(x):\\nAðxÞDZðxÞ~alðxÞ¼alðxÞ/C0 ~alðxÞ: ð9Þ\\nNote that flis thelth column of the identity matrix. The\\nright-hand side of Eq. (9)is the diﬀerence between the\\nundamaged and damaged structure FRF.\\nConsidering a ﬁrst-order Taylor expansion, the damaged dynamic stiﬀness eZis given by\\neZðxÞ¼ZðxÞþDZðxÞ¼ZðxÞþXN\\ne¼1oeZðxÞ\\noðdbeÞdbe;ð10Þ\\nwhereNis the number of ﬁnite elements and dbe2[0,1[\\nis the element edamage parameter.\\nFor each ﬁnite element e\\noeZðxÞ\\noðdbeÞ¼oðeK/C0x2MÞ', 'oeZðxÞ\\noðdbeÞ¼oðeK/C0x2MÞ\\noðdbeÞ¼oeK\\noðdbeÞfore¼1;...;N;\\nð11Þ\\nsince the mass is constant.\\nDeﬁning the damaged global stiﬀness matrix by\\neK¼K/C0dK ð12Þor, at the ﬁnite element level\\neKe¼Ke/C0dKe¼Ke/C0dbeKe; ð13Þ\\nEq.(11)becomes\\noeZðxÞ\\noðdbeÞ¼oeK\\noðdbeÞ¼/C0Ke: ð14Þ\\nReplacing (14)in(10)one gets\\nDZðxÞ¼eZðxÞ/C0ZðxÞ¼/C0XN\\ne¼1Kedbe ð15Þ\\nand Eq. (9)can be written as\\nXN', 'e¼1Kedbe ð15Þ\\nand Eq. (9)can be written as\\nXN\\ne¼1AeðxÞKeealeðxÞdbe¼~alðxÞ/C0alðxÞ: ð16Þ\\nThe matrix Ae(x) and the vector ~aleðxÞcontain the entries of A(x) and ~alðxÞrelative to element e,\\nrespectively.\\nExpression (16)deﬁnes a set of Nglinear equations,\\nwithNunknowns. If one considers Nfexcitation frequencies the number of equations increases to M=\\nNg·Nf. In compact form, expression (16)is written as\\nSdb¼da: ð17Þ\\nOnecanuse Nesingle-inputunitforcesappliedtodifferent DOF, leading to M=Ng·Nf·Neequations.\\nHowever, in thepresent work, only one single-input unit\\nforce flwas applied to the lth DOF of both the undamaged and damaged structure.\\nThe least-squares solution of (17)is given by,', 'The least-squares solution of (17)is given by,\\ndb¼ðSTSÞ/C01STda¼Sþda; ð18Þ\\nwhere S+is the pseudo-inverse of S.\\nIn the above formulation it is implicit that one knows\\nall the DOF of the damaged structure. However, that isnot possible to accomplish in practice, as, for instance,rotational DOF are very diﬃcult to obtain experimen-tally. Consequently, the unknown degrees of freedom(u-DOF) of the damaged structure should be determined using an expansion of the measured degrees\\nof freedom (m-DOF). To achieve this purpose, them-DOF dynamic or static expansions may be used.The dynamic and static expansion processes are per-formed as described in [12].\\n2.3. Equations weighting, deletion and solving\\nThe solution given by expression (18)depends not', '2.3. Equations weighting, deletion and solving\\nThe solution given by expression (18)depends not\\nonly on the quality of measured FRF data but also onthe weighting technique applied to the equations. Thisweighting is needed because without it the least-squaressolution is dominated by the equations with the largestcoeﬃcients. This means that the solution is dominatedby the equations deﬁned at frequencies and locationswhere the vibration response magnitudes are signiﬁcant,J.V. Arau´jodosSantosetal./CompositeStructures67(2005)239–249 241\\novershadowing the information at other frequencies and\\nlocations. Therefore, one should consider all the fre-quenciesandlocations. Inthis work,onemultipliesbothsidesofeachequationbyascalingfactorsothatthesumof coeﬃcient squares in a resultant equation is unity[20].\\nThe vector darepresents a subtraction between two\\nquantities (e.g. ~a', 'The vector darepresents a subtraction between two\\nquantities (e.g. ~a\\nilðxkÞ/C0ailðxkÞ). If theith equation, relative to the kth frequency, has elements ~ailðxkÞand\\nail(xk) of similar magnitudes, the measurement error\\nmay be signiﬁcantly magniﬁed after weighting. To over-come this problem, such an equation should be re-moved. One deletes the ith equation if [20]\\n2\\njeailðxkÞ/C0ailðxkÞj\\njeailðxkÞj þ j ailðxkÞj6Dfork¼1;...;Nf; ð19Þ\\nwhere D2[0,2]. When D= 0, no equation is deleted.\\nWhen D= 2, all the equations are deleted. The value\\nof the equations deletion parameter Dshould be chosen\\nin function of both error levels in the measured data andamount of measured data. If the error levels are highand the measured data are suﬃcient, a large Dvalue', 'in function of both error levels in the measured data andamount of measured data. If the error levels are highand the measured data are suﬃcient, a large Dvalue\\nmay be appropriate; if the errors levels are low and\\nthe measured data are limited, a small Dvalue should\\nbe chosen [20].\\nBesides the problem of ﬁnding reliable equations,\\nthe physicaladmissible solution ofEq. (17)is not always\\nobtained using algorithms such as the singular valuedecompositon (SVD) [21,19], as can be seen in [6,7].\\nIn Ref. [8]two alternative algorithms were proposed: the non-negative least-squares (NNLS) [21]and\\nthe bounded-variable least-squares (BVLS) [22]. The\\nauthors have been using this last algorithm with successin the damage identiﬁcation using the sensitivities ofmodal characteristics with model incompleteness anderrors[12].\\nThe BVLS algorithm leads to a solution deﬁned by\\nminkSdb¼dak', 'The BVLS algorithm leads to a solution deﬁned by\\nminkSdb¼dak\\n2subject to 0 6db61: ð20Þ\\nIn other words, the solution is such that all the ﬁnite\\nelements are either undamaged ( dbe= 0) or with a positive quantity of damage ( dbe61). The solution vector\\ndbobtained using the SVD algorithm may contain elements with negative damage, i.e., elements with an increase of stiﬀness.\\n2.4. Damageidentiﬁcation accuracyindicators\\nIn order to classify the accuracy of the results, some\\nindicators were used. The damage missing error is de-ﬁned as[23,24],\\nDME ¼1\\nNTXNT\\nt¼1eI\\ntfor 06DME61; ð21Þwhere NT is the number of true damaged elements and\\neI\\nt¼0 if the truly damaged element tis identiﬁed or\\neI', 'eI\\nt¼0 if the truly damaged element tis identiﬁed or\\neI\\nt¼1 otherwise.If DME = 0,then all true damaged elements are detected.\\nAs a second accuracy indicator we chose the false\\nalarm error [23,24],\\nFAE ¼1\\nNFXNF\\np¼1eII\\npfor 06FAE61; ð22Þ\\nwhere NF is the number of predicted damaged elements\\nandeII\\np¼0 if the predicted damaged element pis truly\\ndamaged or eII\\np¼1 otherwise. If FAE = 0, then all predicted damaged elements are truly damaged elements.\\nThe mean sizing error [24]deﬁnes an average value of\\nthe absolute discrepancies between the true damage\\nparameters dbt\\neand the computed damage parameters\\ndbc\\ne:\\nMSE ¼1\\nNXN\\ne¼1jdbt\\ne/C0dbc', 'e:\\nMSE ¼1\\nNXN\\ne¼1jdbt\\ne/C0dbc\\nejfor 06MSE <1: ð23Þ\\nThe relative error,\\nRE¼PN\\ne¼1jdbt\\nej/C0PN\\ne¼1jdbc\\nejPN\\ne¼1jdbt\\nejfor 06RE61;ð24Þ\\ngives an indication of the relative discrepancies between\\nthe true and computed damage parameters.\\nAn element is taken as damaged if dbc\\ne>2/C2MSE\\n[24]. The smallest the values of DME, FAE, MSE and\\nREthebettertheresults.Theﬁrsttwoindicatorsclassifythe results in terms of damage location, while the lasttwo are related to the damage quantiﬁcation accuracy.\\n3. Applications\\nThe structure analysed is a carbon ﬁbre reinforced', '3. Applications\\nThe structure analysed is a carbon ﬁbre reinforced\\nepoxy rectangular plate, free in space, with a [0]\\n8stacking sequence. The material properties of the layers,which have equal thicknesses, are presented in Table 1.\\nThe plate in-plane dimensions are shown in Fig. 1and\\nits thickness is 3.385mm. In order to compute the natu-ral frequencies and mode shapes, the plate is discretised\\nin 12 ·12 ﬁnite elements based on the FSDT [18].\\nTherefore, one has 144 unknowns. Each element haseight nodes, with three DOF pernode: one transverse\\ndisplacement and two rotations, yielding a total of 481nodes and 1443 DOF. A shift must be carried out, inorder to make the stiﬀness matrix positive deﬁnite, since\\nTable 1\\nMechanical properties of the layers', 'Table 1\\nMechanical properties of the layers\\nE1[GPa]E2[GPa]G12[GPa]G23[GPa] m12 q[kg/m3]\\n107.4 8.3 4.2 8.8 0.384 1533.8242 J.V.Arau´jodosSantosetal./ Composite Structures 67(2005)239–249\\nthe plate is free in space [25]. After the computation of\\nnatural frequencies and mode shapes, using a skylinetype assemblage of matrices and the subspace iterationmethod[26], one uses expressions (1)and(4)tocompute\\nthe FRF of the undamaged and damaged structure,respectively.\\nThe damage was simulated in 16 elements ( Fig. 1).\\nThe elements damage parameters of each ofthe ﬁve sim-ulated cases are shown in Table 2, where is also presented the sum of the damage parameters, deﬁned askdb\\ntk1¼XN\\ne¼1jdbt', 'tk1¼XN\\ne¼1jdbt\\nej: ð25Þ\\nFour incomplete models were considered: 481, 325,\\n156 and 49 transverse displacements m-DOF. The blackdots inFig. 2indicate the nodes where these displacements are measured.\\nThe results presented in this paper are relative to\\nthree frequency ranges: (i) [50,1000] Hz; (ii)[1100,1900] Hz and (iii) [50,1900] Hz. Excitation fre-quencies in a range ±20Hz from natural frequenciesare eliminated. This is done because it is likely that rel-ativelyhighlevelsofnoiseontheexcitationsignalatres-onance be attained [27]. The excitation frequencies are\\nspeciﬁed such that there is a spacing of 50Hz between\\ntwo consecutive excitation frequencies. This leads to a\\ntotal of 14 excitation frequencies for the ﬁrst two fre-quency ranges and 28 for the third frequency range.', 'total of 14 excitation frequencies for the ﬁrst two fre-quency ranges and 28 for the third frequency range.\\nFig. 1. Element numbering and damaged area.Table 2\\nSimulated damage cases\\nElement Case 1 Case 2 Case 3 Case 4 Case 5\\n53, 54, 55, 56\\n65, 68, 77, 80 0.0625 0.1250 0.2500 0.3750 0.450089, 90, 91, 92\\n66, 67, 78, 79 0.1250 0.2500 0.5000 0.7500 0.9000kdb\\ntk1 1.2500 2.5000 5.0000 7.5000 9.0000\\n(a) (b)\\n(c) (d)', '(a) (b)\\n(c) (d)\\nFig. 2. Nodes with m-DOF: (a) 481 m-DOF, (b) 325m-DOF, (c) 15 6 m-DOF and (d) 49 m-DOF.J.V. Arau´jodosSantosetal./CompositeStructures67(2005)239–249 243\\n3.1. Complete models\\n3.1.1. Without equationsweighting or deletion\\nThe following results were obtained with the knowledge of all the DOF of both undamaged and damagedstructure, i.e., one knows all the NgDOF.\\nThe FRF matrices accuracy greatly depend on the\\nnumber of natural frequencies and mode shapes usedin their computation (see Section 2.1). Indeed, the dam-age identiﬁcation results improve as the used number ofnaturalfrequenciesandmodeshapesincreases( Table3).\\nGrafe[28]showed that the response can suﬃciently be', 'Grafe[28]showed that the response can suﬃciently be\\napproximated by using a truncated number of frequen-cies and mode shapes and proposed to use a truncated\\nmodal solution of 2 ·Nmnatural frequencies and mode\\nshapes to approximate the response matrix in the fre-quency range that contains the ﬁrst Nmmodes. Attending to this, in the present case one can compute thematrix A(x) and the vector ~a\\nlðxÞwith suﬃcient accuracy using m=n= 26, since there are 13 natural frequencies and mode shapes in the frequency range[50,1900] Hz. However, in view of the results in Table\\n3, it is better to consider more than 3 ·Nmnatural frequencies and mode shapes.\\nFig. 3shows the diﬀerences between receptances of\\nthe undamaged structure computed with n= 10 and\\nn= 40. One sees that there is a relative superposition\\nof the curves for the range [0,200] Hz and the anti-reso-nances decrease as the nincreases. The values of the', 'of the curves for the range [0,200] Hz and the anti-reso-nances decrease as the nincreases. The values of the\\nresonances are much less aﬀected by n. This behaviour\\nis in agreement with that found in the work of Grafe\\n[28]. All the following damage identiﬁcation results\\nare relative to a computation of FRF with a truncatedmodal solution of n=m= 40 frequencies and mode\\nshapes.\\nInFig. 4are presented the graphics relating the degree of damage with the absolute value of RE for theTable 3\\nAccuracy indicators in function of natural frequencies and mode\\nshapes number (3rd damage case, [50,1900] Hz, M=40404, 1441th\\nexcitation DOF)\\nNo of frequencies\\nand modes, m,nDME FAE MSE RE\\n10 0.5625 0.2222 0.0451 /C00.0965', '10 0.5625 0.2222 0.0451 /C00.0965\\n20 0.06250.06250.0145 /C00.0219\\n30 0.1250 0.0000 0.0175 /C00.0088\\n40 0.0000 0.0000 0.0072 /C00.0012Frequency [Hz]00\\n200 400 600 800 1000 1200 1400 1600 1800Receptance [dB re.1m/N]\\n−180−160−140−120−100−80−60−40−20n= 40n= 10\\nFrequenc y [Hz]00', 'Frequenc y [Hz]00\\n200 400 600 800 1000 1200 1400 1600 1800Receptance [dB re.1 m/N]\\n−160−140−120−100−80−60−40−202040\\nn= 40n= 10(a)\\n(b)\\nFig. 3. Receptance curves: (a) Direct receptance (1441st DOF, 1441st\\nDOF), (b) Transfer receptance (1441st DOF, 1st DOF).\\n||δbt||1|RE|[50-1000] Hz\\n[1100-1900] Hz', '||δbt||1|RE|[50-1000] Hz\\n[1100-1900] Hz\\n0 1 2 3 4 5 6 7 8            9 100.0000.0050.0100.0150.0200.0250.0300.0350.0400.0450.050\\nFig. 4. Degree of damage and absolute value of RE for diﬀerent frequency ranges.244 J.V.Arau´jodosSantosetal./ Composite Structures 67(2005)239–249\\nfrequency ranges [50,1000] Hz and [1100–1900] Hz.\\nNote that in both cases there are M= 20202 equations.', 'Note that in both cases there are M= 20202 equations.\\nOne can see that the best results are obtained with thelower frequency range. This corroborates the fact thatthe receptances in the higher frequency range are com-puted with less accuracy than those in the lower frequency range. Fig. 5shows the results for the fourth\\ndamagecasewithbothfrequencyranges.Theresultwiththe lower frequency range is indeed better than the onewith the higher frequency range ( Table 4). Indeed, in\\nFig. 5(b) there are more false identiﬁed elements (darker\\ncolumns) than in Fig. 5(a).\\nThe excitation location was also studied. Table 5presents the accuracy indicators relative to the application\\nof the excitation in the center (721th DOF) and the inferior right corner (1441th DOF) of the plate,for the thirddamage case, using the frequency range [0,1900] Hz. InFig. 6one sees that the best results are in fact obtained\\nby applying the excitation at the corner of the plate. Indeed, many modes have nodes, where the response', 'by applying the excitation at the corner of the plate. Indeed, many modes have nodes, where the response\\namplitude is zero, in the center of the plate and the sys-tem of equations is more ill-conditioned when onex\\nyDamage parameterδe\\n0.000.100.200.300.400.500.600.700.800.901.00b\\nx\\nyDamage parameterδe\\n0.000.100.200.300.400.500.600.700.800.901.00b(a)\\n(b)\\nFig. 5. Fourth damage case results with diﬀerent frequency ranges\\n(M=20202): (a) [50,1000] Hz, (b) [1100,1900] Hz.x\\nyDamage parameterδe', 'yDamage parameterδe\\n0.000.100.200.300.400.500.600.700.800.901.00b\\n(b)x\\nyDamage parameterδe\\n0.000.100.200.300.400.500.600.700.800.901.00b\\n(a)\\nFig. 6. Third damage case results with diﬀerent excitation locations:\\n(a) Plate inferior right corner (1441st DOF), (b) Plate center (721st\\nDOF).Table 4Accuracy indicators in function of frequency range (4th damage case,M= 20202, 1441th excitation DOF)\\nFrequency range DME FAE MSE RE\\n[50,1000] Hz 0.0000 0.0000 0.0140 /C00.0036', '[1100,1900] Hz 0.0000 0.2381 0.0094 /C00.0447\\nTable 5\\nAccuracy indicators in function of the excitation location (3rd damage\\ncase,n=m= 40, [50,1900] Hz, M= 40404)\\nExcitation DOF DME FAE MSE RE\\n1441 0.0000 0.0000 0.0072 /C00.0012\\n721 0.0000 0.1111 0.0120 /C00.0087J.V. Arau´jodosSantosetal./CompositeStructures67(2005)239–249 245\\napplies the excitation at this point. Hence, one must not\\nassume a priori that the best results are obtained byapplying the excitation in the damaged area.\\nIn all the remaining Sections of this paper, the results', 'In all the remaining Sections of this paper, the results\\npresented were obtained using the frequency range[0,1900] Hz, which leads to M= 40404 equations.\\n3.2. Incomplete models\\n3.2.1. Without errors, equations weighting ordeletion\\nTo study the diﬀerences among the dynamic and static expansions, as well as the inﬂuence of the number ofm-DOF in the results, tests were performed with thefour incomplete models. After the multiplications in\\nEq.(16), the equations relative to the u-DOF are discarded, i.e., they are not included in the damage identi-ﬁcation process. For example, the incomplete modelwith 49 m-DOF leads to M=4 9·28 = 1372 equations.\\nTable 6shows the DME, FAE, MSE and RE values\\nfor the third damage case. It can be seen that the bestresults are obtained with the dynamic expansion. As ex-pected, when the number of m-DOF increases the accuracy indicators values decrease and the diﬀerences', 'among the methods also become smaller. For the caseof 481 m-DOF the diﬀerences between the results arenot noticeable.\\nInFig. 7one can see that as the damage increases,\\ni.e., as the sum of the true damage parameters kdb\\ntk1increases,theerror intheidentiﬁcationprocess,deﬁnedbythe absolute value of RE, also increases. In fact, the difference between the stiﬀness matrices used in the expansion process and the real damaged structure stiﬀnessmatrices increases as the damage increases. Hence, forlarge damage, the vector ~a\\nlðxÞobtained with the expansion will be very diﬀerent from the real one.3.2.2. With errors andwithoutequations weighting or\\ndeletion\\nThe presence of measurement noises and errors was\\nsimulated by incorporating a random perturbation of5.0% error in the amplitudes of the m-DOF of the damaged structure. These errors were simulated by generating a random number R2[0,1] in a uniform', 'distribution. As in the previous sub-section, the equa-tions relative to u-DOF are discarded.\\nThe DME, FAE, MSE and RE values for the third\\ndamage case are presented in Table 7 and show that\\nthe presence of errors leads to incorrect damage identi-ﬁcations and have a strong inﬂuence on all the accuracy\\nindicators. Note that the accuracy indicators with 481\\nm-DOF are equal and with 325and 15 6 m-DOF are al-most the same for dynamic and static expansions.\\nTable 6\\nThird damage case DME, FAE, MSE and RE values with incomplete\\nmodels (n=m= 40, [50,1900] Hz)\\nNo. of\\nm-DOFNo. of\\nequations,MMethod DME FAE MSE RE\\n481 13468 Dynamic\\nexpansion0.0000 0.0588 0.0090 /C00.0226\\nStatic', 'expansion0.0000 0.0588 0.0090 /C00.0226\\nStatic\\nexpansion0.0000 0.0588 0.0090 /C00.0226\\n3259100 Dynamic\\nexpansion0.0000 0.0588 0.0098 /C00.0263\\nStatic\\nexpansion0.0000 0.0588 0.0100 /C00.0269\\n156 4368 Dynamic\\nexpansion0.0000 0.0588 0.0080 /C00.0255\\nStatic\\nexpansion0.0000 0.0588 0.0083 /C00.0260\\n49 1372 Dynamic\\nexpansion0.1250 0.1250 0.0231 /C00.0842', 'expansion0.1250 0.1250 0.0231 /C00.0842\\nStatic\\nexpansion0.2500 0.1429 0.0227 /C00.0940Table 7\\nThird damage case DME, FAE, MSE and RE values with incomplete\\nmodels and 5.0% error in the amplitudes of the m-DOF ( n=m= 40,\\n[50,1900] Hz)\\nNo. of\\nm-DOFNo. of\\nequa-tions,MMethod DME FAE MSE RE\\n481 13468 Dynamic\\nexpansion0.06250.1667 0.0188 /C00.0304\\nStatic\\nexpansion0.06250.1667 0.0188 /C00.0304\\n3259100 Dynamic', '3259100 Dynamic\\nexpansion0.06250.21050.015 8 /C00.0713\\nStatic\\nexpansion0.06250.21050.015 8 /C00.0720\\n156 4368 Dynamic\\nexpansion0.06250.21050.0164 /C00.0402\\nStatic\\nexpansion0.06250.21050.0165 /C00.0409\\n49 1372 Dynamic\\nexpansion0.31250.15 38 0.0321 /C00.0898\\nStatic\\nexpansion0.3750 0.0769 0.0334 /C00.1017||δbt||1481 m-DO F ( M = 13468)49 m-DO F ( M = 1372)', '0 1 2 3 4 5 6 7 8            9 100.40\\n0.35\\n0.300.45\\n0.200.25\\n0.15\\n0.10\\n0.05\\n0.00|RE|\\nFig. 7. Degree of damage and absolute value of RE with incomplete\\nmodels (dynamic expansion).246 J.V.Arau´jodosSantosetal./ Composite Structures 67(2005)239–249\\nFig. 8shows a graphic that relates the degree of damage to the absolute value of RE when incompletenessand errors are both present. This graphic presents twodistinct zones, for each case of incompleteness: (1) the\\ncontinuous lines relate to the inﬂuence of errors alone.', 'continuous lines relate to the inﬂuence of errors alone.\\nIn fact, when the damage is small, the diﬀerences amongthe damage and undamaged structure behaviour willalso be small and, therefore, the errors will overshadowthis diﬀerences; (2) the broken lines indicate the inﬂu-ence of incompleteness, because the expansion ofm-DOF is not suﬃciently correct for large damagevalues (see Section 3.2.1). The ﬁrst damage case presents\\nalmost the same value of RE for both 481 and 49m-DOF. This seems to prove that the main inﬂuenceis in fact the presence of errors.\\n3.2.3. With errorsand equationsweighting and deletion\\nIn this sub-section is presented the study of the equations deletion parameter D,deﬁned by Eq. (19).Fig. 9(a)\\npresents the accuracy indicators jREjand MSE in function of Dfor the third damage case, dynamic expansion', 'presents the accuracy indicators jREjand MSE in function of Dfor the third damage case, dynamic expansion\\nof 49 m-DOF and 5.0% errors in the amplitudes ofm-DOF. For D2[0.50,1.95] the values of these indicators are the lowest, with jREj< 0.1400 and MSE <\\n0.0260. The minimum values of jREjand MSE are obtained with D= 0.50. However, not all the values of\\nD2[0.50,1.95] present low values of FAE and DME\\n(Fig. 9(b)). These two indicators show a minimum for\\n||δbt||1|RE|481m-DOF ( M=13468)49m-DOF ( M=1372)\\n0 1 2 3 4 5 6 7 8            9 100.000.050.100.150.200.250.300.350.400.45', 'Fig. 8. Degree of damage and absolute value of RE with incomplete\\nmodels and errors (dynamic expansion).\\n∆|RE|\\nMSE|R E|\\nMS E\\n0.75 1.25 1.50 1.75 2.00 0.000.000.100.20\\n0.250.300.40\\n0.500.500.600.700.800.90\\n1.001.001.101.20\\n0. 0000. 0050. 0100. 0150. 0200. 0250. 0300. 0350. 0400. 0450. 0500. 0550. 0600. 0650. 0700. 0750. 080\\n∆FAE\\nDMEFA E\\nDME', '∆FAE\\nDMEFA E\\nDME\\n0.75 1.25 1.50 1.75 2.000.00\\n0.000.000.05 0.050.10 0.100.15 0.150.20 0.200.25\\n0.250.250.30 0.300.35 0.350.40 0.400.45 0.450.50\\n0.500.50\\n1.00(a)\\n(b)\\nFig.9. Thirddamagecaseaccuracyindicatorsinfunctionofequations\\ndeletionparameter D(dynamicexpansionof49m-DOF,5.0%errorsin\\nthe amplitudes of m-DOF): (a) jREjand MSE, (b) FAE and DME.x\\nyDamage parameterδe', 'yDamage parameterδe\\n0.000.100.200.300.400.500.600.700.800.901.00b\\nx\\nyDamage parameter be\\n0.000.100.200.300.400.500.600.700.800.901.00\\nδ(a)\\n(b)\\nFig. 10. Third damage case results (dynamic expansion of 49 m-DOF,\\n5.0% errors in the amplitudes of m-DOF): (a) no weighting and no\\ndeletion of equations ( M=1372), (b) weighting and deletion of\\nequations with D= 0.5(M= 423).J.V. Arau´jodosSantosetal./CompositeStructures67(2005)239–249 247\\nD= 0.50. Therefore, one can conclude that the best', 'D= 0.50. Therefore, one can conclude that the best\\nvalue of Dis0.50.Fig. 10shows theidentiﬁcation results\\nin all elements for the third damage case, dynamicexpansion of 49 m-DOF and 5.0% errors in amplitudesof m-DOF. In Fig. 10(a) there are more false identiﬁed\\nelements away from the real damaged area than in\\nFig. 10(b). Hence, the best results are in fact obtained\\nby weighting and deleting equations.\\n3.3. FRF sensitivity techniqueversus modal sensitivity\\ntechnique\\nComparing the results presented in this paper with\\nthose in[12], it can be concluded that the FRF sensitivity technique results are better than those based on the\\nmodal sensitivity. One of the causes for this is that thislast technique presents an underdetermined set of equa-tions, whereas the technique presented here leads to anoverdetermined set of equations.\\n4. Conclusions\\nIn this paper a damage identiﬁcation technique based', '4. Conclusions\\nIn this paper a damage identiﬁcation technique based\\non FRF sensitivities is presented. The set of linear equa-tions obtained is solved using the bounded-variablesleast-squares algorithm, which constrains the solutionto be physically admissible. The damage identiﬁcationwas performed on a laminated rectangular plate, discre-tised using a ﬁnite element model. It was found that the\\nFRF matrices should be computed with at least three\\ntimes the number of natural frequencies and modeshapes contained in the frequency range of interest.The frequency range and the excitation location are alsoimportant, and the better identiﬁcation results are ob-tained in lower frequency ranges and excitation pointswere there are no nodes. The tests show that the dy-namic expansion of m-DOF presents better results than\\nthose of the static expansion and as the number of', 'those of the static expansion and as the number of\\nm-DOF increases, there are an improvement in the re-sults.Itisdemonstratedthatforsmalldamagetheerrorsare the main inﬂuence in the identiﬁcation quality,whereas for large damage the incompleteness becomesthe most important factor. A procedure for weightingand deletion of equations is used to improve the identi-ﬁcation results. It was also found that the present technique presents better results than those obtained when\\nusing a technique based on modal data sensitivities.\\nAcknowledgment\\nThe authors would like to thank the ﬁnancial support\\nreceived from FCT and POCTI/FEDER (Projects POCTI/EME/12028/98/2001 and POCTI/2001/EME/37559).References\\n[1] Doebling SW, Farrar CR, Prime MB, Shevitz DW. Damage\\nidentiﬁcation and health monitoring of structural and mechanical\\nsystemsfromchangesintheirvibrationcharacteristics:aliterature', 'identiﬁcation and health monitoring of structural and mechanical\\nsystemsfromchangesintheirvibrationcharacteristics:aliterature\\nreview. LA-13070-MS. Los Alamos National Laboratory; 1996.\\n[2] Zou Y, Tong L, Steven GP. Vibration-based model-dependent\\ndamage (delamination) identiﬁcation and health monitoring for\\ncompositesstructures—areview.JSoundVib2000;230(2):357–78.\\n[3] Stubbs N, Osegueda R. Global damage detection in solidsexperimental veriﬁcation. Int J Anal Exp Modal Anal 1990;5(2):\\n81–97.\\n[4] Stubbs N, Osegueda R. Global non-destructive damage evaluation in solids. Int J Anal Exp Modal Anal 1990;5(2):67–79.\\n[5] Ricles JM, Kosmatka JB. Damage detection in elastic structures\\nusing vibratory residual forces and weighted sensitivity. AIAA J', 'using vibratory residual forces and weighted sensitivity. AIAA J\\n1992;30(9):2310–6.\\n[6] Arau´jo dos Santos JV, Mota Soares CM, Mota Soares CA, Pina\\nHLG. Identiﬁcation of damage in composite structures: a\\nnumerical model. Mech Compos Mater Struct 1999;6(4):363–76.\\n[7] Arau´jo dos Santos JV, Mota Soares CM, Mota Soares CA, Pina\\nHLG. Development of a numerical model for the damage\\nidentiﬁcation on composite plate structures. Compos Struct\\n2000;48:59–65.\\n[8] Arau´jo dos Santos JV, Mota Soares CM, Mota Soares CA, Pina\\nHLG. A damage identiﬁcation numerical model based on the\\nsensitivity of orthogonality conditions and least squares techniques. Comput Struct 2000;78(1–3):283–91.', 'sensitivity of orthogonality conditions and least squares techniques. Comput Struct 2000;78(1–3):283–91.\\n[9] Kim J-T, Stubbs N. Improved damage identiﬁcation method\\nbased on modal information. J Sound Vib 2002;252(2):223–38.\\n[10] Titurus B, Friswell MI, Starek L. Damage detection using generic\\nelements: Part I. Model updating. Comput Struct 2003;81:2273–86.\\n[11] Titurus B, Friswell MI, Starek L. Damage detection using generic\\nelements: Part II. Damage detection. Comput Struct 2003;81:2287–99.\\n[12] Arau´jo dos Santos JV, Mota Soares CM, Mota Soares CA, Maia\\nNMM. Structural damage identiﬁcation: Inﬂuence of model\\nincompleteness and errors. Compos Struct 2003;62:303–13.', 'incompleteness and errors. Compos Struct 2003;62:303–13.\\n[13] Lin RM, Ewins DJ. Analytical model improvement using frequency response functions. Mech Syst Signal Process 1994;8(4):\\n437–58.\\n[14] Wang Z, Lin RM, Lim MK. Structural damage detection using\\nmeasured FRF data. Comput Methods Appl Mech Eng1997;147:187–97.\\n[15] Modak SV, Kundra TK, Nakra BC. Prediction of dynamic\\ncharacteristics using updated ﬁnite element models. J Sound Vib2002;254(3):447–67.\\n[16] Kidder RL. Reduction of structural frequency equations. AIAA J\\n1973;11(6):892.\\n[17] Guyan RJ. Reduction of stiﬀness and mass matrices. AIAA J\\n1965;3(2):380.', '1965;3(2):380.\\n[18] Mota Soares CM, Freitas MM, Arau ´jo AL, Pedersen P. Identiﬁcation of material properties of composite plate specimens.Compos Struct 1993;25:277–85.\\n[19] Maia NMM, Silva JMM, editors. Theoretical and experimental\\nmodal analysis. New York: John Wiley & Sons, Ltd; 1997.\\n[20] Ren Y, Beards CF. Identiﬁcation of joint properties of a structure\\nusing FRF data. J Sound Vib 1995;186(4):567–87.\\n[21] Lawson CL, Hanson RJ. Solving least squares problems. Englewood Cliﬀs, NJ: Prentice-Hall, Inc; 1974.\\n[22] Stark PB, Parker RL. Bounded-variable least-squares: an algorithm and applications. Comput Statist 1995;10:129–41.', '[23] Kim J-T, Stubbs N. Model-uncertainty impact and damagedetection accuracy in plate girder. J Struct Eng 1995;121(10):1409–17.248 J.V.Arau´jodosSantosetal./ Composite Structures 67(2005)239–249\\n[24] Yun C-B, Yi J-H, Bahng EY. Joint damage assessment of framed\\nstructures using a neural networks technique. Eng Struct2001;23:425–35.\\n[25] Zienkiewicz OC. The ﬁnite element method in engineering\\nscience. New York: McGraw-Hill; 1971.\\n[26] Bathe K-J. Finite element procedures. Englewood Cliﬀs, New\\nJersey: Prentice-Hall; 1996.[27] Friswell MI, Mottershead JE. In: Finite element model updating', 'in structural dynamics. Solid Mechanics and its Applications, vol.9. The Netherlands: Kluwer Academic Publishers; 1995.\\n[28] Grafe H. Model updating of large structural dynamics models\\nusing measured response functions. PhD thesis. Imperial College\\nof Science, Technology and Medicine, University of London;1999.J.V. Arau´jodosSantosetal./CompositeStructures67(2005)239–249 249'] \n",
      "\n"
     ]
    }
   ],
   "source": [
    "splitter = tiktoken_splitter(text,300,40)\n",
    "clean = _clean_text(text)\n",
    "chunks = splitter.split_text(clean)\n",
    "print(chunks,'\\n')"
   ]
  },
  {
   "cell_type": "code",
   "execution_count": 63,
   "metadata": {},
   "outputs": [
    {
     "data": {
      "text/plain": [
       "['Structural damage identiﬁcation in laminated structures\\nusing FRF data\\nJ.V. Arau ´jo dos Santos, C.M. Mota Soares*, C.A. Mota Soares, N.M.M. Maia\\nIDMEC/IST,InstitutoSuperiorTe ´cnico,Av.RoviscoPais, 1049-001Lisbon,Portugal\\nAvailable online 5November 2004\\nAbstract\\nAdamageidentiﬁcationtechniquebasedonfrequencyresponsefunctions(FRF)sensitivities ispresented.Thistechniqueleadsto\\na set of linear equations, which is solved using an algorithm that constrains the solution to be physically admissible. Damage simulation and identiﬁcation on a laminated rectangular plate is performed. The inﬂuence of the number of natural frequencies and\\nmode shapes used on the FRF computation, as well as the frequency range, the excitation location and the number of measureddegrees of freedom (m-DOF) is studied. Numerical tests show that the best accuracy is obtained when using the dynamic expansion',\n",
       " 'of the m-DOF. It is also demonstrated that for small damage the errors are the main inﬂuence, whereas for large damage the model\\nincompleteness becomes the most important factor in the results. A procedure for weighting and deletion of equations is used toobtain better identiﬁcation results. The results of the technique presented in this paper versus those obtained by a technique based\\non modal data is also discussed.\\n/C2112004 Elsevier Ltd. All rights reserved.\\nKeywords: Damage identiﬁcation; Frequency response functions; Model incompleteness; Measurement noise and error; Static and dynamic expansions; Laminated plate\\n1. Introduction\\nThe damage identiﬁcation in composites laminates is\\nof great importance, since, for example, delaminations',\n",
       " '1. Introduction\\nThe damage identiﬁcation in composites laminates is\\nof great importance, since, for example, delaminations\\nmay not be detected by visual means and can cause cat-astrophic failure if not detect in due time. One knowsthat the occurrence of damage in structures modiﬁessome of its mass, stiﬀness and damping properties,therefore changing the vibrational response of the struc-ture. Hence, the knowledge of the vibrational behaviourof a structure can be used to determine the existence as\\nwell as the location and extent of damage.\\nThere are two main types of damage detection techniques: (i) non-parametric and (ii) parametric. The for-mer detect damage using direct quantities such as\\nnatural frequencies and mode shapes, frequency re-sponse functions (FRF), stiﬀness and ﬂexibility matrices. The latter use a set of parameters which deﬁne the',\n",
       " 'model of the structure and the assumed damage mecha-nisms. Several kinds of parameterizations may be em-ployed. Among them are sub-structural, physical andgeometric parameters, generic elements and stiﬀnessparameters. A report by Doebling et al. [1]surveys both\\ntechniques, which are applied to several kind of struc-tures. Zou et al. [2]present a review of vibration-based\\nmodel dependent techniques for the identiﬁcation of\\ndelaminations in composite structures. An importantclass of parametric methods use sensitivity analysis ofmodal data (natural frequencies and mode shapes)[3–12]or FRF data [13–15]to update structural models\\nor identify damage. In these techniques, the derivativesof the data, namely natural frequencies, mode shapesand FRF, with respect to the physical parameters, lead\\n0263-8223/$ - see front matter /C2112004 Elsevier Ltd. All rights reserved.',\n",
       " '0263-8223/$ - see front matter /C2112004 Elsevier Ltd. All rights reserved.\\ndoi:10.1016/j.compstruct.2004.09.011*Corresponding author. Tel.: +351 21 841 7455; fax: +351 21 841\\n7915.\\nE-mailaddress: cmmsoares@alfa.ist.utl.pt (C.M. Mota Soares).Composite Structures 67 (2005) 239–249\\nwww.elsevier.com/locate/compstruct',\n",
       " 'to the determination of a damage parameter vector. The\\nuse of the frequency response model for damage identi-ﬁcation leads to more equations than the use of themodal model. Hence, as the number of updating param-eters or damage elements unknowns increases the FRFsensitivity techniques present better results. Furthermore, the techniques based on modal data need modal\\nextraction, which leads to errors and omissions, andthe increased modal density at high frequencies can posea problem.\\nThe formulation of a parametric technique that uses\\nFRF data, leading to a set of linear equations, was ﬁrstpresented and applied to model updating by Lin andEwins[13]. These authors used replacement of unmeasured degrees of freedom (u-DOF) of the experimental\\nFRF by their analytical counterparts and an iterativeprocess to solve the set of equations. Wang et al. [14]\\nused this technique to (i) update the undamaged struc-tural model and (ii) identify damage in a plane 3-bayframe structure. The results presented show false nega-tive elements (elements with an increase in stiﬀness),since the unknown variables are not constrained. In case',\n",
       " 'ofdamage, there wouldbe elements withonly adecrease\\nin stiﬀness. In the present work, the set of equations issolved by constraining the variables to be physicallyadmissible, i.e., the solution is such that there are nofalse negative elements.\\nA problem often encountered in this methods is the\\nmodelincompletenessofthedamaged structure,becausethe vibrational characteristics should be obtained experimentally and, for example, the rotational degrees of\\nfreedom are very diﬃcult to measure. As a result, thetotal number of undamaged structure degrees of free-dom (t-DOF), computed analytically, exceeds the num-ber of damaged structure measured degrees of freedom(m-DOF). Furthermore, due to measurement noisesand other uncertainties, the FRF m-DOF are alwayscontaminated to some extent with errors. In this work,\\nthe problem of model incompleteness is dealt with two\\nmethods: (i) dynamic and (ii) static expansions ofm-DOF. These methods are based on the dynamic [16]\\nand static [17]reduction methods, respectively. By',\n",
       " 'and static [17]reduction methods, respectively. By\\nimposing a random perturbation in the amplitudes ofthe m-DOF of the damaged structure, the presence oferrors was also taken into account.\\nA laminated rectangular plate free in space, which\\nis discretised using a ﬁrst-order shear-deformation\\ntheory (FSDT) based element [18], was used to perform the numerical tests. It is shown that the numberof natural frequencies and mode shapes used on theFRF computation, the frequency range and the exci-tation location are important factors in the accu-racy of the identiﬁcation results. The results of thetechnique presented in this paper are compared to\\nthose obtained by a technique based on modal data\\n[12].2. Damage identiﬁcation technique\\n2.1.FRF computation\\nThe FRF matrix A(x) of the undamaged structure\\ncanbedeﬁnedintermsofthemodalmodel,i.e., interms\\nof a speciﬁed number of its natural frequencies and\\nmode shapes, as\\nAðxÞ¼QðDxÞ',\n",
       " 'of a speciﬁed number of its natural frequencies and\\nmode shapes, as\\nAðxÞ¼QðDxÞ\\n/C01QT; ð1Þ\\nwhere\\nQ¼q11 q12 ... q1ðn/C01Þ q1n\\nq21 q22 ... q2ðn/C01Þ q2n\\n...............\\nq\\nðNg/C01Þ1qðNg/C01Þ2... qðNg/C01Þðn/C01ÞqðNg/C01Þn\\nqNg1 qNg2 ... qNgðn/C01Þ qNgn2\\n666666643\\n77777775\\nð2Þ\\nis the modal matrix, where the ﬁrst and second subscripts denote, respectively, the DOF and the mode\\nshape.\\nDxis a diagonal matrix, deﬁned as\\nDx¼k\\n1/C0x20 ... 00',\n",
       " 'Dxis a diagonal matrix, deﬁned as\\nDx¼k\\n1/C0x20 ... 00\\n0 k2/C0x2... 00\\n...............\\n00 ...k\\nn/C01/C0x20\\n00 ... 0 kn/C0x22\\n666666643\\n77777775;\\nð3Þ\\nwhere the subscript in kdenotes the squared natural frequency and xis the excitation frequency.\\nMatrices QandDxhave dimensions Ng·nand\\nn·n, respectively, where Ngis the total degrees of freedom (t-DOF) and nis the number of computed natural\\nfrequencies and mode shapes of the undamaged structure. Therefore, the FRF matrix A(x) has order Ng,\\nbut a rank of n. Note that the structure has no damping.\\nMatrix Qand the eigenvalues k\\niare computed using ﬁnite element analysis.',\n",
       " 'Matrix Qand the eigenvalues k\\niare computed using ﬁnite element analysis.\\nSimilarly, one can compute the FRF matrix eAðxÞof\\nthe damaged structure as follows:\\neAðxÞ¼eQðD~xÞ/C01eQT; ð4Þ\\nwhere\\neQ¼~q11 ~q12 ... ~q1ðm/C01Þ ~q1m\\n~q21 ~q22 ... ~q2ðm/C01Þ ~q2m\\n...............\\n~qðNg/C01Þ1~qðNg/C01Þ2... qðNg/C01Þðm/C01Þ~qðNg/C01Þm\\n~qNg1 ~qNg2 ... ~qNgðm/C01Þ ~qNgm2\\n666666643\\n77777775',\n",
       " '666666643\\n77777775\\nð5Þ240 J.V.Arau´jodosSantosetal./ Composite Structures 67(2005)239–249\\nand\\nD~x¼~k1/C0x20 ... 00\\n0 ~k2/C0x2... 00\\n...............\\n00 ... ~km/C01/C0x20\\n00 ... 0 ~km/C0x22\\n666666643\\n77777775:\\nð6Þ\\nNow, matrices eQandD~xhave dimensions Ng·m\\nandm·m, respectively, where mis the number of computed natural frequencies and mode shapes of the dam-aged structure. In this case, the FRF matrix eAðxÞrank\\nm.\\n2.2. FRF sensitivities\\nConsidering that a single-input unit force f\\nlis applied',\n",
       " 'm.\\n2.2. FRF sensitivities\\nConsidering that a single-input unit force f\\nlis applied\\nto thelth DOF of both the undamaged and damaged\\nstructure one gets\\neZðxÞ~alðxÞ¼fl¼ZðxÞalðxÞ; ð7Þ\\nwhere eZðxÞandZ(x) are the dynamic stiﬀness matrices\\nof the damaged and undamaged structure, respectively.The vectors ~a\\nlðxÞand al(x) are thelth column of\\neAðxÞandA(x), respectively.\\nThe above equation can be written as\\nDZðxÞ~alðxÞ¼fl/C0ZðxÞ~alðxÞ; ð8Þ\\nwithDZðxÞ¼eZðxÞ/C0ZðxÞ. The right-hand side of this\\nexpression is ill-conditioned [19]and, therefore, one\\nmust pre-multiply both sides of Eq. (8)byA(x):',\n",
       " 'expression is ill-conditioned [19]and, therefore, one\\nmust pre-multiply both sides of Eq. (8)byA(x):\\nAðxÞDZðxÞ~alðxÞ¼alðxÞ/C0 ~alðxÞ: ð9Þ\\nNote that flis thelth column of the identity matrix. The\\nright-hand side of Eq. (9)is the diﬀerence between the\\nundamaged and damaged structure FRF.\\nConsidering a ﬁrst-order Taylor expansion, the damaged dynamic stiﬀness eZis given by\\neZðxÞ¼ZðxÞþDZðxÞ¼ZðxÞþXN\\ne¼1oeZðxÞ\\noðdbeÞdbe;ð10Þ\\nwhereNis the number of ﬁnite elements and dbe2[0,1[\\nis the element edamage parameter.\\nFor each ﬁnite element e\\noeZðxÞ\\noðdbeÞ¼oðeK/C0x2MÞ',\n",
       " 'oeZðxÞ\\noðdbeÞ¼oðeK/C0x2MÞ\\noðdbeÞ¼oeK\\noðdbeÞfore¼1;...;N;\\nð11Þ\\nsince the mass is constant.\\nDeﬁning the damaged global stiﬀness matrix by\\neK¼K/C0dK ð12Þor, at the ﬁnite element level\\neKe¼Ke/C0dKe¼Ke/C0dbeKe; ð13Þ\\nEq.(11)becomes\\noeZðxÞ\\noðdbeÞ¼oeK\\noðdbeÞ¼/C0Ke: ð14Þ\\nReplacing (14)in(10)one gets\\nDZðxÞ¼eZðxÞ/C0ZðxÞ¼/C0XN\\ne¼1Kedbe ð15Þ\\nand Eq. (9)can be written as\\nXN',\n",
       " 'e¼1Kedbe ð15Þ\\nand Eq. (9)can be written as\\nXN\\ne¼1AeðxÞKeealeðxÞdbe¼~alðxÞ/C0alðxÞ: ð16Þ\\nThe matrix Ae(x) and the vector ~aleðxÞcontain the entries of A(x) and ~alðxÞrelative to element e,\\nrespectively.\\nExpression (16)deﬁnes a set of Nglinear equations,\\nwithNunknowns. If one considers Nfexcitation frequencies the number of equations increases to M=\\nNg·Nf. In compact form, expression (16)is written as\\nSdb¼da: ð17Þ\\nOnecanuse Nesingle-inputunitforcesappliedtodifferent DOF, leading to M=Ng·Nf·Neequations.\\nHowever, in thepresent work, only one single-input unit\\nforce flwas applied to the lth DOF of both the undamaged and damaged structure.\\nThe least-squares solution of (17)is given by,',\n",
       " 'The least-squares solution of (17)is given by,\\ndb¼ðSTSÞ/C01STda¼Sþda; ð18Þ\\nwhere S+is the pseudo-inverse of S.\\nIn the above formulation it is implicit that one knows\\nall the DOF of the damaged structure. However, that isnot possible to accomplish in practice, as, for instance,rotational DOF are very diﬃcult to obtain experimen-tally. Consequently, the unknown degrees of freedom(u-DOF) of the damaged structure should be determined using an expansion of the measured degrees\\nof freedom (m-DOF). To achieve this purpose, them-DOF dynamic or static expansions may be used.The dynamic and static expansion processes are per-formed as described in [12].\\n2.3. Equations weighting, deletion and solving\\nThe solution given by expression (18)depends not',\n",
       " '2.3. Equations weighting, deletion and solving\\nThe solution given by expression (18)depends not\\nonly on the quality of measured FRF data but also onthe weighting technique applied to the equations. Thisweighting is needed because without it the least-squaressolution is dominated by the equations with the largestcoeﬃcients. This means that the solution is dominatedby the equations deﬁned at frequencies and locationswhere the vibration response magnitudes are signiﬁcant,J.V. Arau´jodosSantosetal./CompositeStructures67(2005)239–249 241\\novershadowing the information at other frequencies and\\nlocations. Therefore, one should consider all the fre-quenciesandlocations. Inthis work,onemultipliesbothsidesofeachequationbyascalingfactorsothatthesumof coeﬃcient squares in a resultant equation is unity[20].\\nThe vector darepresents a subtraction between two\\nquantities (e.g. ~a',\n",
       " 'The vector darepresents a subtraction between two\\nquantities (e.g. ~a\\nilðxkÞ/C0ailðxkÞ). If theith equation, relative to the kth frequency, has elements ~ailðxkÞand\\nail(xk) of similar magnitudes, the measurement error\\nmay be signiﬁcantly magniﬁed after weighting. To over-come this problem, such an equation should be re-moved. One deletes the ith equation if [20]\\n2\\njeailðxkÞ/C0ailðxkÞj\\njeailðxkÞj þ j ailðxkÞj6Dfork¼1;...;Nf; ð19Þ\\nwhere D2[0,2]. When D= 0, no equation is deleted.\\nWhen D= 2, all the equations are deleted. The value\\nof the equations deletion parameter Dshould be chosen\\nin function of both error levels in the measured data andamount of measured data. If the error levels are highand the measured data are suﬃcient, a large Dvalue',\n",
       " 'in function of both error levels in the measured data andamount of measured data. If the error levels are highand the measured data are suﬃcient, a large Dvalue\\nmay be appropriate; if the errors levels are low and\\nthe measured data are limited, a small Dvalue should\\nbe chosen [20].\\nBesides the problem of ﬁnding reliable equations,\\nthe physicaladmissible solution ofEq. (17)is not always\\nobtained using algorithms such as the singular valuedecompositon (SVD) [21,19], as can be seen in [6,7].\\nIn Ref. [8]two alternative algorithms were proposed: the non-negative least-squares (NNLS) [21]and\\nthe bounded-variable least-squares (BVLS) [22]. The\\nauthors have been using this last algorithm with successin the damage identiﬁcation using the sensitivities ofmodal characteristics with model incompleteness anderrors[12].\\nThe BVLS algorithm leads to a solution deﬁned by\\nminkSdb¼dak',\n",
       " 'The BVLS algorithm leads to a solution deﬁned by\\nminkSdb¼dak\\n2subject to 0 6db61: ð20Þ\\nIn other words, the solution is such that all the ﬁnite\\nelements are either undamaged ( dbe= 0) or with a positive quantity of damage ( dbe61). The solution vector\\ndbobtained using the SVD algorithm may contain elements with negative damage, i.e., elements with an increase of stiﬀness.\\n2.4. Damageidentiﬁcation accuracyindicators\\nIn order to classify the accuracy of the results, some\\nindicators were used. The damage missing error is de-ﬁned as[23,24],\\nDME ¼1\\nNTXNT\\nt¼1eI\\ntfor 06DME61; ð21Þwhere NT is the number of true damaged elements and\\neI\\nt¼0 if the truly damaged element tis identiﬁed or\\neI',\n",
       " 'eI\\nt¼0 if the truly damaged element tis identiﬁed or\\neI\\nt¼1 otherwise.If DME = 0,then all true damaged elements are detected.\\nAs a second accuracy indicator we chose the false\\nalarm error [23,24],\\nFAE ¼1\\nNFXNF\\np¼1eII\\npfor 06FAE61; ð22Þ\\nwhere NF is the number of predicted damaged elements\\nandeII\\np¼0 if the predicted damaged element pis truly\\ndamaged or eII\\np¼1 otherwise. If FAE = 0, then all predicted damaged elements are truly damaged elements.\\nThe mean sizing error [24]deﬁnes an average value of\\nthe absolute discrepancies between the true damage\\nparameters dbt\\neand the computed damage parameters\\ndbc\\ne:\\nMSE ¼1\\nNXN\\ne¼1jdbt\\ne/C0dbc',\n",
       " 'e:\\nMSE ¼1\\nNXN\\ne¼1jdbt\\ne/C0dbc\\nejfor 06MSE <1: ð23Þ\\nThe relative error,\\nRE¼PN\\ne¼1jdbt\\nej/C0PN\\ne¼1jdbc\\nejPN\\ne¼1jdbt\\nejfor 06RE61;ð24Þ\\ngives an indication of the relative discrepancies between\\nthe true and computed damage parameters.\\nAn element is taken as damaged if dbc\\ne>2/C2MSE\\n[24]. The smallest the values of DME, FAE, MSE and\\nREthebettertheresults.Theﬁrsttwoindicatorsclassifythe results in terms of damage location, while the lasttwo are related to the damage quantiﬁcation accuracy.\\n3. Applications\\nThe structure analysed is a carbon ﬁbre reinforced',\n",
       " '3. Applications\\nThe structure analysed is a carbon ﬁbre reinforced\\nepoxy rectangular plate, free in space, with a [0]\\n8stacking sequence. The material properties of the layers,which have equal thicknesses, are presented in Table 1.\\nThe plate in-plane dimensions are shown in Fig. 1and\\nits thickness is 3.385mm. In order to compute the natu-ral frequencies and mode shapes, the plate is discretised\\nin 12 ·12 ﬁnite elements based on the FSDT [18].\\nTherefore, one has 144 unknowns. Each element haseight nodes, with three DOF pernode: one transverse\\ndisplacement and two rotations, yielding a total of 481nodes and 1443 DOF. A shift must be carried out, inorder to make the stiﬀness matrix positive deﬁnite, since\\nTable 1\\nMechanical properties of the layers',\n",
       " 'Table 1\\nMechanical properties of the layers\\nE1[GPa]E2[GPa]G12[GPa]G23[GPa] m12 q[kg/m3]\\n107.4 8.3 4.2 8.8 0.384 1533.8242 J.V.Arau´jodosSantosetal./ Composite Structures 67(2005)239–249\\nthe plate is free in space [25]. After the computation of\\nnatural frequencies and mode shapes, using a skylinetype assemblage of matrices and the subspace iterationmethod[26], one uses expressions (1)and(4)tocompute\\nthe FRF of the undamaged and damaged structure,respectively.\\nThe damage was simulated in 16 elements ( Fig. 1).\\nThe elements damage parameters of each ofthe ﬁve sim-ulated cases are shown in Table 2, where is also presented the sum of the damage parameters, deﬁned askdb\\ntk1¼XN\\ne¼1jdbt',\n",
       " 'tk1¼XN\\ne¼1jdbt\\nej: ð25Þ\\nFour incomplete models were considered: 481, 325,\\n156 and 49 transverse displacements m-DOF. The blackdots inFig. 2indicate the nodes where these displacements are measured.\\nThe results presented in this paper are relative to\\nthree frequency ranges: (i) [50,1000] Hz; (ii)[1100,1900] Hz and (iii) [50,1900] Hz. Excitation fre-quencies in a range ±20Hz from natural frequenciesare eliminated. This is done because it is likely that rel-ativelyhighlevelsofnoiseontheexcitationsignalatres-onance be attained [27]. The excitation frequencies are\\nspeciﬁed such that there is a spacing of 50Hz between\\ntwo consecutive excitation frequencies. This leads to a\\ntotal of 14 excitation frequencies for the ﬁrst two fre-quency ranges and 28 for the third frequency range.',\n",
       " 'total of 14 excitation frequencies for the ﬁrst two fre-quency ranges and 28 for the third frequency range.\\nFig. 1. Element numbering and damaged area.Table 2\\nSimulated damage cases\\nElement Case 1 Case 2 Case 3 Case 4 Case 5\\n53, 54, 55, 56\\n65, 68, 77, 80 0.0625 0.1250 0.2500 0.3750 0.450089, 90, 91, 92\\n66, 67, 78, 79 0.1250 0.2500 0.5000 0.7500 0.9000kdb\\ntk1 1.2500 2.5000 5.0000 7.5000 9.0000\\n(a) (b)\\n(c) (d)',\n",
       " '(a) (b)\\n(c) (d)\\nFig. 2. Nodes with m-DOF: (a) 481 m-DOF, (b) 325m-DOF, (c) 15 6 m-DOF and (d) 49 m-DOF.J.V. Arau´jodosSantosetal./CompositeStructures67(2005)239–249 243\\n3.1. Complete models\\n3.1.1. Without equationsweighting or deletion\\nThe following results were obtained with the knowledge of all the DOF of both undamaged and damagedstructure, i.e., one knows all the NgDOF.\\nThe FRF matrices accuracy greatly depend on the\\nnumber of natural frequencies and mode shapes usedin their computation (see Section 2.1). Indeed, the dam-age identiﬁcation results improve as the used number ofnaturalfrequenciesandmodeshapesincreases( Table3).\\nGrafe[28]showed that the response can suﬃciently be',\n",
       " 'Grafe[28]showed that the response can suﬃciently be\\napproximated by using a truncated number of frequen-cies and mode shapes and proposed to use a truncated\\nmodal solution of 2 ·Nmnatural frequencies and mode\\nshapes to approximate the response matrix in the fre-quency range that contains the ﬁrst Nmmodes. Attending to this, in the present case one can compute thematrix A(x) and the vector ~a\\nlðxÞwith suﬃcient accuracy using m=n= 26, since there are 13 natural frequencies and mode shapes in the frequency range[50,1900] Hz. However, in view of the results in Table\\n3, it is better to consider more than 3 ·Nmnatural frequencies and mode shapes.\\nFig. 3shows the diﬀerences between receptances of\\nthe undamaged structure computed with n= 10 and\\nn= 40. One sees that there is a relative superposition\\nof the curves for the range [0,200] Hz and the anti-reso-nances decrease as the nincreases. The values of the',\n",
       " 'of the curves for the range [0,200] Hz and the anti-reso-nances decrease as the nincreases. The values of the\\nresonances are much less aﬀected by n. This behaviour\\nis in agreement with that found in the work of Grafe\\n[28]. All the following damage identiﬁcation results\\nare relative to a computation of FRF with a truncatedmodal solution of n=m= 40 frequencies and mode\\nshapes.\\nInFig. 4are presented the graphics relating the degree of damage with the absolute value of RE for theTable 3\\nAccuracy indicators in function of natural frequencies and mode\\nshapes number (3rd damage case, [50,1900] Hz, M=40404, 1441th\\nexcitation DOF)\\nNo of frequencies\\nand modes, m,nDME FAE MSE RE\\n10 0.5625 0.2222 0.0451 /C00.0965',\n",
       " '10 0.5625 0.2222 0.0451 /C00.0965\\n20 0.06250.06250.0145 /C00.0219\\n30 0.1250 0.0000 0.0175 /C00.0088\\n40 0.0000 0.0000 0.0072 /C00.0012Frequency [Hz]00\\n200 400 600 800 1000 1200 1400 1600 1800Receptance [dB re.1m/N]\\n−180−160−140−120−100−80−60−40−20n= 40n= 10\\nFrequenc y [Hz]00',\n",
       " 'Frequenc y [Hz]00\\n200 400 600 800 1000 1200 1400 1600 1800Receptance [dB re.1 m/N]\\n−160−140−120−100−80−60−40−202040\\nn= 40n= 10(a)\\n(b)\\nFig. 3. Receptance curves: (a) Direct receptance (1441st DOF, 1441st\\nDOF), (b) Transfer receptance (1441st DOF, 1st DOF).\\n||δbt||1|RE|[50-1000] Hz\\n[1100-1900] Hz',\n",
       " '||δbt||1|RE|[50-1000] Hz\\n[1100-1900] Hz\\n0 1 2 3 4 5 6 7 8            9 100.0000.0050.0100.0150.0200.0250.0300.0350.0400.0450.050\\nFig. 4. Degree of damage and absolute value of RE for diﬀerent frequency ranges.244 J.V.Arau´jodosSantosetal./ Composite Structures 67(2005)239–249\\nfrequency ranges [50,1000] Hz and [1100–1900] Hz.\\nNote that in both cases there are M= 20202 equations.',\n",
       " 'Note that in both cases there are M= 20202 equations.\\nOne can see that the best results are obtained with thelower frequency range. This corroborates the fact thatthe receptances in the higher frequency range are com-puted with less accuracy than those in the lower frequency range. Fig. 5shows the results for the fourth\\ndamagecasewithbothfrequencyranges.Theresultwiththe lower frequency range is indeed better than the onewith the higher frequency range ( Table 4). Indeed, in\\nFig. 5(b) there are more false identiﬁed elements (darker\\ncolumns) than in Fig. 5(a).\\nThe excitation location was also studied. Table 5presents the accuracy indicators relative to the application\\nof the excitation in the center (721th DOF) and the inferior right corner (1441th DOF) of the plate,for the thirddamage case, using the frequency range [0,1900] Hz. InFig. 6one sees that the best results are in fact obtained\\nby applying the excitation at the corner of the plate. Indeed, many modes have nodes, where the response',\n",
       " 'by applying the excitation at the corner of the plate. Indeed, many modes have nodes, where the response\\namplitude is zero, in the center of the plate and the sys-tem of equations is more ill-conditioned when onex\\nyDamage parameterδe\\n0.000.100.200.300.400.500.600.700.800.901.00b\\nx\\nyDamage parameterδe\\n0.000.100.200.300.400.500.600.700.800.901.00b(a)\\n(b)\\nFig. 5. Fourth damage case results with diﬀerent frequency ranges\\n(M=20202): (a) [50,1000] Hz, (b) [1100,1900] Hz.x\\nyDamage parameterδe',\n",
       " 'yDamage parameterδe\\n0.000.100.200.300.400.500.600.700.800.901.00b\\n(b)x\\nyDamage parameterδe\\n0.000.100.200.300.400.500.600.700.800.901.00b\\n(a)\\nFig. 6. Third damage case results with diﬀerent excitation locations:\\n(a) Plate inferior right corner (1441st DOF), (b) Plate center (721st\\nDOF).Table 4Accuracy indicators in function of frequency range (4th damage case,M= 20202, 1441th excitation DOF)\\nFrequency range DME FAE MSE RE\\n[50,1000] Hz 0.0000 0.0000 0.0140 /C00.0036',\n",
       " '[1100,1900] Hz 0.0000 0.2381 0.0094 /C00.0447\\nTable 5\\nAccuracy indicators in function of the excitation location (3rd damage\\ncase,n=m= 40, [50,1900] Hz, M= 40404)\\nExcitation DOF DME FAE MSE RE\\n1441 0.0000 0.0000 0.0072 /C00.0012\\n721 0.0000 0.1111 0.0120 /C00.0087J.V. Arau´jodosSantosetal./CompositeStructures67(2005)239–249 245\\napplies the excitation at this point. Hence, one must not\\nassume a priori that the best results are obtained byapplying the excitation in the damaged area.\\nIn all the remaining Sections of this paper, the results',\n",
       " 'In all the remaining Sections of this paper, the results\\npresented were obtained using the frequency range[0,1900] Hz, which leads to M= 40404 equations.\\n3.2. Incomplete models\\n3.2.1. Without errors, equations weighting ordeletion\\nTo study the diﬀerences among the dynamic and static expansions, as well as the inﬂuence of the number ofm-DOF in the results, tests were performed with thefour incomplete models. After the multiplications in\\nEq.(16), the equations relative to the u-DOF are discarded, i.e., they are not included in the damage identi-ﬁcation process. For example, the incomplete modelwith 49 m-DOF leads to M=4 9·28 = 1372 equations.\\nTable 6shows the DME, FAE, MSE and RE values\\nfor the third damage case. It can be seen that the bestresults are obtained with the dynamic expansion. As ex-pected, when the number of m-DOF increases the accuracy indicators values decrease and the diﬀerences',\n",
       " 'among the methods also become smaller. For the caseof 481 m-DOF the diﬀerences between the results arenot noticeable.\\nInFig. 7one can see that as the damage increases,\\ni.e., as the sum of the true damage parameters kdb\\ntk1increases,theerror intheidentiﬁcationprocess,deﬁnedbythe absolute value of RE, also increases. In fact, the difference between the stiﬀness matrices used in the expansion process and the real damaged structure stiﬀnessmatrices increases as the damage increases. Hence, forlarge damage, the vector ~a\\nlðxÞobtained with the expansion will be very diﬀerent from the real one.3.2.2. With errors andwithoutequations weighting or\\ndeletion\\nThe presence of measurement noises and errors was\\nsimulated by incorporating a random perturbation of5.0% error in the amplitudes of the m-DOF of the damaged structure. These errors were simulated by generating a random number R2[0,1] in a uniform',\n",
       " 'distribution. As in the previous sub-section, the equa-tions relative to u-DOF are discarded.\\nThe DME, FAE, MSE and RE values for the third\\ndamage case are presented in Table 7 and show that\\nthe presence of errors leads to incorrect damage identi-ﬁcations and have a strong inﬂuence on all the accuracy\\nindicators. Note that the accuracy indicators with 481\\nm-DOF are equal and with 325and 15 6 m-DOF are al-most the same for dynamic and static expansions.\\nTable 6\\nThird damage case DME, FAE, MSE and RE values with incomplete\\nmodels (n=m= 40, [50,1900] Hz)\\nNo. of\\nm-DOFNo. of\\nequations,MMethod DME FAE MSE RE\\n481 13468 Dynamic\\nexpansion0.0000 0.0588 0.0090 /C00.0226\\nStatic',\n",
       " 'expansion0.0000 0.0588 0.0090 /C00.0226\\nStatic\\nexpansion0.0000 0.0588 0.0090 /C00.0226\\n3259100 Dynamic\\nexpansion0.0000 0.0588 0.0098 /C00.0263\\nStatic\\nexpansion0.0000 0.0588 0.0100 /C00.0269\\n156 4368 Dynamic\\nexpansion0.0000 0.0588 0.0080 /C00.0255\\nStatic\\nexpansion0.0000 0.0588 0.0083 /C00.0260\\n49 1372 Dynamic\\nexpansion0.1250 0.1250 0.0231 /C00.0842',\n",
       " 'expansion0.1250 0.1250 0.0231 /C00.0842\\nStatic\\nexpansion0.2500 0.1429 0.0227 /C00.0940Table 7\\nThird damage case DME, FAE, MSE and RE values with incomplete\\nmodels and 5.0% error in the amplitudes of the m-DOF ( n=m= 40,\\n[50,1900] Hz)\\nNo. of\\nm-DOFNo. of\\nequa-tions,MMethod DME FAE MSE RE\\n481 13468 Dynamic\\nexpansion0.06250.1667 0.0188 /C00.0304\\nStatic\\nexpansion0.06250.1667 0.0188 /C00.0304\\n3259100 Dynamic',\n",
       " '3259100 Dynamic\\nexpansion0.06250.21050.015 8 /C00.0713\\nStatic\\nexpansion0.06250.21050.015 8 /C00.0720\\n156 4368 Dynamic\\nexpansion0.06250.21050.0164 /C00.0402\\nStatic\\nexpansion0.06250.21050.0165 /C00.0409\\n49 1372 Dynamic\\nexpansion0.31250.15 38 0.0321 /C00.0898\\nStatic\\nexpansion0.3750 0.0769 0.0334 /C00.1017||δbt||1481 m-DO F ( M = 13468)49 m-DO F ( M = 1372)',\n",
       " '0 1 2 3 4 5 6 7 8            9 100.40\\n0.35\\n0.300.45\\n0.200.25\\n0.15\\n0.10\\n0.05\\n0.00|RE|\\nFig. 7. Degree of damage and absolute value of RE with incomplete\\nmodels (dynamic expansion).246 J.V.Arau´jodosSantosetal./ Composite Structures 67(2005)239–249\\nFig. 8shows a graphic that relates the degree of damage to the absolute value of RE when incompletenessand errors are both present. This graphic presents twodistinct zones, for each case of incompleteness: (1) the\\ncontinuous lines relate to the inﬂuence of errors alone.',\n",
       " 'continuous lines relate to the inﬂuence of errors alone.\\nIn fact, when the damage is small, the diﬀerences amongthe damage and undamaged structure behaviour willalso be small and, therefore, the errors will overshadowthis diﬀerences; (2) the broken lines indicate the inﬂu-ence of incompleteness, because the expansion ofm-DOF is not suﬃciently correct for large damagevalues (see Section 3.2.1). The ﬁrst damage case presents\\nalmost the same value of RE for both 481 and 49m-DOF. This seems to prove that the main inﬂuenceis in fact the presence of errors.\\n3.2.3. With errorsand equationsweighting and deletion\\nIn this sub-section is presented the study of the equations deletion parameter D,deﬁned by Eq. (19).Fig. 9(a)\\npresents the accuracy indicators jREjand MSE in function of Dfor the third damage case, dynamic expansion',\n",
       " 'presents the accuracy indicators jREjand MSE in function of Dfor the third damage case, dynamic expansion\\nof 49 m-DOF and 5.0% errors in the amplitudes ofm-DOF. For D2[0.50,1.95] the values of these indicators are the lowest, with jREj< 0.1400 and MSE <\\n0.0260. The minimum values of jREjand MSE are obtained with D= 0.50. However, not all the values of\\nD2[0.50,1.95] present low values of FAE and DME\\n(Fig. 9(b)). These two indicators show a minimum for\\n||δbt||1|RE|481m-DOF ( M=13468)49m-DOF ( M=1372)\\n0 1 2 3 4 5 6 7 8            9 100.000.050.100.150.200.250.300.350.400.45',\n",
       " 'Fig. 8. Degree of damage and absolute value of RE with incomplete\\nmodels and errors (dynamic expansion).\\n∆|RE|\\nMSE|R E|\\nMS E\\n0.75 1.25 1.50 1.75 2.00 0.000.000.100.20\\n0.250.300.40\\n0.500.500.600.700.800.90\\n1.001.001.101.20\\n0. 0000. 0050. 0100. 0150. 0200. 0250. 0300. 0350. 0400. 0450. 0500. 0550. 0600. 0650. 0700. 0750. 080\\n∆FAE\\nDMEFA E\\nDME',\n",
       " '∆FAE\\nDMEFA E\\nDME\\n0.75 1.25 1.50 1.75 2.000.00\\n0.000.000.05 0.050.10 0.100.15 0.150.20 0.200.25\\n0.250.250.30 0.300.35 0.350.40 0.400.45 0.450.50\\n0.500.50\\n1.00(a)\\n(b)\\nFig.9. Thirddamagecaseaccuracyindicatorsinfunctionofequations\\ndeletionparameter D(dynamicexpansionof49m-DOF,5.0%errorsin\\nthe amplitudes of m-DOF): (a) jREjand MSE, (b) FAE and DME.x\\nyDamage parameterδe',\n",
       " 'yDamage parameterδe\\n0.000.100.200.300.400.500.600.700.800.901.00b\\nx\\nyDamage parameter be\\n0.000.100.200.300.400.500.600.700.800.901.00\\nδ(a)\\n(b)\\nFig. 10. Third damage case results (dynamic expansion of 49 m-DOF,\\n5.0% errors in the amplitudes of m-DOF): (a) no weighting and no\\ndeletion of equations ( M=1372), (b) weighting and deletion of\\nequations with D= 0.5(M= 423).J.V. Arau´jodosSantosetal./CompositeStructures67(2005)239–249 247\\nD= 0.50. Therefore, one can conclude that the best',\n",
       " 'D= 0.50. Therefore, one can conclude that the best\\nvalue of Dis0.50.Fig. 10shows theidentiﬁcation results\\nin all elements for the third damage case, dynamicexpansion of 49 m-DOF and 5.0% errors in amplitudesof m-DOF. In Fig. 10(a) there are more false identiﬁed\\nelements away from the real damaged area than in\\nFig. 10(b). Hence, the best results are in fact obtained\\nby weighting and deleting equations.\\n3.3. FRF sensitivity techniqueversus modal sensitivity\\ntechnique\\nComparing the results presented in this paper with\\nthose in[12], it can be concluded that the FRF sensitivity technique results are better than those based on the\\nmodal sensitivity. One of the causes for this is that thislast technique presents an underdetermined set of equa-tions, whereas the technique presented here leads to anoverdetermined set of equations.\\n4. Conclusions\\nIn this paper a damage identiﬁcation technique based',\n",
       " '4. Conclusions\\nIn this paper a damage identiﬁcation technique based\\non FRF sensitivities is presented. The set of linear equa-tions obtained is solved using the bounded-variablesleast-squares algorithm, which constrains the solutionto be physically admissible. The damage identiﬁcationwas performed on a laminated rectangular plate, discre-tised using a ﬁnite element model. It was found that the\\nFRF matrices should be computed with at least three\\ntimes the number of natural frequencies and modeshapes contained in the frequency range of interest.The frequency range and the excitation location are alsoimportant, and the better identiﬁcation results are ob-tained in lower frequency ranges and excitation pointswere there are no nodes. The tests show that the dy-namic expansion of m-DOF presents better results than\\nthose of the static expansion and as the number of',\n",
       " 'those of the static expansion and as the number of\\nm-DOF increases, there are an improvement in the re-sults.Itisdemonstratedthatforsmalldamagetheerrorsare the main inﬂuence in the identiﬁcation quality,whereas for large damage the incompleteness becomesthe most important factor. A procedure for weightingand deletion of equations is used to improve the identi-ﬁcation results. It was also found that the present technique presents better results than those obtained when\\nusing a technique based on modal data sensitivities.\\nAcknowledgment\\nThe authors would like to thank the ﬁnancial support\\nreceived from FCT and POCTI/FEDER (Projects POCTI/EME/12028/98/2001 and POCTI/2001/EME/37559).References\\n[1] Doebling SW, Farrar CR, Prime MB, Shevitz DW. Damage\\nidentiﬁcation and health monitoring of structural and mechanical\\nsystemsfromchangesintheirvibrationcharacteristics:aliterature',\n",
       " 'identiﬁcation and health monitoring of structural and mechanical\\nsystemsfromchangesintheirvibrationcharacteristics:aliterature\\nreview. LA-13070-MS. Los Alamos National Laboratory; 1996.\\n[2] Zou Y, Tong L, Steven GP. Vibration-based model-dependent\\ndamage (delamination) identiﬁcation and health monitoring for\\ncompositesstructures—areview.JSoundVib2000;230(2):357–78.\\n[3] Stubbs N, Osegueda R. Global damage detection in solidsexperimental veriﬁcation. Int J Anal Exp Modal Anal 1990;5(2):\\n81–97.\\n[4] Stubbs N, Osegueda R. Global non-destructive damage evaluation in solids. Int J Anal Exp Modal Anal 1990;5(2):67–79.\\n[5] Ricles JM, Kosmatka JB. Damage detection in elastic structures\\nusing vibratory residual forces and weighted sensitivity. AIAA J',\n",
       " 'using vibratory residual forces and weighted sensitivity. AIAA J\\n1992;30(9):2310–6.\\n[6] Arau´jo dos Santos JV, Mota Soares CM, Mota Soares CA, Pina\\nHLG. Identiﬁcation of damage in composite structures: a\\nnumerical model. Mech Compos Mater Struct 1999;6(4):363–76.\\n[7] Arau´jo dos Santos JV, Mota Soares CM, Mota Soares CA, Pina\\nHLG. Development of a numerical model for the damage\\nidentiﬁcation on composite plate structures. Compos Struct\\n2000;48:59–65.\\n[8] Arau´jo dos Santos JV, Mota Soares CM, Mota Soares CA, Pina\\nHLG. A damage identiﬁcation numerical model based on the\\nsensitivity of orthogonality conditions and least squares techniques. Comput Struct 2000;78(1–3):283–91.',\n",
       " 'sensitivity of orthogonality conditions and least squares techniques. Comput Struct 2000;78(1–3):283–91.\\n[9] Kim J-T, Stubbs N. Improved damage identiﬁcation method\\nbased on modal information. J Sound Vib 2002;252(2):223–38.\\n[10] Titurus B, Friswell MI, Starek L. Damage detection using generic\\nelements: Part I. Model updating. Comput Struct 2003;81:2273–86.\\n[11] Titurus B, Friswell MI, Starek L. Damage detection using generic\\nelements: Part II. Damage detection. Comput Struct 2003;81:2287–99.\\n[12] Arau´jo dos Santos JV, Mota Soares CM, Mota Soares CA, Maia\\nNMM. Structural damage identiﬁcation: Inﬂuence of model\\nincompleteness and errors. Compos Struct 2003;62:303–13.',\n",
       " 'incompleteness and errors. Compos Struct 2003;62:303–13.\\n[13] Lin RM, Ewins DJ. Analytical model improvement using frequency response functions. Mech Syst Signal Process 1994;8(4):\\n437–58.\\n[14] Wang Z, Lin RM, Lim MK. Structural damage detection using\\nmeasured FRF data. Comput Methods Appl Mech Eng1997;147:187–97.\\n[15] Modak SV, Kundra TK, Nakra BC. Prediction of dynamic\\ncharacteristics using updated ﬁnite element models. J Sound Vib2002;254(3):447–67.\\n[16] Kidder RL. Reduction of structural frequency equations. AIAA J\\n1973;11(6):892.\\n[17] Guyan RJ. Reduction of stiﬀness and mass matrices. AIAA J\\n1965;3(2):380.',\n",
       " '1965;3(2):380.\\n[18] Mota Soares CM, Freitas MM, Arau ´jo AL, Pedersen P. Identiﬁcation of material properties of composite plate specimens.Compos Struct 1993;25:277–85.\\n[19] Maia NMM, Silva JMM, editors. Theoretical and experimental\\nmodal analysis. New York: John Wiley & Sons, Ltd; 1997.\\n[20] Ren Y, Beards CF. Identiﬁcation of joint properties of a structure\\nusing FRF data. J Sound Vib 1995;186(4):567–87.\\n[21] Lawson CL, Hanson RJ. Solving least squares problems. Englewood Cliﬀs, NJ: Prentice-Hall, Inc; 1974.\\n[22] Stark PB, Parker RL. Bounded-variable least-squares: an algorithm and applications. Comput Statist 1995;10:129–41.',\n",
       " '[23] Kim J-T, Stubbs N. Model-uncertainty impact and damagedetection accuracy in plate girder. J Struct Eng 1995;121(10):1409–17.248 J.V.Arau´jodosSantosetal./ Composite Structures 67(2005)239–249\\n[24] Yun C-B, Yi J-H, Bahng EY. Joint damage assessment of framed\\nstructures using a neural networks technique. Eng Struct2001;23:425–35.\\n[25] Zienkiewicz OC. The ﬁnite element method in engineering\\nscience. New York: McGraw-Hill; 1971.\\n[26] Bathe K-J. Finite element procedures. Englewood Cliﬀs, New\\nJersey: Prentice-Hall; 1996.[27] Friswell MI, Mottershead JE. In: Finite element model updating',\n",
       " 'in structural dynamics. Solid Mechanics and its Applications, vol.9. The Netherlands: Kluwer Academic Publishers; 1995.\\n[28] Grafe H. Model updating of large structural dynamics models\\nusing measured response functions. PhD thesis. Imperial College\\nof Science, Technology and Medicine, University of London;1999.J.V. Arau´jodosSantosetal./CompositeStructures67(2005)239–249 249']"
      ]
     },
     "execution_count": 63,
     "metadata": {},
     "output_type": "execute_result"
    }
   ],
   "source": [
    "chunks"
   ]
  },
  {
   "cell_type": "code",
   "execution_count": 89,
   "metadata": {},
   "outputs": [],
   "source": [
    "from langchain.document_loaders import PyPDFLoader\n",
    "loader = PyPDFLoader('D:\\Projects\\LLM\\Createdb\\docs\\A Recent trend in SHM.pdf')\n",
    "docs = loader.load_and_split()\n",
    "text_splitter = tiktoken_splitter(docs)\n",
    "chunks = text_splitter.split_documents(docs)"
   ]
  },
  {
   "cell_type": "code",
   "execution_count": 90,
   "metadata": {},
   "outputs": [
    {
     "data": {
      "text/plain": [
       "[Document(page_content='http://ammtiac.alionscience.com TheAMMTIACQuarterly,Volume3,Number4 3\\nINTRODUCTION\\nThesubjectofstructuralhealthmonitoring(SHM)isemergingasanincreasinglyimportantcomponentofoverallNondestructiveEvaluation (NDE) programs and is now being considered forimplementationinavarietyofapplicationsincludingspacecraftcomponents, bridges, and aircraft. Over the past several years,\\ntherehavebeenanumberoflimiteddemonstrationsofSHMinactualfieldapplications.InadditiontotheArmy,NavyandAirForce,otherfederalagenciesinterestedinthistopicincludethe\\nFederalAviationAdministration,NASAandtheDepartmentofTransportation.Thedetectionofdamageatanylocationisacom-\\nmonchallengeinmostlargestructures,andthusSHMhaspoten-tial applications across a range of industrial sectors. Examplesincludethedetectionofimpactinduceddelaminationsincompos-\\nite aerospace structures, localized corrosion in petrochemical\\nplantsandunauthorizedpenetrationsofshippingcontainers.', metadata={'source': 'D:\\\\Projects\\\\LLM\\\\Createdb\\\\docs\\\\A Recent trend in SHM.pdf', 'page': 0}),\n",
       " Document(page_content='ite aerospace structures, localized corrosion in petrochemical\\nplantsandunauthorizedpenetrationsofshippingcontainers.\\nSuccessfulfieldimplementationofSHMhasnotbeenwidely\\nachievedanddependsonovercomingseveralroadblocksinclud-\\ning the development and demonstration of SHM sensors that\\nhavelongtermstabilityandreliability,validationofthecapabili-tyoftheSHMsystemsintermsoftheprobabilityofdetectionofflaws,andfinallytheintegrationoftheSHMsystemresultsinto\\nstructural and platform maintenance strategies. An increasingnumberofeffortsarefocusingonidentifyingtheseimplementa-tionissuesanddevelopingsolutionsforthem.TheArmy,Navyand Air Force recently sponsored a workshop to address theseissues.[1]Thebenefitsthatwillflowfromsuccessfulimplementa-tion of SHM will include: replacing schedule-based inspec-', metadata={'source': 'D:\\\\Projects\\\\LLM\\\\Createdb\\\\docs\\\\A Recent trend in SHM.pdf', 'page': 0}),\n",
       " Document(page_content='tion/maintenanceofastructurebycondition-basedmaintenance;significantlyreducinglife-cyclecost,andimprovingsafetyofnewaswellasagingaircraft,aerospace,andcivilstructures.\\nDefiningStructuralHealthMonitoring\\nSHMhasbeendefineddifferentlybyvariousresearchgroups.For\\ninstance,ithasbeendefinedasasystemwiththeabilitytodetect\\nandinterpretadverse“changes”inastructureinordertoimprove\\nreliabilityandreducelifecyclecosts.[2,3]Thegreatestchallenge\\nindesigningaSHMsystemisknowingwhat“changes”tolook\\nforandhowtoidentifythem.Thecharacteristicsofdamageina\\nparticularstructureplayakeyroleindefiningthearchitectureof\\ntheSHMsystem.Theresulting“changes,”ordamagesignature,\\nwilldictatethetypeofsensorsthatarerequired,whichinturndeterminestherequirementsfortherestofthecomponentsinthe\\nsystem. Much current research focuses on the relationship', metadata={'source': 'D:\\\\Projects\\\\LLM\\\\Createdb\\\\docs\\\\A Recent trend in SHM.pdf', 'page': 0}),\n",
       " Document(page_content='system. Much current research focuses on the relationship\\nbetweenvarioussensorsandtheirabilitytodetect“change”ina\\nstructure’sbehavior.AnotherauthordefinesSHMasthe“contin-uous,autonomousin-servicemonitoringofthephysicalcondi-\\ntion of a structure by means of embedded or attached sensors\\nwithminimummanualintervention,tomonitorthestructural\\nintegrity of the structure.”[4] SHM includes all monitoring\\naspectsrelatedtodamages,loads,conditions,etc.,whichhavea\\ndirectinfluenceonthestructure.Thesourcesoffaultscanresult\\nfromfatigue,corrosion,impacts,excessiveloads,unforeseencon-\\nditions,etc.Regardlessofthedefinition,however,allSHMsys-\\ntemsrequireacombinationofdataacquisitionbysensorsand\\nadequatecomputationalmodelsofthestructure.\\nFor aircraft applications, the uses of SHM technologies for\\nfutureaircraftwillnotonlyenablenewpossibilitiesformainte-', metadata={'source': 'D:\\\\Projects\\\\LLM\\\\Createdb\\\\docs\\\\A Recent trend in SHM.pdf', 'page': 0}),\n",
       " Document(page_content='For aircraft applications, the uses of SHM technologies for\\nfutureaircraftwillnotonlyenablenewpossibilitiesformainte-\\nnance concepts but will have a significant influence on designconceptsandassemblingtechnologies.SHMisexpectedtobeone\\nofthekeytechnologiesforcontrollingthestructuralintegrityoffuture aircraft, providing both maintenance and weight savingbenefits.SomeoftheadvantagesoverconventionalNDEinspec-\\ntionincludereducedinspectiondowntime,eliminationofcom-ponentteardown,andpotentialpreventionoffailureduringoper-\\nation.SHMislikelytobeusedinidentifyingfailuresinaircraft,whichwouldalsobeaboontothecommercialaircraftindustry.\\nEMERGINGSHMTECHNOLOGIESThefoundationofstructuralhealthmonitoringistheabilitytomonitorstructuresusingembeddedorattachednondestructiveevaluationsensorsandtoutilizethedatatoassessthestateofthe\\nstructure.Overthelasttenyearsresearchershavemadesignificant', metadata={'source': 'D:\\\\Projects\\\\LLM\\\\Createdb\\\\docs\\\\A Recent trend in SHM.pdf', 'page': 0}),\n",
       " Document(page_content='structure.Overthelasttenyearsresearchershavemadesignificant\\nadvancesindevelopingNDEsensorsforSHM,andtheyhave\\ndeveloped the hardware and software needed for analysis and\\ncommunicationoftheSHMresults.\\nTheNDESHMsensorsthathavereachedsomemodestdegree\\nofmaturingandareabletomonitorsignificantlylargeareasof\\nstructures include fiber optics, active ultrasonics, and passive\\nacousticemission.Eddycurrenttypesensorarrayshavealsobeenshowntobepotentiallyusefulinmonitoringlocalareasinelec-\\ntricallyconductingmaterials.\\nFiberOpticSensorsA2001studyreviewedtheearlydevelopmentoffiberBragggrat-\\ning(FBG)basedNDEsensorsandalsoprovidedanexplanationofthecomplexphysicalprincipalsunderlyingthesesensors.[5]\\nFiberopticsensorsgenerallyutilizealaserlightsourcetotransmit', metadata={'source': 'D:\\\\Projects\\\\LLM\\\\Createdb\\\\docs\\\\A Recent trend in SHM.pdf', 'page': 0}),\n",
       " Document(page_content='Fiberopticsensorsgenerallyutilizealaserlightsourcetotransmit\\nlightthroughthefiber,whichiseitherbondedtothesurfaceofa\\nstructureorembeddedinastructure.Theperturbationstothe\\nlaserlightinvolvingphase,amplitude,andfrequencyareafunc-\\ntionofthetemperatureandstressofthefiberoptic,whichareinH.ThomasYolken\\nGeorgeA.Matzkanin\\nAMMTIAC\\nRome,NY\\nhttp://ammtiac.alionscience.com/quarterly\\nhttp://ammtiac.alionscience.com/quarterly', metadata={'source': 'D:\\\\Projects\\\\LLM\\\\Createdb\\\\docs\\\\A Recent trend in SHM.pdf', 'page': 0}),\n",
       " Document(page_content='TheAMMTIACQuarterly,Volume3,Number44turnafunctionofthestateofthestructure.Overthepastsever-\\nalyears,FBGsensorshavebeenthesubjectofveryactiveR&D\\nandcommercialproductsarenowappearingonthemarket.FBG\\nsensorsareparticularlysuitedtofiberreinforcedpolymercom-positestructuressincethesmallfiberopticscanbeplacedinthecompositeduringitsmanufacture.\\nJapaneseresearchershavebeenparticularlyactiveindevelop-\\ningfiberopticsensorssystemsforSHM.[6-9]Perhapsthemost\\ninterestingworkinvolvedthestudyoftheapplicationofbothsurfacemountedandembeddedfiberopticdistributedsensorsto\\nfull-scale monitoring of large composite structures.[9] Theauthors monitored strain or temperature during compositemanufactureandstiffnessforin-servicestructuralperformance.\\nThecarbonfiberreinforcedplasticcompositestructuresstudied', metadata={'source': 'D:\\\\Projects\\\\LLM\\\\Createdb\\\\docs\\\\A Recent trend in SHM.pdf', 'page': 1}),\n",
       " Document(page_content='Thecarbonfiberreinforcedplasticcompositestructuresstudied\\nwere International America’s Cup Class (IACC) yachts and aJapaneseexperimentalreentryspacevehicle(HOPE-X).Inbothcases,fiberopticsensorswereusedtomeasurestrainandtemper-\\nature.Theauthorsconcludedthattheycouldmeasurestrainand\\ntemperature in these full-scale composite structures, and their\\nworkdemonstratedthegreatpotentialoffiberopticdistributedsensorsforSHMoflargestructures.Figure1showsthefuselageofthereentryvehiclethatwasmonitoredfortemperatureandstrain during the cure cycle and also for strain in subsequentstructuraltesting.\\nPassiveAcousticEmissionSensors\\nAcousticemissionsensorsareutilizedtodetectandmonitorthe\\nultrasonicwavesproducedbymaterialswhenmaterialsundergo\\ncrackingthatcanleadtostructurefailure.Bymeansoftriangula-\\ntion,anarrayofacousticemissionsensorsattachedtoastructure', metadata={'source': 'D:\\\\Projects\\\\LLM\\\\Createdb\\\\docs\\\\A Recent trend in SHM.pdf', 'page': 1}),\n",
       " Document(page_content='tion,anarrayofacousticemissionsensorsattachedtoastructure\\ncan be used to determine the location of growing cracks in a\\nstructure.Inaddition,highlysensitivefiberopticBraggsensors,\\neitherattachedtothesurfaceorembeddedinastructure,canbeusedtodetectacousticemissionsignals.\\nAs an example of the broad research and development of\\nacousticemissionsensorsforSHM,anewclassofcontinuously\\nactivefibercompositesensorswasdevelopedtodetectdamagein\\ncompositematerials.[10]Activefibercomposite(AFC)materialswereanewclassofmaterialsdevelopedatMITinthelate1990sandfurtherdevelopedatNASAasmicrofibercomposites(MFC)\\nforuseinactuatorapplications.AFCmaterialswerereconfiguredandfabricatedtomakelowcostsensorsthatcandetectstrain\\nlevels as well as acoustic emission signals. This resulted in a', metadata={'source': 'D:\\\\Projects\\\\LLM\\\\Createdb\\\\docs\\\\A Recent trend in SHM.pdf', 'page': 1}),\n",
       " Document(page_content='levels as well as acoustic emission signals. This resulted in a\\ntremendousreductioninthenumberofdataacquisitionchan-nelsneededforSHMoflargestructures,anditgreatlyincreases\\nthechanceofhavingacousticemissionsensorsnearanacoustic\\nemission source. Since ultrasonic waves generated by acoustic\\nemissioneventsattenuaterapidly,itisessentialtohaveasufficient\\ndistributionofsensorsincompositestructures.Theresponseof\\nAFCsensors(alsoknownaspiezoceramicactivefibersensors)was\\nmodeled,andtheresearchersdescribedhowtomanufacturethese\\nsensors.Figure2showsthedesignofa2x2sensorarrayusedby\\ntheresearchers.\\nTheauthorsconcludedthatAFCsensorswereabletodetect\\nactual damage propagation in a composite structure tested tofailurelongbeforethestructurefailed.Whencomparedtocon-ventionalacousticemissionsensorsorpiezoelectricpatchtrans-', metadata={'source': 'D:\\\\Projects\\\\LLM\\\\Createdb\\\\docs\\\\A Recent trend in SHM.pdf', 'page': 1}),\n",
       " Document(page_content='ducers,theAFCsensorsalsoshowedincreasedruggednessand\\ngreatlyimprovedunidirectionalsensingandhigherefficiency.\\nActiveUltrasonicSensorsResearchonactiveultrasonicsensorsforSHMhasreceiveda\\ngreatdealofattentionoverthelastseveralyearswithresearchers\\nfromseveralcountries,includingtheUnitedStates,theUnited\\nKingdom, France, Germany, and China, contributing to the\\nliterature.ManyoftheresearcheffortshavefocusedontheuseofultrasonicLambwavesforSHMortheuseofelectromechan-icalimpedancemethodsusingpiezoelectricwaveactivesensors.\\nAs an example, the optimization of piezoelectric ultrasonicpatchsensorsfortheLambwavemonitoringofcompositeswas', metadata={'source': 'D:\\\\Projects\\\\LLM\\\\Createdb\\\\docs\\\\A Recent trend in SHM.pdf', 'page': 1}),\n",
       " Document(page_content='As an example, the optimization of piezoelectric ultrasonicpatchsensorsfortheLambwavemonitoringofcompositeswas\\nstudied.[11]Theresearchersstudiedtheoptimizationmaterialsandconfigurationsforthistypeofsensorandcarriedouttheo-reticalandexperimentalstudiestodetermineanddemonstratethecapabilityofthesesensors.Theauthorsofthisresearchstat-edthattheywereabletogreatlyimprovetheperformanceofthisclassofsensors,andtheybelievedthattheirfurtherdevel-', metadata={'source': 'D:\\\\Projects\\\\LLM\\\\Createdb\\\\docs\\\\A Recent trend in SHM.pdf', 'page': 1}),\n",
       " Document(page_content='opmentofnewwaveletanalysistechniqueshavealsoenhancedsensorcapability.ItwasconcludedthatLambwavesprovideaverygoodtechniqueforSHMofcomposites,andtheywillbe\\nusedinfuturefieldapplications.\\nAsanotherexample,researchersinvestigatedmonitoringthe\\nchangesintheelectricalimpedanceofpiezoelectrictransducers\\nFigure2.Figure1.\\nContinuousSensorsArrangement(2x2Array)\\nChannel1\\nChannel2 DataAcquisition\\nSystem\\nDataAcquisition\\nSystem\\nDataAcquisitionSystem DataAcquisitionSystem\\nhttp://ammtiac.alionscience.com/quarterly\\nhttp://ammtiac.alionscience.com/quarterly', metadata={'source': 'D:\\\\Projects\\\\LLM\\\\Createdb\\\\docs\\\\A Recent trend in SHM.pdf', 'page': 1}),\n",
       " Document(page_content='http://ammtiac.alionscience.com TheAMMTIACQuarterly,Volume3,Number4 5asafunctionofdamageinstructures.[12]Physicalchangesin\\nthe structure cause changes in the mechanical impedance ofthe structure, and this is detected by changes in the electro-mechnicalcouplingofthepiezoelectricpatchtransducerseither\\nbonded to the surface orembedded in the structure.Figure 3 shows the interac-tion between a piezoelectrictransduceranditshoststruc-tureasdescribedinasimpleone-dimensionalmodel.\\nThe research concluded\\nthattheeffectivenessofsen-sorsforSHMusingchangesintheelectricalimpedanceofpiezoelectric transducers wassuccessfullydemonstrated.\\nSELECTEDSHMEXAMPLES\\nInthissection,selectedexamplesofapplicationsofSHMtoa\\nvarietyofstructuralsystemsareprovided,includingaircraftandaerospacesystems,spacevehicles,offshorestructures,andrailroad\\nsystems.\\nSeveral interesting examples of SHM applications have been', metadata={'source': 'D:\\\\Projects\\\\LLM\\\\Createdb\\\\docs\\\\A Recent trend in SHM.pdf', 'page': 2}),\n",
       " Document(page_content='systems.\\nSeveral interesting examples of SHM applications have been\\nreportedrecently.[13]Theseapplicationsarebasedonsignificantadvanceswhichhavebeenmadeinrecentyearstoevolvesensortechnologyfromconventionalelectricalstraingagestofiberopticstrain sensors. The technology, especially that associated withopticalFiberBraggGratings(FBG),hasrapidlymaturedwithanincreasingcommercialsupplierbase;thesize,weight,andcostoftheequipmenthasfallendramatically.ForinterrogatingmultipleFBG sensors on a single fiber, a time-division-multiplexing(TDM)interrogatorunithasbeendevelopedthatusesauniqueoptoelectronicarchitecturecapableofhighresolutionoverawideoperatingrange;itcaninterrogateover100gages,eachtotheir\\nfullrange,onasinglefiber.\\nInanaircraftapplication,anumberofFBGsonasingleopti-\\ncalfiberwereembeddedinboththewebandflangeofthefor-', metadata={'source': 'D:\\\\Projects\\\\LLM\\\\Createdb\\\\docs\\\\A Recent trend in SHM.pdf', 'page': 2}),\n",
       " Document(page_content='calfiberwereembeddedinboththewebandflangeofthefor-\\nwardsparofadevelopmentalcompositewingletforalargeciviltransportaircraft.[13]UsingtheTDMinterrogationsystem,theFBGsweresuccessfulinmeasuringthestraininthespar,includ-\\ningtheshockloadsinducedbybothlightningandbirdstrike\\ntests. The ability to detect strain during the lightning strike\\ndemonstratedthesystem’sresistancetotheeffectsofhighvoltage\\nelectricalpulses.\\nAnother SHM example involves application to offshore oil\\ndrillingoperations.[13]Indeepwateroperations,tidalcurrents\\ncancausevortexinducedvibrationsintheriserpipesthatbring\\ntheoilandgasfromtheseabedtothesurface.Thesevibrationsinducestrainsinthepipe,whichcanresultinprematurefatiguefailure.Therequirementwastomeasurethestraininducedina\\n6-inchdiametersteelriserpipeandtousetheresultantdatato', metadata={'source': 'D:\\\\Projects\\\\LLM\\\\Createdb\\\\docs\\\\A Recent trend in SHM.pdf', 'page': 2}),\n",
       " Document(page_content='6-inchdiametersteelriserpipeandtousetheresultantdatato\\nhelppredicttheresidualliferemainingintheriser.Toachievethisresult,anopticalfiberwasembeddedinacompositehalf\\nsectiontubethatcouldthenbestrappedtothepipeinsucha\\nwayastofollowtheshapeofthepipeasitflexed.Theoptical\\nfiberwasplacedsothattheFBGswerepositionedalongboth\\nedgesandthecenterlineofthehalfpipe.Theresultingsystemwasabletodetectstrainsdowntoonemicrostrainintheriserpipe.TheTDMinterrogatorwasmountedinacontainerfitted\\ntothehalfpipe,withdatabeingtransferredtothesurfaceusing\\nan electrical umbilical. The system has been successfully\\ndeployedatdepthsof6000feetonanoilplatformintheGulfof\\nMexico, and it has been in\\noperationformanymonths.\\nTheuseofultrasonictrans-\\nducers to monitor railroad', metadata={'source': 'D:\\\\Projects\\\\LLM\\\\Createdb\\\\docs\\\\A Recent trend in SHM.pdf', 'page': 2}),\n",
       " Document(page_content='operationformanymonths.\\nTheuseofultrasonictrans-\\nducers to monitor railroad\\nwheels for cracks has alsobeen investigated.[14] Theultrasonic signal is intro-ducedbythehighspeedcon-\\ntact of the steel railroadwheeltothesteeltrack,and\\nthe signal is detected by a\\nPZT transducer placed\\ninsidethehollowshaftofthe\\nwheelaxle.Thetransduceris\\nconfiguredtowithstandthecentrifugalforcesgeneratedbythe\\nrapidlyturningwheelandshaft.Thetransduceriscoupledtoa\\nwirelesstransmittersystemthatsendsdatatoanindustrialcom-\\nputer. After development, the SHM system was checked on a\\nrailroadtestbedrunbyaGermanrailroad.Thesystemiscapable\\nof operating at high wheel speeds, and it reproducibly detects\\ncracksinthewheels.', metadata={'source': 'D:\\\\Projects\\\\LLM\\\\Createdb\\\\docs\\\\A Recent trend in SHM.pdf', 'page': 2}),\n",
       " Document(page_content='of operating at high wheel speeds, and it reproducibly detects\\ncracksinthewheels.\\nTomeettheconcernsoftheintegrityofNASA’sSpaceShuttle\\nthermalprotectionsystem,acertifiedSHMsystemformonitor-\\ningimpactstotheReinforcedCarbon-Carbon(RCC)onthe\\nShuttle’swingleadingedgewasdeveloped.[15]Inaddition,a', metadata={'source': 'D:\\\\Projects\\\\LLM\\\\Createdb\\\\docs\\\\A Recent trend in SHM.pdf', 'page': 2}),\n",
       " Document(page_content='thermalprotectionsystem,acertifiedSHMsystemformonitor-\\ningimpactstotheReinforcedCarbon-Carbon(RCC)onthe\\nShuttle’swingleadingedgewasdeveloped.[15]Inaddition,a\\nlarge effort was described that focused on understanding thedamage that took place on Space Shuttle Columbia’s leading\\nedge,includinganumberofNDEtechniquesthatwereusedto\\nassesstheintegrityoftheShuttle’sleadingedgewhiletheywere\\ninstalledbetweenflights.\\nTheconventionalNDEtechniquesinvestigatedtoinspectthe\\nRCConthegroundincluded:advanceddigitalradiography,high\\nresolution computed tomography, thermography, ultrasound,\\nacousticemission,andeddycurrentsystems.Eddycurrentarray\\nscanningandthermographydemonstratedthematurityandcapa-\\nbilitytoinspecttheRCCfromonesidewhileinstalledonthe\\nShuttle,andthiswassuccessfullyfieldtestedatKennedySpace\\nCenter(KSC).', metadata={'source': 'D:\\\\Projects\\\\LLM\\\\Createdb\\\\docs\\\\A Recent trend in SHM.pdf', 'page': 2}),\n",
       " Document(page_content='Shuttle,andthiswassuccessfullyfieldtestedatKennedySpace\\nCenter(KSC).\\nThedevelopmentofafirstgenerationimpactsensingsystem\\nfortheShuttlewingRCCleadingedgewasalsoreported.Thissystem is capable of detecting impacts from foam, ice, and\\nablatormaterialsduringascentvelocities.Itisalsocapableof\\ndetectingsimulatedhypervelocitymicrometeoroidandorbital\\ndebris impacts during flight. The SHM system was basedon wireless accelerometer sensors that had previously been\\nqualified for use on the Shuttle for other applications. This\\naccelerometer based SHM system is now used on all Space\\nShuttle flights to help ensure the continued integrity of the\\nShuttlewing’sleadingedgeRCCsystem.[16]\\nCONCLUSIONSANDPROGNOSISOverthepastdecadetherehasbeenanimpressiveresearchand\\ndevelopmentcontributiontotheknowledgebaserequiredfor', metadata={'source': 'D:\\\\Projects\\\\LLM\\\\Createdb\\\\docs\\\\A Recent trend in SHM.pdf', 'page': 2}),\n",
       " Document(page_content='developmentcontributiontotheknowledgebaserequiredfor\\nstructuralhealthmonitoringtoassumeitsplaceinthemodernparadigm of nondestructive evaluation. This modern NDEFigure3.CPZTCoupledElectro-Mechanical\\nAdmittanceY=Re(Y)+j Ιm(Y)Ι=isin(ωt+φ)\\nV=vsin(ωt) MK\\nhttp://ammtiac.alionscience.com/quarterly\\nhttp://ammtiac.alionscience.com/quarterly', metadata={'source': 'D:\\\\Projects\\\\LLM\\\\Createdb\\\\docs\\\\A Recent trend in SHM.pdf', 'page': 2}),\n",
       " Document(page_content='TheAMMTIACQuarterly,Volume3,Number46paradigmviewsNDEasacontributortothesuccessful,fulllife\\ncycle of materials, components and systems. In this vision,\\nNDEcontributestoproductandprocessdesign,in-linemanu-\\nfacturing process control, after manufacturing inspection, in-serviceinspection,andstructuralhealthmonitoring.AslightlymoreexpansiveviewoftheNDEparadigmwouldbroadenthenameofstructuralhealthmonitoringtoincludealsofunctionalhealthmonitoring(S&FHM),sincemanycriticalcomponentsand systems have more than just a mechanical structuralrequirement.\\nTheSHMresearchanddevelopmentbasehasnowreacheda\\nmodestlevelofmaturitywithafoundationinfiberopticsensors,active ultrasonic sensors for guided Lamb waves and activemechanicalimpedancemeasurements,acousticemissionsensors,and wireless communications between sensors and a central\\nstation.InorderforSHMtotakeitsfullplaceinthemodernNDEparadigmandfullycontributetothemodernNDEpara-', metadata={'source': 'D:\\\\Projects\\\\LLM\\\\Createdb\\\\docs\\\\A Recent trend in SHM.pdf', 'page': 3}),\n",
       " Document(page_content='station.InorderforSHMtotakeitsfullplaceinthemodernNDEparadigmandfullycontributetothemodernNDEpara-\\ndigm,severalstepsneedtobetaken.Thesestepsinclude:\\n• AdditionalstudyofthelongtermstabilityofNDEsensors\\nembeddedorattachedtostructures,includingenvironmental\\neffects(e.g.,temperature)onthesensors;\\n• Development of quantitative information in the form of\\nPOD-typestudiesonthecapabilityofvariousSHMsystems\\nin a variety of applications, including the need for viablecalibrationstandardsandtechniques;\\n• Broaderscaleapplicationdemonstrationsonimportantstruc-\\nturesinarealisticfieldenvironmentoverareasonableperiod\\noftimeandcoveringavarietyofNDEsensors/SHMsystems\\nwith integration of results into structural/platform mainte-\\nnancestrategies;\\n• Development and promulgation of standards covering the\\nstandardpracticesneededforthewidespreadapplicationofSHM.', metadata={'source': 'D:\\\\Projects\\\\LLM\\\\Createdb\\\\docs\\\\A Recent trend in SHM.pdf', 'page': 3}),\n",
       " Document(page_content='• Development and promulgation of standards covering the\\nstandardpracticesneededforthewidespreadapplicationofSHM.\\nToacceleratethematurationofSHM,perhapsthesestepsdo\\nnothavetobemadeinsequencesincetakingsomeofthesestepsinparallelcouldleadtoafaster,successfulconclusion.Moving\\nSHMR&DintousefulapplicationwillrequireacommitmentonthepartofbothSHMtechnologydevelopersandpotentialusersofthetechnology.Thecosttorealizefullscale,usefulappli-cationwillmostlikelybesubstantialwhencomparedtothecostsassociatedwiththeR&Dthathasalreadytakenplace,sincethe\\ncost“snowballing”asR&Dismovedalongthepathtofulluse\\nisoftenthecaseratherthanararity.\\nREFERENCES\\n[1]Structural Health MonitoringWorkshop,SponsoredbyArmy,Navy,\\nandAirForce,AdministeredbytheAdvancedMaterials,Manufacturing', metadata={'source': 'D:\\\\Projects\\\\LLM\\\\Createdb\\\\docs\\\\A Recent trend in SHM.pdf', 'page': 3}),\n",
       " Document(page_content='andAirForce,AdministeredbytheAdvancedMaterials,Manufacturing\\n&TestingInformationAnalysisCenter(AMMTIAC),November18-20,\\n2008,Austin,TX.[2]Hall,S.R.,“TheEffectiveManagementandUseofStructuralHealthData,”Proceedingsofthe2ndInternationalWorkshoponStructuralHealth\\nMonitoring,1999,pp.265-275.[3] Kessler, S. S., S. M. Spearing, and C. Soutis, “Structural Health\\nMonitoring in Composite Materials using Lamb Wave Methods,”\\nSixteenth Technical Conference of the American Society for Composites ,\\nSeptember2001.\\n[4]Speckmann,H.,andH.Roesner,“StructualHealthMonitoring:A\\nContribution to the Intelligent Aircraft Structure,” Proceedings of', metadata={'source': 'D:\\\\Projects\\\\LLM\\\\Createdb\\\\docs\\\\A Recent trend in SHM.pdf', 'page': 3}),\n",
       " Document(page_content='Contribution to the Intelligent Aircraft Structure,” Proceedings of\\nECNDT 2006,9thEuropeanConferenceonNDT,Berlin,Germany,September2006.[5]Yolken,H.T.,andG.A.Matzkanin,“ATechnologyAssessmentof\\nBraggGratingFiberOpticBasedNondestructiveEvaluation(NDE),”\\nNTIAC-TA-01-02,September2001.\\n[6]Tsuda,H.,“UltrasoundandDamageDetectioninCFRPUsingFiber\\nBraggGratingSensors,” CompositesScienceandTechnology,Vol.66,pp.\\n676-683,2006.[7]Takeya,H.,T.Ozaki,andN.Takeda,“StructuralHealthMonitoringof Advanced Grid Structure Using Multi-point FBG Sensors,” Smart', metadata={'source': 'D:\\\\Projects\\\\LLM\\\\Createdb\\\\docs\\\\A Recent trend in SHM.pdf', 'page': 3}),\n",
       " Document(page_content='StructuresandMaterials2005:IndustrialandCommercialApplicationsofSmart Structures Technologies , Edited by E. V. White, Proceedings of\\nSPIE,Vol.5762,pp.204-211.[8]Kageyama,K.,I.Ohsawa,M.Kanai,Y.Machijima,F.Matsumura,\\nandK.Nagata,“DevelopmentofaNewFiber-OpticVibrationSensor\\nand its Application to Structural Health Monitoring of Composite\\nStructures,”NDE and Health Monitoring of Aerospace Materials and\\nCompositesII,A.L.Gykenyesi,P.J.Shull,Editors,ProceedingsofSPIE,\\nVol.5046,2003,pp.115-123.[9]Murayama,H.,K.Kageyama,K.Naruse,A.Shimada,andK.Uzawa,\\n“ApplicationofFiber-OpticDistributedSensorstoHealthMonitoring', metadata={'source': 'D:\\\\Projects\\\\LLM\\\\Createdb\\\\docs\\\\A Recent trend in SHM.pdf', 'page': 3}),\n",
       " Document(page_content='Vol.5046,2003,pp.115-123.[9]Murayama,H.,K.Kageyama,K.Naruse,A.Shimada,andK.Uzawa,\\n“ApplicationofFiber-OpticDistributedSensorstoHealthMonitoring\\nfor Full-scale Composite Structures,” Journal of Intelligent Material\\nSystemsandStructures,Vol.14,January2003,pp.3-13.\\n[10] Datta, S., G. R. Kirikera, M. J. Schulz, and M. J. Sundaresan,\\n“Continuous Sensors for Structural Health Monitoring,” NDE and\\nHealth Monitoring of Aerospace Materials and Composites II, A. L.\\nGykenyesi,R.J.Shull,Editors,ProceedingsofSPIE,Vol.5046,2003,\\npp.164-175.[11] Kessler, S. S., and C. T. Dunn, “Optimization of Lamb Wave', metadata={'source': 'D:\\\\Projects\\\\LLM\\\\Createdb\\\\docs\\\\A Recent trend in SHM.pdf', 'page': 3}),\n",
       " Document(page_content='pp.164-175.[11] Kessler, S. S., and C. T. Dunn, “Optimization of Lamb Wave\\nActuatingandSensingMaterialsforHealthMonitoringofCompositeStructures,”Smart Structures and Materials 2003: Smart Structures and\\nIntegratedSystems,A.M.Baz,Editor,ProceedingsofSPIE,Vol.5056,\\n2003,pp.123-133.[12]Park,G.,H.H.Cudney,andD.J.Inman,“AnIntegratedHealth\\nMonitoringTechnique Using Structural Impedance Sensors,” Journal of\\nIntelligentMaterialSystemsandStructures ,Vol.11,June2000,pp.448-455.\\n[13]Volanthen,M.,P.Foote,K.Diamanti,“DevelopmentofaPractical\\nOptical Fibre System for Health Monitoring Composite Structures,”', metadata={'source': 'D:\\\\Projects\\\\LLM\\\\Createdb\\\\docs\\\\A Recent trend in SHM.pdf', 'page': 3}),\n",
       " Document(page_content='Optical Fibre System for Health Monitoring Composite Structures,”\\nProceedings of 47th AIAA/ASME/ASCE/AHS/ASC Structures, Structural\\nDynamics,andMaterialsConference ,May2006,pp.6224-6233.\\n[14]Frankenstein,B.,D.Hentschel,E.Pridoehl,F.Schubert,“HollowShaft Integrated Health Monitoring System for Railroad Wheels,”\\nAdvancedSensorTechnologiesforNondestructiveEvaluationandStructural\\nHealth Monitoring, Edited by N. Meyendorf, G. Y Baaklini, and B.\\nMichel,ProceedingsofSPIE,Vol.5770,pp.46-55.\\n[15]Madaras,E.I.,W.P.Winfree,W.H.Prosser,R.A.Wincheski,K.\\nE. Cramer, “Nondestructive Evaluation for the Space Shuttle’s Wing', metadata={'source': 'D:\\\\Projects\\\\LLM\\\\Createdb\\\\docs\\\\A Recent trend in SHM.pdf', 'page': 3}),\n",
       " Document(page_content='E. Cramer, “Nondestructive Evaluation for the Space Shuttle’s Wing\\nLeadingEdge,” 41stAIAA/ASME/SAE/ASEEJointPropulsionConference\\n&Exhibit,July2005,AIAA2005-3630.\\n[16]PrivatecommunicationwithMadaras,etal.\\nErratumforAMMTIACQuarterly ,Vol.3,No.3, CommercialManufacturerBenefitsfromDoDTechnologyTransfer.Superfinishingwasnotdevel-\\nopedbytheArmy,butrathertheprocess,whichwasdevelopedintheprivatesector,wasappliedbytheArmytoimprovethesurfacefinishand\\nfatiguelifeofcomponentsinhelicoptertransmissions.\\nhttp://ammtiac.alionscience.com/quarterly\\nhttp://ammtiac.alionscience.com/quarterly', metadata={'source': 'D:\\\\Projects\\\\LLM\\\\Createdb\\\\docs\\\\A Recent trend in SHM.pdf', 'page': 3})]"
      ]
     },
     "execution_count": 90,
     "metadata": {},
     "output_type": "execute_result"
    }
   ],
   "source": [
    "chunks"
   ]
  },
  {
   "cell_type": "code",
   "execution_count": 78,
   "metadata": {},
   "outputs": [
    {
     "name": "stdout",
     "output_type": "stream",
     "text": [
      "Collecting faiss-cpu\n",
      "  Downloading faiss_cpu-1.8.0-cp311-cp311-win_amd64.whl.metadata (3.8 kB)\n",
      "Requirement already satisfied: numpy in d:\\projects\\llm\\.conda\\lib\\site-packages (from faiss-cpu) (1.26.4)\n",
      "Downloading faiss_cpu-1.8.0-cp311-cp311-win_amd64.whl (14.5 MB)\n",
      "   ---------------------------------------- 0.0/14.5 MB ? eta -:--:--\n",
      "   ---------------------------------------- 0.1/14.5 MB 2.3 MB/s eta 0:00:07\n",
      "    --------------------------------------- 0.2/14.5 MB 2.5 MB/s eta 0:00:06\n",
      "   - -------------------------------------- 0.5/14.5 MB 3.9 MB/s eta 0:00:04\n",
      "   - -------------------------------------- 0.7/14.5 MB 3.8 MB/s eta 0:00:04\n",
      "   -- ------------------------------------- 0.9/14.5 MB 3.7 MB/s eta 0:00:04\n",
      "   -- ------------------------------------- 1.0/14.5 MB 3.8 MB/s eta 0:00:04\n",
      "   --- ------------------------------------ 1.2/14.5 MB 3.7 MB/s eta 0:00:04\n",
      "   --- ------------------------------------ 1.4/14.5 MB 3.6 MB/s eta 0:00:04\n",
      "   --- ------------------------------------ 1.4/14.5 MB 3.4 MB/s eta 0:00:04\n",
      "   ---- ----------------------------------- 1.5/14.5 MB 3.4 MB/s eta 0:00:04\n",
      "   ---- ----------------------------------- 1.7/14.5 MB 3.4 MB/s eta 0:00:04\n",
      "   ----- ---------------------------------- 1.8/14.5 MB 3.3 MB/s eta 0:00:04\n",
      "   ----- ---------------------------------- 2.0/14.5 MB 3.3 MB/s eta 0:00:04\n",
      "   ----- ---------------------------------- 2.2/14.5 MB 3.4 MB/s eta 0:00:04\n",
      "   ------ --------------------------------- 2.3/14.5 MB 3.3 MB/s eta 0:00:04\n",
      "   ------ --------------------------------- 2.3/14.5 MB 3.3 MB/s eta 0:00:04\n",
      "   ------- -------------------------------- 2.7/14.5 MB 3.3 MB/s eta 0:00:04\n",
      "   ------- -------------------------------- 2.8/14.5 MB 3.3 MB/s eta 0:00:04\n",
      "   -------- ------------------------------- 3.0/14.5 MB 3.3 MB/s eta 0:00:04\n",
      "   -------- ------------------------------- 3.2/14.5 MB 3.3 MB/s eta 0:00:04\n",
      "   --------- ------------------------------ 3.3/14.5 MB 3.3 MB/s eta 0:00:04\n",
      "   --------- ------------------------------ 3.5/14.5 MB 3.4 MB/s eta 0:00:04\n",
      "   ---------- ----------------------------- 3.7/14.5 MB 3.4 MB/s eta 0:00:04\n",
      "   ---------- ----------------------------- 3.8/14.5 MB 3.4 MB/s eta 0:00:04\n",
      "   ---------- ----------------------------- 3.9/14.5 MB 3.3 MB/s eta 0:00:04\n",
      "   ----------- ---------------------------- 4.0/14.5 MB 3.2 MB/s eta 0:00:04\n",
      "   ----------- ---------------------------- 4.3/14.5 MB 3.3 MB/s eta 0:00:04\n",
      "   ------------ --------------------------- 4.4/14.5 MB 3.3 MB/s eta 0:00:04\n",
      "   ------------ --------------------------- 4.5/14.5 MB 3.3 MB/s eta 0:00:04\n",
      "   ------------- -------------------------- 4.9/14.5 MB 3.4 MB/s eta 0:00:03\n",
      "   ------------- -------------------------- 4.9/14.5 MB 3.3 MB/s eta 0:00:03\n",
      "   -------------- ------------------------- 5.1/14.5 MB 3.3 MB/s eta 0:00:03\n",
      "   -------------- ------------------------- 5.2/14.5 MB 3.3 MB/s eta 0:00:03\n",
      "   -------------- ------------------------- 5.2/14.5 MB 3.3 MB/s eta 0:00:03\n",
      "   -------------- ------------------------- 5.4/14.5 MB 3.2 MB/s eta 0:00:03\n",
      "   --------------- ------------------------ 5.5/14.5 MB 3.2 MB/s eta 0:00:03\n",
      "   --------------- ------------------------ 5.6/14.5 MB 3.1 MB/s eta 0:00:03\n",
      "   --------------- ------------------------ 5.7/14.5 MB 3.1 MB/s eta 0:00:03\n",
      "   --------------- ------------------------ 5.8/14.5 MB 3.1 MB/s eta 0:00:03\n",
      "   ---------------- ----------------------- 5.8/14.5 MB 3.0 MB/s eta 0:00:03\n",
      "   ---------------- ----------------------- 5.9/14.5 MB 3.0 MB/s eta 0:00:03\n",
      "   ---------------- ----------------------- 6.0/14.5 MB 3.0 MB/s eta 0:00:03\n",
      "   ---------------- ----------------------- 6.1/14.5 MB 3.0 MB/s eta 0:00:03\n",
      "   ----------------- ---------------------- 6.2/14.5 MB 2.9 MB/s eta 0:00:03\n",
      "   ----------------- ---------------------- 6.2/14.5 MB 2.9 MB/s eta 0:00:03\n",
      "   ----------------- ---------------------- 6.3/14.5 MB 2.9 MB/s eta 0:00:03\n",
      "   ----------------- ---------------------- 6.4/14.5 MB 2.9 MB/s eta 0:00:03\n",
      "   ----------------- ---------------------- 6.5/14.5 MB 2.8 MB/s eta 0:00:03\n",
      "   ------------------ --------------------- 6.6/14.5 MB 2.8 MB/s eta 0:00:03\n",
      "   ------------------ --------------------- 6.6/14.5 MB 2.8 MB/s eta 0:00:03\n",
      "   ------------------ --------------------- 6.7/14.5 MB 2.7 MB/s eta 0:00:03\n",
      "   ------------------ --------------------- 6.7/14.5 MB 2.7 MB/s eta 0:00:03\n",
      "   ------------------ --------------------- 6.7/14.5 MB 2.7 MB/s eta 0:00:03\n",
      "   ------------------ --------------------- 6.7/14.5 MB 2.7 MB/s eta 0:00:03\n",
      "   ------------------ --------------------- 6.9/14.5 MB 2.6 MB/s eta 0:00:03\n",
      "   ------------------ --------------------- 6.9/14.5 MB 2.6 MB/s eta 0:00:03\n",
      "   ------------------- -------------------- 7.1/14.5 MB 2.6 MB/s eta 0:00:03\n",
      "   ------------------- -------------------- 7.1/14.5 MB 2.6 MB/s eta 0:00:03\n",
      "   ------------------- -------------------- 7.2/14.5 MB 2.6 MB/s eta 0:00:03\n",
      "   -------------------- ------------------- 7.3/14.5 MB 2.5 MB/s eta 0:00:03\n",
      "   -------------------- ------------------- 7.3/14.5 MB 2.5 MB/s eta 0:00:03\n",
      "   -------------------- ------------------- 7.4/14.5 MB 2.5 MB/s eta 0:00:03\n",
      "   -------------------- ------------------- 7.5/14.5 MB 2.5 MB/s eta 0:00:03\n",
      "   -------------------- ------------------- 7.5/14.5 MB 2.5 MB/s eta 0:00:03\n",
      "   -------------------- ------------------- 7.6/14.5 MB 2.5 MB/s eta 0:00:03\n",
      "   --------------------- ------------------ 7.7/14.5 MB 2.5 MB/s eta 0:00:03\n",
      "   --------------------- ------------------ 7.8/14.5 MB 2.5 MB/s eta 0:00:03\n",
      "   --------------------- ------------------ 7.8/14.5 MB 2.4 MB/s eta 0:00:03\n",
      "   --------------------- ------------------ 7.9/14.5 MB 2.4 MB/s eta 0:00:03\n",
      "   ---------------------- ----------------- 8.0/14.5 MB 2.4 MB/s eta 0:00:03\n",
      "   ---------------------- ----------------- 8.1/14.5 MB 2.4 MB/s eta 0:00:03\n",
      "   ---------------------- ----------------- 8.2/14.5 MB 2.4 MB/s eta 0:00:03\n",
      "   ---------------------- ----------------- 8.3/14.5 MB 2.4 MB/s eta 0:00:03\n",
      "   ----------------------- ---------------- 8.4/14.5 MB 2.4 MB/s eta 0:00:03\n",
      "   ----------------------- ---------------- 8.4/14.5 MB 2.4 MB/s eta 0:00:03\n",
      "   ----------------------- ---------------- 8.5/14.5 MB 2.4 MB/s eta 0:00:03\n",
      "   ----------------------- ---------------- 8.6/14.5 MB 2.3 MB/s eta 0:00:03\n",
      "   ----------------------- ---------------- 8.7/14.5 MB 2.3 MB/s eta 0:00:03\n",
      "   ------------------------ --------------- 8.8/14.5 MB 2.3 MB/s eta 0:00:03\n",
      "   ------------------------ --------------- 8.8/14.5 MB 2.3 MB/s eta 0:00:03\n",
      "   ------------------------ --------------- 9.0/14.5 MB 2.3 MB/s eta 0:00:03\n",
      "   ------------------------ --------------- 9.0/14.5 MB 2.3 MB/s eta 0:00:03\n",
      "   ------------------------- -------------- 9.1/14.5 MB 2.3 MB/s eta 0:00:03\n",
      "   ------------------------- -------------- 9.2/14.5 MB 2.3 MB/s eta 0:00:03\n",
      "   ------------------------- -------------- 9.3/14.5 MB 2.3 MB/s eta 0:00:03\n",
      "   ------------------------- -------------- 9.4/14.5 MB 2.3 MB/s eta 0:00:03\n",
      "   -------------------------- ------------- 9.4/14.5 MB 2.3 MB/s eta 0:00:03\n",
      "   -------------------------- ------------- 9.5/14.5 MB 2.3 MB/s eta 0:00:03\n",
      "   -------------------------- ------------- 9.6/14.5 MB 2.3 MB/s eta 0:00:03\n",
      "   -------------------------- ------------- 9.7/14.5 MB 2.3 MB/s eta 0:00:03\n",
      "   -------------------------- ------------- 9.7/14.5 MB 2.3 MB/s eta 0:00:03\n",
      "   -------------------------- ------------- 9.7/14.5 MB 2.3 MB/s eta 0:00:03\n",
      "   --------------------------- ------------ 9.9/14.5 MB 2.2 MB/s eta 0:00:03\n",
      "   --------------------------- ------------ 9.9/14.5 MB 2.2 MB/s eta 0:00:03\n",
      "   --------------------------- ------------ 10.0/14.5 MB 2.2 MB/s eta 0:00:03\n",
      "   --------------------------- ------------ 10.1/14.5 MB 2.2 MB/s eta 0:00:02\n",
      "   ---------------------------- ----------- 10.2/14.5 MB 2.2 MB/s eta 0:00:02\n",
      "   ---------------------------- ----------- 10.4/14.5 MB 2.2 MB/s eta 0:00:02\n",
      "   ---------------------------- ----------- 10.4/14.5 MB 2.2 MB/s eta 0:00:02\n",
      "   ----------------------------- ---------- 10.5/14.5 MB 2.2 MB/s eta 0:00:02\n",
      "   ----------------------------- ---------- 10.6/14.5 MB 2.2 MB/s eta 0:00:02\n",
      "   ----------------------------- ---------- 10.6/14.5 MB 2.2 MB/s eta 0:00:02\n",
      "   ----------------------------- ---------- 10.7/14.5 MB 2.1 MB/s eta 0:00:02\n",
      "   ----------------------------- ---------- 10.8/14.5 MB 2.1 MB/s eta 0:00:02\n",
      "   ----------------------------- ---------- 10.8/14.5 MB 2.1 MB/s eta 0:00:02\n",
      "   ------------------------------ --------- 11.0/14.5 MB 2.1 MB/s eta 0:00:02\n",
      "   ------------------------------ --------- 11.0/14.5 MB 2.1 MB/s eta 0:00:02\n",
      "   ------------------------------ --------- 11.1/14.5 MB 2.1 MB/s eta 0:00:02\n",
      "   ------------------------------ --------- 11.2/14.5 MB 2.1 MB/s eta 0:00:02\n",
      "   ------------------------------ --------- 11.2/14.5 MB 2.1 MB/s eta 0:00:02\n",
      "   ------------------------------- -------- 11.3/14.5 MB 2.1 MB/s eta 0:00:02\n",
      "   ------------------------------- -------- 11.3/14.5 MB 2.0 MB/s eta 0:00:02\n",
      "   ------------------------------- -------- 11.3/14.5 MB 2.0 MB/s eta 0:00:02\n",
      "   ------------------------------- -------- 11.4/14.5 MB 2.0 MB/s eta 0:00:02\n",
      "   ------------------------------- -------- 11.4/14.5 MB 2.0 MB/s eta 0:00:02\n",
      "   ------------------------------- -------- 11.4/14.5 MB 2.0 MB/s eta 0:00:02\n",
      "   ------------------------------- -------- 11.5/14.5 MB 2.0 MB/s eta 0:00:02\n",
      "   ------------------------------- -------- 11.5/14.5 MB 1.9 MB/s eta 0:00:02\n",
      "   ------------------------------- -------- 11.5/14.5 MB 1.9 MB/s eta 0:00:02\n",
      "   ------------------------------- -------- 11.5/14.5 MB 1.9 MB/s eta 0:00:02\n",
      "   ------------------------------- -------- 11.6/14.5 MB 1.9 MB/s eta 0:00:02\n",
      "   ------------------------------- -------- 11.6/14.5 MB 1.9 MB/s eta 0:00:02\n",
      "   -------------------------------- ------- 11.6/14.5 MB 1.9 MB/s eta 0:00:02\n",
      "   -------------------------------- ------- 11.6/14.5 MB 1.9 MB/s eta 0:00:02\n",
      "   -------------------------------- ------- 11.7/14.5 MB 1.8 MB/s eta 0:00:02\n",
      "   -------------------------------- ------- 11.7/14.5 MB 1.8 MB/s eta 0:00:02\n",
      "   -------------------------------- ------- 11.7/14.5 MB 1.8 MB/s eta 0:00:02\n",
      "   -------------------------------- ------- 11.7/14.5 MB 1.8 MB/s eta 0:00:02\n",
      "   -------------------------------- ------- 11.7/14.5 MB 1.8 MB/s eta 0:00:02\n",
      "   -------------------------------- ------- 11.7/14.5 MB 1.8 MB/s eta 0:00:02\n",
      "   -------------------------------- ------- 11.7/14.5 MB 1.8 MB/s eta 0:00:02\n",
      "   -------------------------------- ------- 11.8/14.5 MB 1.7 MB/s eta 0:00:02\n",
      "   -------------------------------- ------- 11.8/14.5 MB 1.7 MB/s eta 0:00:02\n",
      "   -------------------------------- ------- 11.8/14.5 MB 1.7 MB/s eta 0:00:02\n",
      "   -------------------------------- ------- 11.8/14.5 MB 1.7 MB/s eta 0:00:02\n",
      "   -------------------------------- ------- 11.8/14.5 MB 1.7 MB/s eta 0:00:02\n",
      "   -------------------------------- ------- 11.8/14.5 MB 1.7 MB/s eta 0:00:02\n",
      "   -------------------------------- ------- 11.8/14.5 MB 1.7 MB/s eta 0:00:02\n",
      "   -------------------------------- ------- 11.9/14.5 MB 1.6 MB/s eta 0:00:02\n",
      "   -------------------------------- ------- 11.9/14.5 MB 1.6 MB/s eta 0:00:02\n",
      "   -------------------------------- ------- 11.9/14.5 MB 1.6 MB/s eta 0:00:02\n",
      "   -------------------------------- ------- 12.0/14.5 MB 1.6 MB/s eta 0:00:02\n",
      "   -------------------------------- ------- 12.0/14.5 MB 1.6 MB/s eta 0:00:02\n",
      "   --------------------------------- ------ 12.0/14.5 MB 1.6 MB/s eta 0:00:02\n",
      "   --------------------------------- ------ 12.0/14.5 MB 1.6 MB/s eta 0:00:02\n",
      "   --------------------------------- ------ 12.0/14.5 MB 1.6 MB/s eta 0:00:02\n",
      "   --------------------------------- ------ 12.0/14.5 MB 1.6 MB/s eta 0:00:02\n",
      "   --------------------------------- ------ 12.0/14.5 MB 1.6 MB/s eta 0:00:02\n",
      "   --------------------------------- ------ 12.1/14.5 MB 1.5 MB/s eta 0:00:02\n",
      "   --------------------------------- ------ 12.1/14.5 MB 1.5 MB/s eta 0:00:02\n",
      "   --------------------------------- ------ 12.1/14.5 MB 1.5 MB/s eta 0:00:02\n",
      "   --------------------------------- ------ 12.1/14.5 MB 1.5 MB/s eta 0:00:02\n",
      "   --------------------------------- ------ 12.1/14.5 MB 1.5 MB/s eta 0:00:02\n",
      "   --------------------------------- ------ 12.2/14.5 MB 1.5 MB/s eta 0:00:02\n",
      "   --------------------------------- ------ 12.2/14.5 MB 1.5 MB/s eta 0:00:02\n",
      "   --------------------------------- ------ 12.2/14.5 MB 1.5 MB/s eta 0:00:02\n",
      "   --------------------------------- ------ 12.2/14.5 MB 1.5 MB/s eta 0:00:02\n",
      "   --------------------------------- ------ 12.3/14.5 MB 1.5 MB/s eta 0:00:02\n",
      "   --------------------------------- ------ 12.3/14.5 MB 1.5 MB/s eta 0:00:02\n",
      "   --------------------------------- ------ 12.3/14.5 MB 1.5 MB/s eta 0:00:02\n",
      "   --------------------------------- ------ 12.3/14.5 MB 1.5 MB/s eta 0:00:02\n",
      "   ---------------------------------- ----- 12.3/14.5 MB 1.4 MB/s eta 0:00:02\n",
      "   ---------------------------------- ----- 12.4/14.5 MB 1.4 MB/s eta 0:00:02\n",
      "   ---------------------------------- ----- 12.4/14.5 MB 1.4 MB/s eta 0:00:02\n",
      "   ---------------------------------- ----- 12.4/14.5 MB 1.4 MB/s eta 0:00:02\n",
      "   ---------------------------------- ----- 12.4/14.5 MB 1.4 MB/s eta 0:00:02\n",
      "   ---------------------------------- ----- 12.5/14.5 MB 1.4 MB/s eta 0:00:02\n",
      "   ---------------------------------- ----- 12.5/14.5 MB 1.4 MB/s eta 0:00:02\n",
      "   ---------------------------------- ----- 12.5/14.5 MB 1.4 MB/s eta 0:00:02\n",
      "   ---------------------------------- ----- 12.5/14.5 MB 1.4 MB/s eta 0:00:02\n",
      "   ---------------------------------- ----- 12.6/14.5 MB 1.4 MB/s eta 0:00:02\n",
      "   ---------------------------------- ----- 12.6/14.5 MB 1.4 MB/s eta 0:00:02\n",
      "   ---------------------------------- ----- 12.6/14.5 MB 1.4 MB/s eta 0:00:02\n",
      "   ---------------------------------- ----- 12.6/14.5 MB 1.4 MB/s eta 0:00:02\n",
      "   ---------------------------------- ----- 12.6/14.5 MB 1.4 MB/s eta 0:00:02\n",
      "   ----------------------------------- ---- 12.7/14.5 MB 1.3 MB/s eta 0:00:02\n",
      "   ----------------------------------- ---- 12.7/14.5 MB 1.3 MB/s eta 0:00:02\n",
      "   ----------------------------------- ---- 12.8/14.5 MB 1.3 MB/s eta 0:00:02\n",
      "   ----------------------------------- ---- 12.8/14.5 MB 1.3 MB/s eta 0:00:02\n",
      "   ----------------------------------- ---- 12.8/14.5 MB 1.3 MB/s eta 0:00:02\n",
      "   ----------------------------------- ---- 12.8/14.5 MB 1.3 MB/s eta 0:00:02\n",
      "   ----------------------------------- ---- 12.9/14.5 MB 1.3 MB/s eta 0:00:02\n",
      "   ----------------------------------- ---- 12.9/14.5 MB 1.3 MB/s eta 0:00:02\n",
      "   ----------------------------------- ---- 12.9/14.5 MB 1.3 MB/s eta 0:00:02\n",
      "   ----------------------------------- ---- 12.9/14.5 MB 1.3 MB/s eta 0:00:02\n",
      "   ----------------------------------- ---- 13.0/14.5 MB 1.3 MB/s eta 0:00:02\n",
      "   ----------------------------------- ---- 13.0/14.5 MB 1.3 MB/s eta 0:00:02\n",
      "   ----------------------------------- ---- 13.0/14.5 MB 1.3 MB/s eta 0:00:02\n",
      "   ------------------------------------ --- 13.1/14.5 MB 1.2 MB/s eta 0:00:02\n",
      "   ------------------------------------ --- 13.1/14.5 MB 1.2 MB/s eta 0:00:02\n",
      "   ------------------------------------ --- 13.1/14.5 MB 1.2 MB/s eta 0:00:02\n",
      "   ------------------------------------ --- 13.1/14.5 MB 1.2 MB/s eta 0:00:02\n",
      "   ------------------------------------ --- 13.1/14.5 MB 1.2 MB/s eta 0:00:02\n",
      "   ------------------------------------ --- 13.2/14.5 MB 1.2 MB/s eta 0:00:02\n",
      "   ------------------------------------ --- 13.2/14.5 MB 1.2 MB/s eta 0:00:02\n",
      "   ------------------------------------ --- 13.2/14.5 MB 1.2 MB/s eta 0:00:02\n",
      "   ------------------------------------ --- 13.3/14.5 MB 1.2 MB/s eta 0:00:02\n",
      "   ------------------------------------ --- 13.3/14.5 MB 1.2 MB/s eta 0:00:02\n",
      "   ------------------------------------ --- 13.3/14.5 MB 1.2 MB/s eta 0:00:02\n",
      "   ------------------------------------ --- 13.3/14.5 MB 1.2 MB/s eta 0:00:01\n",
      "   ------------------------------------ --- 13.3/14.5 MB 1.2 MB/s eta 0:00:01\n",
      "   ------------------------------------ --- 13.4/14.5 MB 1.2 MB/s eta 0:00:01\n",
      "   ------------------------------------ --- 13.4/14.5 MB 1.2 MB/s eta 0:00:01\n",
      "   ------------------------------------ --- 13.4/14.5 MB 1.2 MB/s eta 0:00:01\n",
      "   ------------------------------------ --- 13.4/14.5 MB 1.2 MB/s eta 0:00:01\n",
      "   ------------------------------------- -- 13.5/14.5 MB 1.2 MB/s eta 0:00:01\n",
      "   ------------------------------------- -- 13.5/14.5 MB 1.1 MB/s eta 0:00:01\n",
      "   ------------------------------------- -- 13.5/14.5 MB 1.1 MB/s eta 0:00:01\n",
      "   ------------------------------------- -- 13.5/14.5 MB 1.1 MB/s eta 0:00:01\n",
      "   ------------------------------------- -- 13.6/14.5 MB 1.1 MB/s eta 0:00:01\n",
      "   ------------------------------------- -- 13.6/14.5 MB 1.1 MB/s eta 0:00:01\n",
      "   ------------------------------------- -- 13.6/14.5 MB 1.1 MB/s eta 0:00:01\n",
      "   ------------------------------------- -- 13.6/14.5 MB 1.1 MB/s eta 0:00:01\n",
      "   ------------------------------------- -- 13.6/14.5 MB 1.1 MB/s eta 0:00:01\n",
      "   ------------------------------------- -- 13.7/14.5 MB 1.1 MB/s eta 0:00:01\n",
      "   ------------------------------------- -- 13.7/14.5 MB 1.1 MB/s eta 0:00:01\n",
      "   ------------------------------------- -- 13.7/14.5 MB 1.1 MB/s eta 0:00:01\n",
      "   ------------------------------------- -- 13.8/14.5 MB 1.1 MB/s eta 0:00:01\n",
      "   -------------------------------------- - 13.8/14.5 MB 1.1 MB/s eta 0:00:01\n",
      "   -------------------------------------- - 13.8/14.5 MB 1.1 MB/s eta 0:00:01\n",
      "   -------------------------------------- - 13.8/14.5 MB 1.1 MB/s eta 0:00:01\n",
      "   -------------------------------------- - 13.9/14.5 MB 1.1 MB/s eta 0:00:01\n",
      "   -------------------------------------- - 13.9/14.5 MB 1.1 MB/s eta 0:00:01\n",
      "   -------------------------------------- - 13.9/14.5 MB 1.1 MB/s eta 0:00:01\n",
      "   -------------------------------------- - 14.0/14.5 MB 1.1 MB/s eta 0:00:01\n",
      "   -------------------------------------- - 14.0/14.5 MB 1.1 MB/s eta 0:00:01\n",
      "   -------------------------------------- - 14.0/14.5 MB 1.1 MB/s eta 0:00:01\n",
      "   -------------------------------------- - 14.1/14.5 MB 1.0 MB/s eta 0:00:01\n",
      "   -------------------------------------- - 14.1/14.5 MB 1.0 MB/s eta 0:00:01\n",
      "   -------------------------------------- - 14.1/14.5 MB 1.0 MB/s eta 0:00:01\n",
      "   ---------------------------------------  14.2/14.5 MB 1.0 MB/s eta 0:00:01\n",
      "   ---------------------------------------  14.2/14.5 MB 1.0 MB/s eta 0:00:01\n",
      "   ---------------------------------------  14.2/14.5 MB 1.0 MB/s eta 0:00:01\n",
      "   ---------------------------------------  14.3/14.5 MB 1.0 MB/s eta 0:00:01\n",
      "   ---------------------------------------  14.3/14.5 MB 1.0 MB/s eta 0:00:01\n",
      "   ---------------------------------------  14.3/14.5 MB 1.0 MB/s eta 0:00:01\n",
      "   ---------------------------------------  14.3/14.5 MB 1.0 MB/s eta 0:00:01\n",
      "   ---------------------------------------  14.4/14.5 MB 1.0 MB/s eta 0:00:01\n",
      "   ---------------------------------------  14.4/14.5 MB 1.0 MB/s eta 0:00:01\n",
      "   ---------------------------------------  14.4/14.5 MB 1.0 MB/s eta 0:00:01\n",
      "   ---------------------------------------  14.4/14.5 MB 1.0 MB/s eta 0:00:01\n",
      "   ---------------------------------------  14.5/14.5 MB 996.5 kB/s eta 0:00:01\n",
      "   ---------------------------------------  14.5/14.5 MB 991.9 kB/s eta 0:00:01\n",
      "   ---------------------------------------  14.5/14.5 MB 991.9 kB/s eta 0:00:01\n",
      "   ---------------------------------------- 14.5/14.5 MB 982.2 kB/s eta 0:00:00\n",
      "Installing collected packages: faiss-cpu\n",
      "Successfully installed faiss-cpu-1.8.0\n"
     ]
    }
   ],
   "source": [
    "!pip install faiss-cpu"
   ]
  },
  {
   "cell_type": "code",
   "execution_count": 91,
   "metadata": {},
   "outputs": [],
   "source": [
    "from sentence_transformers import SentenceTransformer\n",
    "from langchain.vectorstores import FAISS\n",
    "from langchain.embeddings import HuggingFaceEmbeddings\n",
    "# model = SentenceTransformer('sentence-transformers/all-MiniLM-L6-v2')\n",
    "embeddings = HuggingFaceEmbeddings(model_name='sentence-transformers/all-MiniLM-L6-v2')\n",
    "faiss_index = FAISS.from_string(chunks,embeddings)\n",
    "faiss_index_name = 'faiss-index-incremental'\n",
    "faiss_index.save_local(faiss_index_name)"
   ]
  },
  {
   "cell_type": "code",
   "execution_count": 92,
   "metadata": {},
   "outputs": [],
   "source": [
    "query = \"What are active Ultrasonic Sensors\"\n",
    "docs = faiss_index.similarity_search(query)"
   ]
  },
  {
   "cell_type": "code",
   "execution_count": 94,
   "metadata": {},
   "outputs": [
    {
     "name": "stdout",
     "output_type": "stream",
     "text": [
      "levels as well as acoustic emission signals. This resulted in a\n",
      "tremendousreductioninthenumberofdataacquisitionchan-nelsneededforSHMoflargestructures,anditgreatlyincreases\n",
      "thechanceofhavingacousticemissionsensorsnearanacoustic\n",
      "emission source. Since ultrasonic waves generated by acoustic\n",
      "emissioneventsattenuaterapidly,itisessentialtohaveasufficient\n",
      "distributionofsensorsincompositestructures.Theresponseof\n",
      "AFCsensors(alsoknownaspiezoceramicactivefibersensors)was\n",
      "modeled,andtheresearchersdescribedhowtomanufacturethese\n",
      "sensors.Figure2showsthedesignofa2x2sensorarrayusedby\n",
      "theresearchers.\n",
      "TheauthorsconcludedthatAFCsensorswereabletodetect\n",
      "actual damage propagation in a composite structure tested tofailurelongbeforethestructurefailed.Whencomparedtocon-ventionalacousticemissionsensorsorpiezoelectricpatchtrans-\n"
     ]
    }
   ],
   "source": [
    "print(docs[0].page_content)"
   ]
  },
  {
   "cell_type": "code",
   "execution_count": null,
   "metadata": {},
   "outputs": [],
   "source": []
  }
 ],
 "metadata": {
  "kernelspec": {
   "display_name": "Python 3",
   "language": "python",
   "name": "python3"
  },
  "language_info": {
   "codemirror_mode": {
    "name": "ipython",
    "version": 3
   },
   "file_extension": ".py",
   "mimetype": "text/x-python",
   "name": "python",
   "nbconvert_exporter": "python",
   "pygments_lexer": "ipython3",
   "version": "3.11.7"
  }
 },
 "nbformat": 4,
 "nbformat_minor": 2
}
